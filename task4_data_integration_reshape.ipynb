{
 "cells": [
  {
   "cell_type": "markdown",
   "metadata": {},
   "source": [
    "#  Data Integration and Reshape\n",
    "\n",
    "#### Name: Bolin Yang\n",
    "\n",
    "Date: 20190613\n",
    "\n",
    "Environment: Python 3.7 and Jupyter notebook\n",
    "Libraries used: \n",
    "* re (for regular expression) \n",
    "* pandas\n",
    "* sklearn\n",
    "* numpy\n",
    "* datetime\n",
    "* matplotlib\n",
    "* codecs\n",
    "* fiona\n",
    "* shapely.geometry\n",
    "* geopy (for calculate geographic distance, might need pip install)\n",
    "* sklearn"
   ]
  },
  {
   "cell_type": "markdown",
   "metadata": {},
   "source": [
    "# Task 1: Data Integration"
   ]
  },
  {
   "cell_type": "markdown",
   "metadata": {},
   "source": [
    "## 1. Introduction\n",
    "In this task, you are required to integrate these datasets into one with the following schema."
   ]
  },
  {
   "cell_type": "markdown",
   "metadata": {},
   "source": [
    "## 2. Import library"
   ]
  },
  {
   "cell_type": "code",
   "execution_count": 4,
   "metadata": {},
   "outputs": [],
   "source": [
    "import pandas as pd\n",
    "import numpy as np\n",
    "import re\n",
    "import codecs\n",
    "from datetime import datetime\n",
    "from datetime import time\n",
    "from dateutil import parser\n",
    "#GTFS\n",
    "import fiona\n",
    "from shapely.geometry import MultiPoint, Point, Polygon,shape, MultiPolygon\n",
    "from shapely.geometry.polygon import Polygon\n",
    "import math\n",
    "# Visualisation\n",
    "import matplotlib as mpl\n",
    "import matplotlib.pyplot as plt\n",
    "# Configure visualisations\n",
    "%matplotlib inline\n",
    "#linear model\n",
    "from sklearn.linear_model import LinearRegression\n",
    "from sklearn.model_selection import train_test_split\n",
    "from sklearn.metrics import mean_squared_error"
   ]
  },
  {
   "cell_type": "markdown",
   "metadata": {},
   "source": [
    "## 3.Read file "
   ]
  },
  {
   "cell_type": "markdown",
   "metadata": {},
   "source": [
    "#### Read data file and simply see the value of each column"
   ]
  },
  {
   "cell_type": "code",
   "execution_count": 2,
   "metadata": {},
   "outputs": [],
   "source": [
    "pd.set_option(\"precision\",9)"
   ]
  },
  {
   "cell_type": "code",
   "execution_count": 6,
   "metadata": {},
   "outputs": [],
   "source": [
    "data_df = pd.read_csv(\"Data_file/task4_integrate_reshape.csv\")"
   ]
  },
  {
   "cell_type": "code",
   "execution_count": 4,
   "metadata": {
    "scrolled": true
   },
   "outputs": [
    {
     "data": {
      "text/html": [
       "<div>\n",
       "<style scoped>\n",
       "    .dataframe tbody tr th:only-of-type {\n",
       "        vertical-align: middle;\n",
       "    }\n",
       "\n",
       "    .dataframe tbody tr th {\n",
       "        vertical-align: top;\n",
       "    }\n",
       "\n",
       "    .dataframe thead th {\n",
       "        text-align: right;\n",
       "    }\n",
       "</style>\n",
       "<table border=\"1\" class=\"dataframe\">\n",
       "  <thead>\n",
       "    <tr style=\"text-align: right;\">\n",
       "      <th></th>\n",
       "      <th>ID</th>\n",
       "      <th>Address</th>\n",
       "      <th>Rooms</th>\n",
       "      <th>Type</th>\n",
       "      <th>Price</th>\n",
       "      <th>Date</th>\n",
       "      <th>Bathroom</th>\n",
       "      <th>Car</th>\n",
       "      <th>Landsize</th>\n",
       "      <th>Age</th>\n",
       "      <th>Lattitude</th>\n",
       "      <th>Longtitude</th>\n",
       "    </tr>\n",
       "  </thead>\n",
       "  <tbody>\n",
       "    <tr>\n",
       "      <th>0</th>\n",
       "      <td>ID291519933</td>\n",
       "      <td>2/23 Foam St</td>\n",
       "      <td>2</td>\n",
       "      <td>u</td>\n",
       "      <td>582500.0</td>\n",
       "      <td>8/10/2016</td>\n",
       "      <td>1.0</td>\n",
       "      <td>1.0</td>\n",
       "      <td>0.0</td>\n",
       "      <td>49.0</td>\n",
       "      <td>-37.88500</td>\n",
       "      <td>144.9910</td>\n",
       "    </tr>\n",
       "    <tr>\n",
       "      <th>1</th>\n",
       "      <td>ID777648929</td>\n",
       "      <td>6/210 Domain Rd</td>\n",
       "      <td>2</td>\n",
       "      <td>u</td>\n",
       "      <td>832000.0</td>\n",
       "      <td>15/10/2016</td>\n",
       "      <td>1.0</td>\n",
       "      <td>1.0</td>\n",
       "      <td>0.0</td>\n",
       "      <td>59.0</td>\n",
       "      <td>-37.83420</td>\n",
       "      <td>144.9842</td>\n",
       "    </tr>\n",
       "    <tr>\n",
       "      <th>2</th>\n",
       "      <td>ID436934525</td>\n",
       "      <td>52 Richardson St</td>\n",
       "      <td>3</td>\n",
       "      <td>h</td>\n",
       "      <td>508000.0</td>\n",
       "      <td>15/07/2017</td>\n",
       "      <td>2.0</td>\n",
       "      <td>1.0</td>\n",
       "      <td>189.0</td>\n",
       "      <td>29.0</td>\n",
       "      <td>-37.68159</td>\n",
       "      <td>145.0371</td>\n",
       "    </tr>\n",
       "    <tr>\n",
       "      <th>3</th>\n",
       "      <td>ID648123973</td>\n",
       "      <td>17 George St</td>\n",
       "      <td>4</td>\n",
       "      <td>h</td>\n",
       "      <td>875000.0</td>\n",
       "      <td>14/05/2016</td>\n",
       "      <td>3.0</td>\n",
       "      <td>1.0</td>\n",
       "      <td>321.0</td>\n",
       "      <td>69.0</td>\n",
       "      <td>-37.74240</td>\n",
       "      <td>144.8851</td>\n",
       "    </tr>\n",
       "    <tr>\n",
       "      <th>4</th>\n",
       "      <td>ID303786399</td>\n",
       "      <td>1/11 Brockley Rd</td>\n",
       "      <td>3</td>\n",
       "      <td>h</td>\n",
       "      <td>400000.0</td>\n",
       "      <td>22/05/2016</td>\n",
       "      <td>1.0</td>\n",
       "      <td>1.0</td>\n",
       "      <td>285.0</td>\n",
       "      <td>49.0</td>\n",
       "      <td>-37.71610</td>\n",
       "      <td>144.9662</td>\n",
       "    </tr>\n",
       "  </tbody>\n",
       "</table>\n",
       "</div>"
      ],
      "text/plain": [
       "            ID           Address  Rooms Type     Price        Date  Bathroom  \\\n",
       "0  ID291519933      2/23 Foam St      2    u  582500.0   8/10/2016       1.0   \n",
       "1  ID777648929   6/210 Domain Rd      2    u  832000.0  15/10/2016       1.0   \n",
       "2  ID436934525  52 Richardson St      3    h  508000.0  15/07/2017       2.0   \n",
       "3  ID648123973      17 George St      4    h  875000.0  14/05/2016       3.0   \n",
       "4  ID303786399  1/11 Brockley Rd      3    h  400000.0  22/05/2016       1.0   \n",
       "\n",
       "   Car  Landsize   Age  Lattitude  Longtitude  \n",
       "0  1.0       0.0  49.0  -37.88500    144.9910  \n",
       "1  1.0       0.0  59.0  -37.83420    144.9842  \n",
       "2  1.0     189.0  29.0  -37.68159    145.0371  \n",
       "3  1.0     321.0  69.0  -37.74240    144.8851  \n",
       "4  1.0     285.0  49.0  -37.71610    144.9662  "
      ]
     },
     "execution_count": 4,
     "metadata": {},
     "output_type": "execute_result"
    }
   ],
   "source": [
    "data_df.head()"
   ]
  },
  {
   "cell_type": "code",
   "execution_count": 5,
   "metadata": {
    "scrolled": true
   },
   "outputs": [
    {
     "data": {
      "text/html": [
       "<div>\n",
       "<style scoped>\n",
       "    .dataframe tbody tr th:only-of-type {\n",
       "        vertical-align: middle;\n",
       "    }\n",
       "\n",
       "    .dataframe tbody tr th {\n",
       "        vertical-align: top;\n",
       "    }\n",
       "\n",
       "    .dataframe thead th {\n",
       "        text-align: right;\n",
       "    }\n",
       "</style>\n",
       "<table border=\"1\" class=\"dataframe\">\n",
       "  <thead>\n",
       "    <tr style=\"text-align: right;\">\n",
       "      <th></th>\n",
       "      <th>Rooms</th>\n",
       "      <th>Price</th>\n",
       "      <th>Bathroom</th>\n",
       "      <th>Car</th>\n",
       "      <th>Landsize</th>\n",
       "      <th>Age</th>\n",
       "      <th>Lattitude</th>\n",
       "      <th>Longtitude</th>\n",
       "    </tr>\n",
       "  </thead>\n",
       "  <tbody>\n",
       "    <tr>\n",
       "      <th>count</th>\n",
       "      <td>720.000000000</td>\n",
       "      <td>7.200000000e+02</td>\n",
       "      <td>720.000000000</td>\n",
       "      <td>720.000000000</td>\n",
       "      <td>720.000000000</td>\n",
       "      <td>720.000000000</td>\n",
       "      <td>720.000000000</td>\n",
       "      <td>720.000000000</td>\n",
       "    </tr>\n",
       "    <tr>\n",
       "      <th>mean</th>\n",
       "      <td>2.925000000</td>\n",
       "      <td>1.057967306e+06</td>\n",
       "      <td>1.498611111</td>\n",
       "      <td>1.580555556</td>\n",
       "      <td>502.080555556</td>\n",
       "      <td>54.801388889</td>\n",
       "      <td>-37.805788944</td>\n",
       "      <td>144.982019347</td>\n",
       "    </tr>\n",
       "    <tr>\n",
       "      <th>std</th>\n",
       "      <td>0.952231841</td>\n",
       "      <td>6.520779593e+05</td>\n",
       "      <td>0.687660575</td>\n",
       "      <td>0.973449895</td>\n",
       "      <td>1065.553472203</td>\n",
       "      <td>35.444026248</td>\n",
       "      <td>0.078327138</td>\n",
       "      <td>0.103333535</td>\n",
       "    </tr>\n",
       "    <tr>\n",
       "      <th>min</th>\n",
       "      <td>1.000000000</td>\n",
       "      <td>1.310000000e+05</td>\n",
       "      <td>0.000000000</td>\n",
       "      <td>0.000000000</td>\n",
       "      <td>0.000000000</td>\n",
       "      <td>3.000000000</td>\n",
       "      <td>-38.157520000</td>\n",
       "      <td>144.485710000</td>\n",
       "    </tr>\n",
       "    <tr>\n",
       "      <th>25%</th>\n",
       "      <td>2.000000000</td>\n",
       "      <td>6.400000000e+05</td>\n",
       "      <td>1.000000000</td>\n",
       "      <td>1.000000000</td>\n",
       "      <td>182.750000000</td>\n",
       "      <td>22.000000000</td>\n",
       "      <td>-37.849897500</td>\n",
       "      <td>144.922345000</td>\n",
       "    </tr>\n",
       "    <tr>\n",
       "      <th>50%</th>\n",
       "      <td>3.000000000</td>\n",
       "      <td>8.815000000e+05</td>\n",
       "      <td>1.000000000</td>\n",
       "      <td>1.500000000</td>\n",
       "      <td>438.500000000</td>\n",
       "      <td>49.000000000</td>\n",
       "      <td>-37.799150000</td>\n",
       "      <td>144.990650000</td>\n",
       "    </tr>\n",
       "    <tr>\n",
       "      <th>75%</th>\n",
       "      <td>3.000000000</td>\n",
       "      <td>1.325000000e+06</td>\n",
       "      <td>2.000000000</td>\n",
       "      <td>2.000000000</td>\n",
       "      <td>645.500000000</td>\n",
       "      <td>78.250000000</td>\n",
       "      <td>-37.757100000</td>\n",
       "      <td>145.046827500</td>\n",
       "    </tr>\n",
       "    <tr>\n",
       "      <th>max</th>\n",
       "      <td>8.000000000</td>\n",
       "      <td>7.650000000e+06</td>\n",
       "      <td>5.000000000</td>\n",
       "      <td>8.000000000</td>\n",
       "      <td>21715.000000000</td>\n",
       "      <td>156.000000000</td>\n",
       "      <td>-37.500870000</td>\n",
       "      <td>145.294930000</td>\n",
       "    </tr>\n",
       "  </tbody>\n",
       "</table>\n",
       "</div>"
      ],
      "text/plain": [
       "               Rooms            Price       Bathroom            Car  \\\n",
       "count  720.000000000  7.200000000e+02  720.000000000  720.000000000   \n",
       "mean     2.925000000  1.057967306e+06    1.498611111    1.580555556   \n",
       "std      0.952231841  6.520779593e+05    0.687660575    0.973449895   \n",
       "min      1.000000000  1.310000000e+05    0.000000000    0.000000000   \n",
       "25%      2.000000000  6.400000000e+05    1.000000000    1.000000000   \n",
       "50%      3.000000000  8.815000000e+05    1.000000000    1.500000000   \n",
       "75%      3.000000000  1.325000000e+06    2.000000000    2.000000000   \n",
       "max      8.000000000  7.650000000e+06    5.000000000    8.000000000   \n",
       "\n",
       "              Landsize            Age      Lattitude     Longtitude  \n",
       "count    720.000000000  720.000000000  720.000000000  720.000000000  \n",
       "mean     502.080555556   54.801388889  -37.805788944  144.982019347  \n",
       "std     1065.553472203   35.444026248    0.078327138    0.103333535  \n",
       "min        0.000000000    3.000000000  -38.157520000  144.485710000  \n",
       "25%      182.750000000   22.000000000  -37.849897500  144.922345000  \n",
       "50%      438.500000000   49.000000000  -37.799150000  144.990650000  \n",
       "75%      645.500000000   78.250000000  -37.757100000  145.046827500  \n",
       "max    21715.000000000  156.000000000  -37.500870000  145.294930000  "
      ]
     },
     "execution_count": 5,
     "metadata": {},
     "output_type": "execute_result"
    }
   ],
   "source": [
    "data_df.describe()"
   ]
  },
  {
   "cell_type": "code",
   "execution_count": 6,
   "metadata": {},
   "outputs": [
    {
     "data": {
      "text/plain": [
       "720"
      ]
     },
     "execution_count": 6,
     "metadata": {},
     "output_type": "execute_result"
    }
   ],
   "source": [
    "len(data_df)"
   ]
  },
  {
   "cell_type": "markdown",
   "metadata": {},
   "source": [
    "## 3. Find suburb"
   ]
  },
  {
   "cell_type": "code",
   "execution_count": 7,
   "metadata": {},
   "outputs": [],
   "source": [
    "#read shp file\n",
    "shapefile =  fiona.open(\"vic_suburb_boundary/VIC_LOCALITY_POLYGON_shp.shp\")"
   ]
  },
  {
   "cell_type": "code",
   "execution_count": 8,
   "metadata": {},
   "outputs": [],
   "source": [
    "#set a default value for suburb volumn\n",
    "data_df['Suburb'] = \"0\""
   ]
  },
  {
   "cell_type": "code",
   "execution_count": 9,
   "metadata": {},
   "outputs": [],
   "source": [
    "#follow the order of ID to find the suburb\n",
    "\n",
    "for i in range(len(data_df)):\n",
    "    point = Point(data_df.loc[i,'Longtitude'],data_df.loc[i,'Lattitude'])\n",
    "    #print(posit_set)\n",
    "    for j in range(2973):\n",
    "        suburb_polygon = shape(shapefile[j]['geometry'])\n",
    "        if point.within(suburb_polygon):\n",
    "            #print(\"find\")\n",
    "            #count+=1\n",
    "            data_df.loc[i,'Suburb'] = shapefile[j]['properties']['VIC_LOCA_2']\n",
    "    #suburb(posit_set)"
   ]
  },
  {
   "cell_type": "code",
   "execution_count": 10,
   "metadata": {},
   "outputs": [],
   "source": [
    "#shapefile[0]['properties'][\"VIC_LOCA_2\"]"
   ]
  },
  {
   "cell_type": "code",
   "execution_count": 11,
   "metadata": {},
   "outputs": [
    {
     "data": {
      "text/html": [
       "<div>\n",
       "<style scoped>\n",
       "    .dataframe tbody tr th:only-of-type {\n",
       "        vertical-align: middle;\n",
       "    }\n",
       "\n",
       "    .dataframe tbody tr th {\n",
       "        vertical-align: top;\n",
       "    }\n",
       "\n",
       "    .dataframe thead th {\n",
       "        text-align: right;\n",
       "    }\n",
       "</style>\n",
       "<table border=\"1\" class=\"dataframe\">\n",
       "  <thead>\n",
       "    <tr style=\"text-align: right;\">\n",
       "      <th></th>\n",
       "      <th>ID</th>\n",
       "      <th>Address</th>\n",
       "      <th>Rooms</th>\n",
       "      <th>Type</th>\n",
       "      <th>Price</th>\n",
       "      <th>Date</th>\n",
       "      <th>Bathroom</th>\n",
       "      <th>Car</th>\n",
       "      <th>Landsize</th>\n",
       "      <th>Age</th>\n",
       "      <th>Lattitude</th>\n",
       "      <th>Longtitude</th>\n",
       "      <th>Suburb</th>\n",
       "    </tr>\n",
       "  </thead>\n",
       "  <tbody>\n",
       "    <tr>\n",
       "      <th>0</th>\n",
       "      <td>ID291519933</td>\n",
       "      <td>2/23 Foam St</td>\n",
       "      <td>2</td>\n",
       "      <td>u</td>\n",
       "      <td>582500.0</td>\n",
       "      <td>8/10/2016</td>\n",
       "      <td>1.0</td>\n",
       "      <td>1.0</td>\n",
       "      <td>0.0</td>\n",
       "      <td>49.0</td>\n",
       "      <td>-37.88500</td>\n",
       "      <td>144.9910</td>\n",
       "      <td>ELWOOD</td>\n",
       "    </tr>\n",
       "    <tr>\n",
       "      <th>1</th>\n",
       "      <td>ID777648929</td>\n",
       "      <td>6/210 Domain Rd</td>\n",
       "      <td>2</td>\n",
       "      <td>u</td>\n",
       "      <td>832000.0</td>\n",
       "      <td>15/10/2016</td>\n",
       "      <td>1.0</td>\n",
       "      <td>1.0</td>\n",
       "      <td>0.0</td>\n",
       "      <td>59.0</td>\n",
       "      <td>-37.83420</td>\n",
       "      <td>144.9842</td>\n",
       "      <td>SOUTH YARRA</td>\n",
       "    </tr>\n",
       "    <tr>\n",
       "      <th>2</th>\n",
       "      <td>ID436934525</td>\n",
       "      <td>52 Richardson St</td>\n",
       "      <td>3</td>\n",
       "      <td>h</td>\n",
       "      <td>508000.0</td>\n",
       "      <td>15/07/2017</td>\n",
       "      <td>2.0</td>\n",
       "      <td>1.0</td>\n",
       "      <td>189.0</td>\n",
       "      <td>29.0</td>\n",
       "      <td>-37.68159</td>\n",
       "      <td>145.0371</td>\n",
       "      <td>THOMASTOWN</td>\n",
       "    </tr>\n",
       "    <tr>\n",
       "      <th>3</th>\n",
       "      <td>ID648123973</td>\n",
       "      <td>17 George St</td>\n",
       "      <td>4</td>\n",
       "      <td>h</td>\n",
       "      <td>875000.0</td>\n",
       "      <td>14/05/2016</td>\n",
       "      <td>3.0</td>\n",
       "      <td>1.0</td>\n",
       "      <td>321.0</td>\n",
       "      <td>69.0</td>\n",
       "      <td>-37.74240</td>\n",
       "      <td>144.8851</td>\n",
       "      <td>NIDDRIE</td>\n",
       "    </tr>\n",
       "    <tr>\n",
       "      <th>4</th>\n",
       "      <td>ID303786399</td>\n",
       "      <td>1/11 Brockley Rd</td>\n",
       "      <td>3</td>\n",
       "      <td>h</td>\n",
       "      <td>400000.0</td>\n",
       "      <td>22/05/2016</td>\n",
       "      <td>1.0</td>\n",
       "      <td>1.0</td>\n",
       "      <td>285.0</td>\n",
       "      <td>49.0</td>\n",
       "      <td>-37.71610</td>\n",
       "      <td>144.9662</td>\n",
       "      <td>FAWKNER</td>\n",
       "    </tr>\n",
       "  </tbody>\n",
       "</table>\n",
       "</div>"
      ],
      "text/plain": [
       "            ID           Address  Rooms Type     Price        Date  Bathroom  \\\n",
       "0  ID291519933      2/23 Foam St      2    u  582500.0   8/10/2016       1.0   \n",
       "1  ID777648929   6/210 Domain Rd      2    u  832000.0  15/10/2016       1.0   \n",
       "2  ID436934525  52 Richardson St      3    h  508000.0  15/07/2017       2.0   \n",
       "3  ID648123973      17 George St      4    h  875000.0  14/05/2016       3.0   \n",
       "4  ID303786399  1/11 Brockley Rd      3    h  400000.0  22/05/2016       1.0   \n",
       "\n",
       "   Car  Landsize   Age  Lattitude  Longtitude       Suburb  \n",
       "0  1.0       0.0  49.0  -37.88500    144.9910       ELWOOD  \n",
       "1  1.0       0.0  59.0  -37.83420    144.9842  SOUTH YARRA  \n",
       "2  1.0     189.0  29.0  -37.68159    145.0371   THOMASTOWN  \n",
       "3  1.0     321.0  69.0  -37.74240    144.8851      NIDDRIE  \n",
       "4  1.0     285.0  49.0  -37.71610    144.9662      FAWKNER  "
      ]
     },
     "execution_count": 11,
     "metadata": {},
     "output_type": "execute_result"
    }
   ],
   "source": [
    "data_df.head()"
   ]
  },
  {
   "cell_type": "code",
   "execution_count": 12,
   "metadata": {},
   "outputs": [],
   "source": [
    "#change the order of column as schema\n",
    "col_name =['ID','Address','Suburb','Price','Type','Date','Rooms','Bathroom','Car','Landsize','Age','Lattitude','Longtitude']\n",
    "data_df=data_df.reindex(columns=col_name)"
   ]
  },
  {
   "cell_type": "code",
   "execution_count": 13,
   "metadata": {},
   "outputs": [
    {
     "data": {
      "text/html": [
       "<div>\n",
       "<style scoped>\n",
       "    .dataframe tbody tr th:only-of-type {\n",
       "        vertical-align: middle;\n",
       "    }\n",
       "\n",
       "    .dataframe tbody tr th {\n",
       "        vertical-align: top;\n",
       "    }\n",
       "\n",
       "    .dataframe thead th {\n",
       "        text-align: right;\n",
       "    }\n",
       "</style>\n",
       "<table border=\"1\" class=\"dataframe\">\n",
       "  <thead>\n",
       "    <tr style=\"text-align: right;\">\n",
       "      <th></th>\n",
       "      <th>ID</th>\n",
       "      <th>Address</th>\n",
       "      <th>Suburb</th>\n",
       "      <th>Price</th>\n",
       "      <th>Type</th>\n",
       "      <th>Date</th>\n",
       "      <th>Rooms</th>\n",
       "      <th>Bathroom</th>\n",
       "      <th>Car</th>\n",
       "      <th>Landsize</th>\n",
       "      <th>Age</th>\n",
       "      <th>Lattitude</th>\n",
       "      <th>Longtitude</th>\n",
       "    </tr>\n",
       "  </thead>\n",
       "  <tbody>\n",
       "    <tr>\n",
       "      <th>0</th>\n",
       "      <td>ID291519933</td>\n",
       "      <td>2/23 Foam St</td>\n",
       "      <td>ELWOOD</td>\n",
       "      <td>582500.0</td>\n",
       "      <td>u</td>\n",
       "      <td>8/10/2016</td>\n",
       "      <td>2</td>\n",
       "      <td>1.0</td>\n",
       "      <td>1.0</td>\n",
       "      <td>0.0</td>\n",
       "      <td>49.0</td>\n",
       "      <td>-37.88500</td>\n",
       "      <td>144.9910</td>\n",
       "    </tr>\n",
       "    <tr>\n",
       "      <th>1</th>\n",
       "      <td>ID777648929</td>\n",
       "      <td>6/210 Domain Rd</td>\n",
       "      <td>SOUTH YARRA</td>\n",
       "      <td>832000.0</td>\n",
       "      <td>u</td>\n",
       "      <td>15/10/2016</td>\n",
       "      <td>2</td>\n",
       "      <td>1.0</td>\n",
       "      <td>1.0</td>\n",
       "      <td>0.0</td>\n",
       "      <td>59.0</td>\n",
       "      <td>-37.83420</td>\n",
       "      <td>144.9842</td>\n",
       "    </tr>\n",
       "    <tr>\n",
       "      <th>2</th>\n",
       "      <td>ID436934525</td>\n",
       "      <td>52 Richardson St</td>\n",
       "      <td>THOMASTOWN</td>\n",
       "      <td>508000.0</td>\n",
       "      <td>h</td>\n",
       "      <td>15/07/2017</td>\n",
       "      <td>3</td>\n",
       "      <td>2.0</td>\n",
       "      <td>1.0</td>\n",
       "      <td>189.0</td>\n",
       "      <td>29.0</td>\n",
       "      <td>-37.68159</td>\n",
       "      <td>145.0371</td>\n",
       "    </tr>\n",
       "    <tr>\n",
       "      <th>3</th>\n",
       "      <td>ID648123973</td>\n",
       "      <td>17 George St</td>\n",
       "      <td>NIDDRIE</td>\n",
       "      <td>875000.0</td>\n",
       "      <td>h</td>\n",
       "      <td>14/05/2016</td>\n",
       "      <td>4</td>\n",
       "      <td>3.0</td>\n",
       "      <td>1.0</td>\n",
       "      <td>321.0</td>\n",
       "      <td>69.0</td>\n",
       "      <td>-37.74240</td>\n",
       "      <td>144.8851</td>\n",
       "    </tr>\n",
       "    <tr>\n",
       "      <th>4</th>\n",
       "      <td>ID303786399</td>\n",
       "      <td>1/11 Brockley Rd</td>\n",
       "      <td>FAWKNER</td>\n",
       "      <td>400000.0</td>\n",
       "      <td>h</td>\n",
       "      <td>22/05/2016</td>\n",
       "      <td>3</td>\n",
       "      <td>1.0</td>\n",
       "      <td>1.0</td>\n",
       "      <td>285.0</td>\n",
       "      <td>49.0</td>\n",
       "      <td>-37.71610</td>\n",
       "      <td>144.9662</td>\n",
       "    </tr>\n",
       "  </tbody>\n",
       "</table>\n",
       "</div>"
      ],
      "text/plain": [
       "            ID           Address       Suburb     Price Type        Date  \\\n",
       "0  ID291519933      2/23 Foam St       ELWOOD  582500.0    u   8/10/2016   \n",
       "1  ID777648929   6/210 Domain Rd  SOUTH YARRA  832000.0    u  15/10/2016   \n",
       "2  ID436934525  52 Richardson St   THOMASTOWN  508000.0    h  15/07/2017   \n",
       "3  ID648123973      17 George St      NIDDRIE  875000.0    h  14/05/2016   \n",
       "4  ID303786399  1/11 Brockley Rd      FAWKNER  400000.0    h  22/05/2016   \n",
       "\n",
       "   Rooms  Bathroom  Car  Landsize   Age  Lattitude  Longtitude  \n",
       "0      2       1.0  1.0       0.0  49.0  -37.88500    144.9910  \n",
       "1      2       1.0  1.0       0.0  59.0  -37.83420    144.9842  \n",
       "2      3       2.0  1.0     189.0  29.0  -37.68159    145.0371  \n",
       "3      4       3.0  1.0     321.0  69.0  -37.74240    144.8851  \n",
       "4      3       1.0  1.0     285.0  49.0  -37.71610    144.9662  "
      ]
     },
     "execution_count": 13,
     "metadata": {},
     "output_type": "execute_result"
    }
   ],
   "source": [
    "data_df.head()"
   ]
  },
  {
   "cell_type": "code",
   "execution_count": null,
   "metadata": {},
   "outputs": [],
   "source": []
  },
  {
   "cell_type": "markdown",
   "metadata": {},
   "source": [
    "## 4.Find cloest train station\n",
    "* directly to Southern Cross\n",
    "    the stop_id and lat and lon of destination(Southern Cross) is given \n",
    "* all weekdays\n",
    "* departing between 7:00-9:30\n"
   ]
  },
  {
   "cell_type": "markdown",
   "metadata": {},
   "source": [
    "#### structure:\n",
    "* strp1: Deal with kinds of txt in gtfs\n",
    "\n",
    "* step2: Extract data(serivice_id, strat_date,end_data) in Calendar\n",
    "    in which all weekdays have trips\n",
    "    \n",
    "* step3: Extract trip_id responding with service_id in Trips\n",
    "    get list of dicts include service_id, trip_id\n",
    "    \n",
    "* step4: Extract trip_id responding with stop_id is Southern_Cross\n",
    "\n",
    "* step5: inner join step3 and step4 with the keys is trip_id, \n",
    "    which means that we get the trip all weekdays services, arrive at SC\n",
    "    \n",
    "* step6: extract the dep_stop_id of depature train station in which the   depature time is between 7:00-9:30am in stoptimes dataframe;\n",
    "  Then join the result of step 5 and step 6 to find the trip that          directly fo to SC and have service all weekdays and dep time between     7:00-9:30am\n",
    "\n",
    "* step7: calculate the distance between property and extracted possible train station(be extracted in step6)\n"
   ]
  },
  {
   "cell_type": "markdown",
   "metadata": {},
   "source": [
    "#### note:\n",
    "* Since combine all the same kind of txt in GTFS, for example, in stop file, there are some stop points which have the same lat,lon,stopname, however the stop_id is not the same, we just choose the first one that fit the criteria"
   ]
  },
  {
   "cell_type": "markdown",
   "metadata": {},
   "source": [
    "### 4.1Deal with txt files in gtfs"
   ]
  },
  {
   "cell_type": "markdown",
   "metadata": {},
   "source": [
    "#### Read Stops files and merge them to dataframe"
   ]
  },
  {
   "cell_type": "markdown",
   "metadata": {},
   "source": [
    "try to read one stop file in dataframe to see the result"
   ]
  },
  {
   "cell_type": "code",
   "execution_count": 14,
   "metadata": {},
   "outputs": [],
   "source": [
    "#stops file\n",
    "stops_df1 = pd.read_csv('gtfs/1/google_transit/stops.txt', sep=\",\", header=None, names=['stop_id','stop_name','stop_lat','stop_lon'])"
   ]
  },
  {
   "cell_type": "code",
   "execution_count": 15,
   "metadata": {},
   "outputs": [
    {
     "data": {
      "text/html": [
       "<div>\n",
       "<style scoped>\n",
       "    .dataframe tbody tr th:only-of-type {\n",
       "        vertical-align: middle;\n",
       "    }\n",
       "\n",
       "    .dataframe tbody tr th {\n",
       "        vertical-align: top;\n",
       "    }\n",
       "\n",
       "    .dataframe thead th {\n",
       "        text-align: right;\n",
       "    }\n",
       "</style>\n",
       "<table border=\"1\" class=\"dataframe\">\n",
       "  <thead>\n",
       "    <tr style=\"text-align: right;\">\n",
       "      <th></th>\n",
       "      <th>stop_id</th>\n",
       "      <th>stop_name</th>\n",
       "      <th>stop_lat</th>\n",
       "      <th>stop_lon</th>\n",
       "    </tr>\n",
       "  </thead>\n",
       "  <tbody>\n",
       "    <tr>\n",
       "      <th>105</th>\n",
       "      <td>47641</td>\n",
       "      <td>Waurn Ponds Railway Station (Waurn Ponds)</td>\n",
       "      <td>-38.2158144726992</td>\n",
       "      <td>144.30681939977</td>\n",
       "    </tr>\n",
       "    <tr>\n",
       "      <th>106</th>\n",
       "      <td>47642</td>\n",
       "      <td>Epsom Railway Station (Epsom)</td>\n",
       "      <td>-36.706341584195</td>\n",
       "      <td>144.321039539468</td>\n",
       "    </tr>\n",
       "    <tr>\n",
       "      <th>107</th>\n",
       "      <td>47647</td>\n",
       "      <td>Wyndham Vale Railway Station (Wyndham Vale)</td>\n",
       "      <td>-37.8717818287661</td>\n",
       "      <td>144.60847208057</td>\n",
       "    </tr>\n",
       "    <tr>\n",
       "      <th>108</th>\n",
       "      <td>47648</td>\n",
       "      <td>Tarneit Railway Station (Tarneit)</td>\n",
       "      <td>-37.8321681307146</td>\n",
       "      <td>144.694714384216</td>\n",
       "    </tr>\n",
       "    <tr>\n",
       "      <th>109</th>\n",
       "      <td>52011</td>\n",
       "      <td>Caroline Springs Railway Station (Ravenhall)</td>\n",
       "      <td>-37.7671526360564</td>\n",
       "      <td>144.73802162301</td>\n",
       "    </tr>\n",
       "  </tbody>\n",
       "</table>\n",
       "</div>"
      ],
      "text/plain": [
       "    stop_id                                     stop_name           stop_lat  \\\n",
       "105   47641     Waurn Ponds Railway Station (Waurn Ponds)  -38.2158144726992   \n",
       "106   47642                 Epsom Railway Station (Epsom)   -36.706341584195   \n",
       "107   47647   Wyndham Vale Railway Station (Wyndham Vale)  -37.8717818287661   \n",
       "108   47648             Tarneit Railway Station (Tarneit)  -37.8321681307146   \n",
       "109   52011  Caroline Springs Railway Station (Ravenhall)  -37.7671526360564   \n",
       "\n",
       "             stop_lon  \n",
       "105   144.30681939977  \n",
       "106  144.321039539468  \n",
       "107   144.60847208057  \n",
       "108  144.694714384216  \n",
       "109   144.73802162301  "
      ]
     },
     "execution_count": 15,
     "metadata": {},
     "output_type": "execute_result"
    }
   ],
   "source": [
    "stops_df1.tail()"
   ]
  },
  {
   "cell_type": "code",
   "execution_count": 16,
   "metadata": {},
   "outputs": [
    {
     "data": {
      "text/plain": [
       "110"
      ]
     },
     "execution_count": 16,
     "metadata": {},
     "output_type": "execute_result"
    }
   ],
   "source": [
    "len(stops_df1)"
   ]
  },
  {
   "cell_type": "markdown",
   "metadata": {},
   "source": [
    "merge all the stop files"
   ]
  },
  {
   "cell_type": "code",
   "execution_count": 17,
   "metadata": {},
   "outputs": [],
   "source": [
    "'''\n",
    "Read all stops.txt files in gtfs, then combine them into one text and read it in dataframe\n",
    "'''\n",
    "all_txt = codecs.open('all_stops.txt','a')\n",
    "for i in range(1,12):\n",
    "    #all = codecs.open('all.txt','a')\n",
    "    if i==9:\n",
    "        pass\n",
    "    else:\n",
    "        \n",
    "        path = \"gtfs/\"+str(i)+\"/google_transit\"\n",
    "        filename=path+\"/\"+\"stops.txt\"\n",
    "        fopen=codecs.open(filename,'r',encoding='utf-8')  \n",
    "        lines=[]  \n",
    "        lines=fopen.readlines()  \n",
    "        fopen.close()  \n",
    "         \n",
    "        for line in lines[1:]: #don't add the columns' name into final text\n",
    "\n",
    "            for x in line:  \n",
    "                all_txt.write(x)\n",
    "                "
   ]
  },
  {
   "cell_type": "code",
   "execution_count": 18,
   "metadata": {},
   "outputs": [],
   "source": [
    "#Read the stopstxt that includes all stops information in dataframe\n",
    "stops_df_all = pd.read_csv('all_stops.txt', sep=\",\", header=None, names=['stop_id','stop_name','stop_lat','stop_lon'])"
   ]
  },
  {
   "cell_type": "code",
   "execution_count": 19,
   "metadata": {},
   "outputs": [
    {
     "data": {
      "text/plain": [
       "84621"
      ]
     },
     "execution_count": 19,
     "metadata": {},
     "output_type": "execute_result"
    }
   ],
   "source": [
    "len(stops_df_all)"
   ]
  },
  {
   "cell_type": "code",
   "execution_count": 20,
   "metadata": {},
   "outputs": [
    {
     "data": {
      "text/html": [
       "<div>\n",
       "<style scoped>\n",
       "    .dataframe tbody tr th:only-of-type {\n",
       "        vertical-align: middle;\n",
       "    }\n",
       "\n",
       "    .dataframe tbody tr th {\n",
       "        vertical-align: top;\n",
       "    }\n",
       "\n",
       "    .dataframe thead th {\n",
       "        text-align: right;\n",
       "    }\n",
       "</style>\n",
       "<table border=\"1\" class=\"dataframe\">\n",
       "  <thead>\n",
       "    <tr style=\"text-align: right;\">\n",
       "      <th></th>\n",
       "      <th>stop_id</th>\n",
       "      <th>stop_name</th>\n",
       "      <th>stop_lat</th>\n",
       "      <th>stop_lon</th>\n",
       "    </tr>\n",
       "  </thead>\n",
       "  <tbody>\n",
       "    <tr>\n",
       "      <th>0</th>\n",
       "      <td>17204</td>\n",
       "      <td>Wallan Railway Station (Wallan)</td>\n",
       "      <td>-37.416861003</td>\n",
       "      <td>145.005372256</td>\n",
       "    </tr>\n",
       "    <tr>\n",
       "      <th>1</th>\n",
       "      <td>19980</td>\n",
       "      <td>Melton Railway Station (Melton South)</td>\n",
       "      <td>-37.703293346</td>\n",
       "      <td>144.572524145</td>\n",
       "    </tr>\n",
       "    <tr>\n",
       "      <th>2</th>\n",
       "      <td>19981</td>\n",
       "      <td>Rockbank Railway Station (Rockbank)</td>\n",
       "      <td>-37.729261271</td>\n",
       "      <td>144.650631484</td>\n",
       "    </tr>\n",
       "    <tr>\n",
       "      <th>3</th>\n",
       "      <td>19982</td>\n",
       "      <td>Deer Park Railway Station (Deer Park)</td>\n",
       "      <td>-37.777763747</td>\n",
       "      <td>144.772303609</td>\n",
       "    </tr>\n",
       "    <tr>\n",
       "      <th>4</th>\n",
       "      <td>19998</td>\n",
       "      <td>Sunbury Railway Station (Sunbury)</td>\n",
       "      <td>-37.579206387</td>\n",
       "      <td>144.728164508</td>\n",
       "    </tr>\n",
       "  </tbody>\n",
       "</table>\n",
       "</div>"
      ],
      "text/plain": [
       "   stop_id                              stop_name      stop_lat       stop_lon\n",
       "0    17204        Wallan Railway Station (Wallan) -37.416861003  145.005372256\n",
       "1    19980  Melton Railway Station (Melton South) -37.703293346  144.572524145\n",
       "2    19981    Rockbank Railway Station (Rockbank) -37.729261271  144.650631484\n",
       "3    19982  Deer Park Railway Station (Deer Park) -37.777763747  144.772303609\n",
       "4    19998      Sunbury Railway Station (Sunbury) -37.579206387  144.728164508"
      ]
     },
     "execution_count": 20,
     "metadata": {},
     "output_type": "execute_result"
    }
   ],
   "source": [
    "stops_df_all.head()"
   ]
  },
  {
   "cell_type": "code",
   "execution_count": 21,
   "metadata": {},
   "outputs": [],
   "source": [
    "#delete duplicate rows and reindex rows\n",
    "stops_df=stops_df_all.drop_duplicates(subset=None, keep='first', inplace=False)\n",
    "stops_df= stops_df.reset_index(drop=True)"
   ]
  },
  {
   "cell_type": "code",
   "execution_count": 22,
   "metadata": {},
   "outputs": [
    {
     "name": "stdout",
     "output_type": "stream",
     "text": [
      "27338\n",
      "27338\n"
     ]
    }
   ],
   "source": [
    "print(len(set(list(stops_df['stop_id']))))\n",
    "print(len(list(stops_df['stop_id'])))"
   ]
  },
  {
   "cell_type": "code",
   "execution_count": null,
   "metadata": {},
   "outputs": [],
   "source": []
  },
  {
   "cell_type": "markdown",
   "metadata": {},
   "source": [
    "#### Read Stop_times files and merge them to dataframe\n",
    "use the same method as stops.txt files"
   ]
  },
  {
   "cell_type": "code",
   "execution_count": 23,
   "metadata": {},
   "outputs": [],
   "source": [
    "''' Define a function to combine all same kind of txt in gtfs to one whole txt, the method is same as stops.txt above\n",
    "# alltxt is the txt conclude all txt data,must be str\n",
    "# txtname is the name of text be extracted,must be str'''\n",
    "def combinefile(alltxt,txtname):\n",
    "    all_txt = codecs.open(alltxt,'a')\n",
    "    for i in range(1,12):\n",
    "    #all = codecs.open('all.txt','a')\n",
    "        if i==9:\n",
    "            pass\n",
    "        else:\n",
    "        \n",
    "            path = \"gtfs/\"+str(i)+\"/google_transit\"\n",
    "            filename=path+\"/\"+ txtname\n",
    "            fopen=codecs.open(filename,'r',encoding='utf-8')  \n",
    "            lines=[]  \n",
    "            lines=fopen.readlines()  \n",
    "            fopen.close()  \n",
    "         \n",
    "            for line in lines[1:]:\n",
    "              \n",
    "                for x in line:  \n",
    "                    all_txt.write(x)"
   ]
  },
  {
   "cell_type": "code",
   "execution_count": 24,
   "metadata": {},
   "outputs": [],
   "source": [
    "#read and combine stoptimes files \n",
    "combinefile(\"all_stop_times.txt\",\"stop_times.txt\")"
   ]
  },
  {
   "cell_type": "code",
   "execution_count": 25,
   "metadata": {},
   "outputs": [],
   "source": [
    "#see all stoptimes in dataframe\n",
    "stoptimes_df_all = pd.read_csv('all_stop_times.txt', sep=\",\", header=None, names=['trip_id','arrival_time','departure_time','stop_id','stop_sequence','stop_headsign','pickup_type','drop_off_type','shape_dist_traveled'])"
   ]
  },
  {
   "cell_type": "code",
   "execution_count": null,
   "metadata": {},
   "outputs": [],
   "source": [
    "#stoptimes_df_all.head()"
   ]
  },
  {
   "cell_type": "code",
   "execution_count": 26,
   "metadata": {},
   "outputs": [],
   "source": [
    "#drop columns we don't need \n",
    "stoptimes_df = stoptimes_df_all.drop(['stop_headsign','pickup_type','drop_off_type','shape_dist_traveled'], axis=1)"
   ]
  },
  {
   "cell_type": "code",
   "execution_count": 27,
   "metadata": {},
   "outputs": [
    {
     "data": {
      "text/html": [
       "<div>\n",
       "<style scoped>\n",
       "    .dataframe tbody tr th:only-of-type {\n",
       "        vertical-align: middle;\n",
       "    }\n",
       "\n",
       "    .dataframe tbody tr th {\n",
       "        vertical-align: top;\n",
       "    }\n",
       "\n",
       "    .dataframe thead th {\n",
       "        text-align: right;\n",
       "    }\n",
       "</style>\n",
       "<table border=\"1\" class=\"dataframe\">\n",
       "  <thead>\n",
       "    <tr style=\"text-align: right;\">\n",
       "      <th></th>\n",
       "      <th>trip_id</th>\n",
       "      <th>arrival_time</th>\n",
       "      <th>departure_time</th>\n",
       "      <th>stop_id</th>\n",
       "      <th>stop_sequence</th>\n",
       "    </tr>\n",
       "  </thead>\n",
       "  <tbody>\n",
       "    <tr>\n",
       "      <th>0</th>\n",
       "      <td>7548.UR.1-V08-A-mjp-1.1.H</td>\n",
       "      <td>06:08:00</td>\n",
       "      <td>06:08:00</td>\n",
       "      <td>20291</td>\n",
       "      <td>1</td>\n",
       "    </tr>\n",
       "    <tr>\n",
       "      <th>1</th>\n",
       "      <td>7548.UR.1-V08-A-mjp-1.1.H</td>\n",
       "      <td>06:42:00</td>\n",
       "      <td>06:42:00</td>\n",
       "      <td>20346</td>\n",
       "      <td>2</td>\n",
       "    </tr>\n",
       "    <tr>\n",
       "      <th>2</th>\n",
       "      <td>7548.UR.1-V08-A-mjp-1.1.H</td>\n",
       "      <td>06:55:00</td>\n",
       "      <td>06:57:00</td>\n",
       "      <td>20341</td>\n",
       "      <td>3</td>\n",
       "    </tr>\n",
       "    <tr>\n",
       "      <th>3</th>\n",
       "      <td>7548.UR.1-V08-A-mjp-1.1.H</td>\n",
       "      <td>07:16:00</td>\n",
       "      <td>07:16:00</td>\n",
       "      <td>20339</td>\n",
       "      <td>4</td>\n",
       "    </tr>\n",
       "    <tr>\n",
       "      <th>4</th>\n",
       "      <td>7548.UR.1-V08-A-mjp-1.1.H</td>\n",
       "      <td>07:32:00</td>\n",
       "      <td>07:34:00</td>\n",
       "      <td>20351</td>\n",
       "      <td>5</td>\n",
       "    </tr>\n",
       "  </tbody>\n",
       "</table>\n",
       "</div>"
      ],
      "text/plain": [
       "                     trip_id arrival_time departure_time  stop_id  \\\n",
       "0  7548.UR.1-V08-A-mjp-1.1.H     06:08:00       06:08:00    20291   \n",
       "1  7548.UR.1-V08-A-mjp-1.1.H     06:42:00       06:42:00    20346   \n",
       "2  7548.UR.1-V08-A-mjp-1.1.H     06:55:00       06:57:00    20341   \n",
       "3  7548.UR.1-V08-A-mjp-1.1.H     07:16:00       07:16:00    20339   \n",
       "4  7548.UR.1-V08-A-mjp-1.1.H     07:32:00       07:34:00    20351   \n",
       "\n",
       "   stop_sequence  \n",
       "0              1  \n",
       "1              2  \n",
       "2              3  \n",
       "3              4  \n",
       "4              5  "
      ]
     },
     "execution_count": 27,
     "metadata": {},
     "output_type": "execute_result"
    }
   ],
   "source": [
    "stoptimes_df.head()"
   ]
  },
  {
   "cell_type": "code",
   "execution_count": 28,
   "metadata": {},
   "outputs": [
    {
     "data": {
      "text/plain": [
       "13402785"
      ]
     },
     "execution_count": 28,
     "metadata": {},
     "output_type": "execute_result"
    }
   ],
   "source": [
    "len(stoptimes_df)"
   ]
  },
  {
   "cell_type": "code",
   "execution_count": 29,
   "metadata": {},
   "outputs": [],
   "source": [
    "#delete duplicate rows and reindex rows\n",
    "stoptime_df=stoptimes_df.drop_duplicates(subset=None, keep='first', inplace=False)\n",
    "stoptime_df= stoptime_df.reset_index(drop=True)"
   ]
  },
  {
   "cell_type": "code",
   "execution_count": 30,
   "metadata": {},
   "outputs": [
    {
     "data": {
      "text/plain": [
       "4467595"
      ]
     },
     "execution_count": 30,
     "metadata": {},
     "output_type": "execute_result"
    }
   ],
   "source": [
    "len(stoptime_df)"
   ]
  },
  {
   "cell_type": "code",
   "execution_count": null,
   "metadata": {},
   "outputs": [],
   "source": []
  },
  {
   "cell_type": "code",
   "execution_count": null,
   "metadata": {},
   "outputs": [],
   "source": []
  },
  {
   "cell_type": "markdown",
   "metadata": {},
   "source": [
    "#### Read Trips files and merge them to dataframe\n",
    "use the same method as stops.txt files, use the \"combinefile\" function"
   ]
  },
  {
   "cell_type": "code",
   "execution_count": 31,
   "metadata": {},
   "outputs": [],
   "source": [
    "#read and combine trips files \n",
    "combinefile(\"all_trips.txt\",\"trips.txt\")"
   ]
  },
  {
   "cell_type": "code",
   "execution_count": 32,
   "metadata": {},
   "outputs": [],
   "source": [
    "#see all trips in dataframe\n",
    "trips_df_all = pd.read_csv('all_trips.txt', sep=\",\", header=None, names=['route_id','service_id','trip_id','shape_id','trip_headsign','direction_id'])"
   ]
  },
  {
   "cell_type": "code",
   "execution_count": 33,
   "metadata": {},
   "outputs": [
    {
     "data": {
      "text/html": [
       "<div>\n",
       "<style scoped>\n",
       "    .dataframe tbody tr th:only-of-type {\n",
       "        vertical-align: middle;\n",
       "    }\n",
       "\n",
       "    .dataframe tbody tr th {\n",
       "        vertical-align: top;\n",
       "    }\n",
       "\n",
       "    .dataframe thead th {\n",
       "        text-align: right;\n",
       "    }\n",
       "</style>\n",
       "<table border=\"1\" class=\"dataframe\">\n",
       "  <thead>\n",
       "    <tr style=\"text-align: right;\">\n",
       "      <th></th>\n",
       "      <th>route_id</th>\n",
       "      <th>service_id</th>\n",
       "      <th>trip_id</th>\n",
       "      <th>shape_id</th>\n",
       "      <th>trip_headsign</th>\n",
       "      <th>direction_id</th>\n",
       "    </tr>\n",
       "  </thead>\n",
       "  <tbody>\n",
       "    <tr>\n",
       "      <th>0</th>\n",
       "      <td>1-V08-G-mjp-1</td>\n",
       "      <td>T0</td>\n",
       "      <td>1051.T0.1-V08-G-mjp-1.1.H</td>\n",
       "      <td>1-V08-G-mjp-1.1.H</td>\n",
       "      <td>Melbourne</td>\n",
       "      <td>0</td>\n",
       "    </tr>\n",
       "    <tr>\n",
       "      <th>1</th>\n",
       "      <td>1-V08-G-mjp-1</td>\n",
       "      <td>T0</td>\n",
       "      <td>1052.T0.1-V08-G-mjp-1.2.H</td>\n",
       "      <td>1-V08-G-mjp-1.2.H</td>\n",
       "      <td>Melbourne</td>\n",
       "      <td>0</td>\n",
       "    </tr>\n",
       "    <tr>\n",
       "      <th>2</th>\n",
       "      <td>1-V08-G-mjp-1</td>\n",
       "      <td>T0</td>\n",
       "      <td>1053.T0.1-V08-G-mjp-1.2.H</td>\n",
       "      <td>1-V08-G-mjp-1.2.H</td>\n",
       "      <td>Melbourne</td>\n",
       "      <td>0</td>\n",
       "    </tr>\n",
       "    <tr>\n",
       "      <th>3</th>\n",
       "      <td>1-V08-G-mjp-1</td>\n",
       "      <td>T0</td>\n",
       "      <td>1522.T0.1-V08-G-mjp-1.4.R</td>\n",
       "      <td>1-V08-G-mjp-1.4.R</td>\n",
       "      <td>Bairnsdale</td>\n",
       "      <td>1</td>\n",
       "    </tr>\n",
       "    <tr>\n",
       "      <th>4</th>\n",
       "      <td>1-V08-G-mjp-1</td>\n",
       "      <td>T0</td>\n",
       "      <td>1523.T0.1-V08-G-mjp-1.5.R</td>\n",
       "      <td>1-V08-G-mjp-1.5.R</td>\n",
       "      <td>Bairnsdale</td>\n",
       "      <td>1</td>\n",
       "    </tr>\n",
       "    <tr>\n",
       "      <th>5</th>\n",
       "      <td>1-V08-G-mjp-1</td>\n",
       "      <td>T0</td>\n",
       "      <td>1524.T0.1-V08-G-mjp-1.6.R</td>\n",
       "      <td>1-V08-G-mjp-1.6.R</td>\n",
       "      <td>Bairnsdale</td>\n",
       "      <td>1</td>\n",
       "    </tr>\n",
       "    <tr>\n",
       "      <th>6</th>\n",
       "      <td>1-V12-G-mjp-1</td>\n",
       "      <td>T0</td>\n",
       "      <td>1079.T0.1-V12-G-mjp-1.1.H</td>\n",
       "      <td>1-V12-G-mjp-1.1.H</td>\n",
       "      <td>Melbourne</td>\n",
       "      <td>0</td>\n",
       "    </tr>\n",
       "    <tr>\n",
       "      <th>7</th>\n",
       "      <td>1-V12-G-mjp-1</td>\n",
       "      <td>T0</td>\n",
       "      <td>1094.T0.1-V12-G-mjp-1.1.H</td>\n",
       "      <td>1-V12-G-mjp-1.1.H</td>\n",
       "      <td>Melbourne</td>\n",
       "      <td>0</td>\n",
       "    </tr>\n",
       "    <tr>\n",
       "      <th>8</th>\n",
       "      <td>1-V12-G-mjp-1</td>\n",
       "      <td>T0</td>\n",
       "      <td>1080.T0.1-V12-G-mjp-1.2.H</td>\n",
       "      <td>1-V12-G-mjp-1.2.H</td>\n",
       "      <td>Melbourne</td>\n",
       "      <td>0</td>\n",
       "    </tr>\n",
       "    <tr>\n",
       "      <th>9</th>\n",
       "      <td>1-V12-G-mjp-1</td>\n",
       "      <td>T0</td>\n",
       "      <td>1092.T0.1-V12-G-mjp-1.2.H</td>\n",
       "      <td>1-V12-G-mjp-1.2.H</td>\n",
       "      <td>Melbourne</td>\n",
       "      <td>0</td>\n",
       "    </tr>\n",
       "  </tbody>\n",
       "</table>\n",
       "</div>"
      ],
      "text/plain": [
       "        route_id service_id                    trip_id           shape_id  \\\n",
       "0  1-V08-G-mjp-1         T0  1051.T0.1-V08-G-mjp-1.1.H  1-V08-G-mjp-1.1.H   \n",
       "1  1-V08-G-mjp-1         T0  1052.T0.1-V08-G-mjp-1.2.H  1-V08-G-mjp-1.2.H   \n",
       "2  1-V08-G-mjp-1         T0  1053.T0.1-V08-G-mjp-1.2.H  1-V08-G-mjp-1.2.H   \n",
       "3  1-V08-G-mjp-1         T0  1522.T0.1-V08-G-mjp-1.4.R  1-V08-G-mjp-1.4.R   \n",
       "4  1-V08-G-mjp-1         T0  1523.T0.1-V08-G-mjp-1.5.R  1-V08-G-mjp-1.5.R   \n",
       "5  1-V08-G-mjp-1         T0  1524.T0.1-V08-G-mjp-1.6.R  1-V08-G-mjp-1.6.R   \n",
       "6  1-V12-G-mjp-1         T0  1079.T0.1-V12-G-mjp-1.1.H  1-V12-G-mjp-1.1.H   \n",
       "7  1-V12-G-mjp-1         T0  1094.T0.1-V12-G-mjp-1.1.H  1-V12-G-mjp-1.1.H   \n",
       "8  1-V12-G-mjp-1         T0  1080.T0.1-V12-G-mjp-1.2.H  1-V12-G-mjp-1.2.H   \n",
       "9  1-V12-G-mjp-1         T0  1092.T0.1-V12-G-mjp-1.2.H  1-V12-G-mjp-1.2.H   \n",
       "\n",
       "  trip_headsign  direction_id  \n",
       "0     Melbourne             0  \n",
       "1     Melbourne             0  \n",
       "2     Melbourne             0  \n",
       "3    Bairnsdale             1  \n",
       "4    Bairnsdale             1  \n",
       "5    Bairnsdale             1  \n",
       "6     Melbourne             0  \n",
       "7     Melbourne             0  \n",
       "8     Melbourne             0  \n",
       "9     Melbourne             0  "
      ]
     },
     "execution_count": 33,
     "metadata": {},
     "output_type": "execute_result"
    }
   ],
   "source": [
    "trips_df_all.head(10)"
   ]
  },
  {
   "cell_type": "code",
   "execution_count": 34,
   "metadata": {},
   "outputs": [
    {
     "data": {
      "text/plain": [
       "394635"
      ]
     },
     "execution_count": 34,
     "metadata": {},
     "output_type": "execute_result"
    }
   ],
   "source": [
    "len(trips_df_all)"
   ]
  },
  {
   "cell_type": "code",
   "execution_count": 35,
   "metadata": {},
   "outputs": [],
   "source": [
    "#delete duplicate rows and reindex rows\n",
    "trips_df=trips_df_all.drop_duplicates(subset=None, keep='first', inplace=False)\n",
    "trips_df= trips_df.reset_index(drop=True)"
   ]
  },
  {
   "cell_type": "code",
   "execution_count": 36,
   "metadata": {},
   "outputs": [
    {
     "data": {
      "text/plain": [
       "131545"
      ]
     },
     "execution_count": 36,
     "metadata": {},
     "output_type": "execute_result"
    }
   ],
   "source": [
    "len(trips_df)"
   ]
  },
  {
   "cell_type": "code",
   "execution_count": null,
   "metadata": {},
   "outputs": [],
   "source": []
  },
  {
   "cell_type": "markdown",
   "metadata": {},
   "source": [
    "#### Read Calendar files and merge them to dataframe\n",
    "use the same method as stops.txt files, use the \"combinefile\" function"
   ]
  },
  {
   "cell_type": "code",
   "execution_count": 37,
   "metadata": {},
   "outputs": [],
   "source": [
    "#read and combine trips files \n",
    "combinefile(\"all_calendar.txt\",\"calendar.txt\")"
   ]
  },
  {
   "cell_type": "code",
   "execution_count": 38,
   "metadata": {},
   "outputs": [],
   "source": [
    "#see all trips in dataframe\n",
    "calendar_df_all = pd.read_csv('all_calendar.txt', sep=\",\", header=None, names=['service_id','monday','tuesday','wednesday','thursday','friday','saturday','sunday','start_date','end_date'])"
   ]
  },
  {
   "cell_type": "code",
   "execution_count": 39,
   "metadata": {},
   "outputs": [
    {
     "data": {
      "text/html": [
       "<div>\n",
       "<style scoped>\n",
       "    .dataframe tbody tr th:only-of-type {\n",
       "        vertical-align: middle;\n",
       "    }\n",
       "\n",
       "    .dataframe tbody tr th {\n",
       "        vertical-align: top;\n",
       "    }\n",
       "\n",
       "    .dataframe thead th {\n",
       "        text-align: right;\n",
       "    }\n",
       "</style>\n",
       "<table border=\"1\" class=\"dataframe\">\n",
       "  <thead>\n",
       "    <tr style=\"text-align: right;\">\n",
       "      <th></th>\n",
       "      <th>service_id</th>\n",
       "      <th>monday</th>\n",
       "      <th>tuesday</th>\n",
       "      <th>wednesday</th>\n",
       "      <th>thursday</th>\n",
       "      <th>friday</th>\n",
       "      <th>saturday</th>\n",
       "      <th>sunday</th>\n",
       "      <th>start_date</th>\n",
       "      <th>end_date</th>\n",
       "    </tr>\n",
       "  </thead>\n",
       "  <tbody>\n",
       "    <tr>\n",
       "      <th>0</th>\n",
       "      <td>UR</td>\n",
       "      <td>0</td>\n",
       "      <td>0</td>\n",
       "      <td>0</td>\n",
       "      <td>1</td>\n",
       "      <td>0</td>\n",
       "      <td>0</td>\n",
       "      <td>0</td>\n",
       "      <td>20190509</td>\n",
       "      <td>20190509</td>\n",
       "    </tr>\n",
       "    <tr>\n",
       "      <th>1</th>\n",
       "      <td>T6</td>\n",
       "      <td>0</td>\n",
       "      <td>0</td>\n",
       "      <td>0</td>\n",
       "      <td>0</td>\n",
       "      <td>1</td>\n",
       "      <td>0</td>\n",
       "      <td>0</td>\n",
       "      <td>20190510</td>\n",
       "      <td>20190510</td>\n",
       "    </tr>\n",
       "    <tr>\n",
       "      <th>2</th>\n",
       "      <td>T2</td>\n",
       "      <td>0</td>\n",
       "      <td>0</td>\n",
       "      <td>0</td>\n",
       "      <td>0</td>\n",
       "      <td>0</td>\n",
       "      <td>1</td>\n",
       "      <td>0</td>\n",
       "      <td>20190511</td>\n",
       "      <td>20190511</td>\n",
       "    </tr>\n",
       "    <tr>\n",
       "      <th>3</th>\n",
       "      <td>UJ</td>\n",
       "      <td>0</td>\n",
       "      <td>0</td>\n",
       "      <td>0</td>\n",
       "      <td>0</td>\n",
       "      <td>0</td>\n",
       "      <td>0</td>\n",
       "      <td>1</td>\n",
       "      <td>20190512</td>\n",
       "      <td>20190512</td>\n",
       "    </tr>\n",
       "    <tr>\n",
       "      <th>4</th>\n",
       "      <td>UO</td>\n",
       "      <td>1</td>\n",
       "      <td>0</td>\n",
       "      <td>0</td>\n",
       "      <td>0</td>\n",
       "      <td>0</td>\n",
       "      <td>0</td>\n",
       "      <td>0</td>\n",
       "      <td>20190513</td>\n",
       "      <td>20190513</td>\n",
       "    </tr>\n",
       "  </tbody>\n",
       "</table>\n",
       "</div>"
      ],
      "text/plain": [
       "  service_id  monday  tuesday  wednesday  thursday  friday  saturday  sunday  \\\n",
       "0         UR       0        0          0         1       0         0       0   \n",
       "1         T6       0        0          0         0       1         0       0   \n",
       "2         T2       0        0          0         0       0         1       0   \n",
       "3         UJ       0        0          0         0       0         0       1   \n",
       "4         UO       1        0          0         0       0         0       0   \n",
       "\n",
       "   start_date  end_date  \n",
       "0    20190509  20190509  \n",
       "1    20190510  20190510  \n",
       "2    20190511  20190511  \n",
       "3    20190512  20190512  \n",
       "4    20190513  20190513  "
      ]
     },
     "execution_count": 39,
     "metadata": {},
     "output_type": "execute_result"
    }
   ],
   "source": [
    "calendar_df_all.head()"
   ]
  },
  {
   "cell_type": "code",
   "execution_count": 40,
   "metadata": {},
   "outputs": [
    {
     "data": {
      "text/plain": [
       "1116"
      ]
     },
     "execution_count": 40,
     "metadata": {},
     "output_type": "execute_result"
    }
   ],
   "source": [
    "len(calendar_df_all)"
   ]
  },
  {
   "cell_type": "code",
   "execution_count": 41,
   "metadata": {},
   "outputs": [],
   "source": [
    "#delete duplicate rows and reindex rows\n",
    "calendar_df=calendar_df_all.drop_duplicates(subset=None, keep='first', inplace=False)\n",
    "calendar_df= calendar_df.reset_index(drop=True)"
   ]
  },
  {
   "cell_type": "code",
   "execution_count": 42,
   "metadata": {},
   "outputs": [
    {
     "data": {
      "text/plain": [
       "265"
      ]
     },
     "execution_count": 42,
     "metadata": {},
     "output_type": "execute_result"
    }
   ],
   "source": [
    "len(calendar_df)"
   ]
  },
  {
   "cell_type": "code",
   "execution_count": null,
   "metadata": {},
   "outputs": [],
   "source": []
  },
  {
   "cell_type": "markdown",
   "metadata": {},
   "source": [
    "### 4.2 Extract data in Calendar\n",
    "* service_id, start_date,end_date when all weekdays have trip seivice"
   ]
  },
  {
   "cell_type": "code",
   "execution_count": 43,
   "metadata": {},
   "outputs": [
    {
     "name": "stdout",
     "output_type": "stream",
     "text": [
      "<class 'pandas.core.frame.DataFrame'>\n",
      "RangeIndex: 265 entries, 0 to 264\n",
      "Data columns (total 10 columns):\n",
      "service_id    265 non-null object\n",
      "monday        265 non-null int64\n",
      "tuesday       265 non-null int64\n",
      "wednesday     265 non-null int64\n",
      "thursday      265 non-null int64\n",
      "friday        265 non-null int64\n",
      "saturday      265 non-null int64\n",
      "sunday        265 non-null int64\n",
      "start_date    265 non-null int64\n",
      "end_date      265 non-null int64\n",
      "dtypes: int64(9), object(1)\n",
      "memory usage: 20.8+ KB\n"
     ]
    }
   ],
   "source": [
    "calendar_df.info()"
   ]
  },
  {
   "cell_type": "code",
   "execution_count": 44,
   "metadata": {},
   "outputs": [],
   "source": [
    "calen_dict ={}\n",
    "seriveid_list =[]\n",
    "star_list = []\n",
    "end_list = []\n",
    "for i in range(len(calendar_df)):\n",
    "    \n",
    "    if calendar_df.loc[i,'monday']==1 and calendar_df.loc[i,'tuesday']==1:\n",
    "        #print(\"1\")\n",
    "        if calendar_df.loc[i,'wednesday']==1 and calendar_df.loc[i,'thursday']==1:\n",
    "            #print(\"2\")\n",
    "            if calendar_df.loc[i,'friday']==1:\n",
    "                seriveid_list.append(calendar_df.loc[i,'service_id'])\n",
    "                star_list.append(calendar_df.loc[i,'start_date'])\n",
    "                end_list.append(calendar_df.loc[i,'end_date'])"
   ]
  },
  {
   "cell_type": "code",
   "execution_count": 45,
   "metadata": {},
   "outputs": [
    {
     "name": "stdout",
     "output_type": "stream",
     "text": [
      "41\n",
      "41\n",
      "41\n"
     ]
    }
   ],
   "source": [
    "print(len(seriveid_list))\n",
    "print(len(star_list))\n",
    "print(len(end_list))"
   ]
  },
  {
   "cell_type": "code",
   "execution_count": 46,
   "metadata": {},
   "outputs": [],
   "source": [
    "#store each value of list to the dict\n",
    "calen_dict['service_id']=seriveid_list\n",
    "calen_dict['start_date']=star_list\n",
    "calen_dict['end_date']=end_list"
   ]
  },
  {
   "cell_type": "code",
   "execution_count": 47,
   "metadata": {},
   "outputs": [],
   "source": [
    "#extract_calendar = pd.DataFrame.from_dict(calen_dict)"
   ]
  },
  {
   "cell_type": "code",
   "execution_count": null,
   "metadata": {},
   "outputs": [],
   "source": [
    "#print(len(extract_calendar))\n",
    "#extract_calendar.head()"
   ]
  },
  {
   "cell_type": "code",
   "execution_count": null,
   "metadata": {},
   "outputs": [],
   "source": []
  },
  {
   "cell_type": "markdown",
   "metadata": {},
   "source": [
    "### 4.3 Extract trip_id \n",
    "* extract the trip_id responding with the extracted serivece_id to find   trip_id, service_id for all weekdays"
   ]
  },
  {
   "cell_type": "code",
   "execution_count": 48,
   "metadata": {},
   "outputs": [
    {
     "data": {
      "text/html": [
       "<div>\n",
       "<style scoped>\n",
       "    .dataframe tbody tr th:only-of-type {\n",
       "        vertical-align: middle;\n",
       "    }\n",
       "\n",
       "    .dataframe tbody tr th {\n",
       "        vertical-align: top;\n",
       "    }\n",
       "\n",
       "    .dataframe thead th {\n",
       "        text-align: right;\n",
       "    }\n",
       "</style>\n",
       "<table border=\"1\" class=\"dataframe\">\n",
       "  <thead>\n",
       "    <tr style=\"text-align: right;\">\n",
       "      <th></th>\n",
       "      <th>route_id</th>\n",
       "      <th>service_id</th>\n",
       "      <th>trip_id</th>\n",
       "      <th>shape_id</th>\n",
       "      <th>trip_headsign</th>\n",
       "      <th>direction_id</th>\n",
       "    </tr>\n",
       "  </thead>\n",
       "  <tbody>\n",
       "    <tr>\n",
       "      <th>0</th>\n",
       "      <td>1-V08-G-mjp-1</td>\n",
       "      <td>T0</td>\n",
       "      <td>1051.T0.1-V08-G-mjp-1.1.H</td>\n",
       "      <td>1-V08-G-mjp-1.1.H</td>\n",
       "      <td>Melbourne</td>\n",
       "      <td>0</td>\n",
       "    </tr>\n",
       "    <tr>\n",
       "      <th>1</th>\n",
       "      <td>1-V08-G-mjp-1</td>\n",
       "      <td>T0</td>\n",
       "      <td>1052.T0.1-V08-G-mjp-1.2.H</td>\n",
       "      <td>1-V08-G-mjp-1.2.H</td>\n",
       "      <td>Melbourne</td>\n",
       "      <td>0</td>\n",
       "    </tr>\n",
       "    <tr>\n",
       "      <th>2</th>\n",
       "      <td>1-V08-G-mjp-1</td>\n",
       "      <td>T0</td>\n",
       "      <td>1053.T0.1-V08-G-mjp-1.2.H</td>\n",
       "      <td>1-V08-G-mjp-1.2.H</td>\n",
       "      <td>Melbourne</td>\n",
       "      <td>0</td>\n",
       "    </tr>\n",
       "    <tr>\n",
       "      <th>3</th>\n",
       "      <td>1-V08-G-mjp-1</td>\n",
       "      <td>T0</td>\n",
       "      <td>1522.T0.1-V08-G-mjp-1.4.R</td>\n",
       "      <td>1-V08-G-mjp-1.4.R</td>\n",
       "      <td>Bairnsdale</td>\n",
       "      <td>1</td>\n",
       "    </tr>\n",
       "    <tr>\n",
       "      <th>4</th>\n",
       "      <td>1-V08-G-mjp-1</td>\n",
       "      <td>T0</td>\n",
       "      <td>1523.T0.1-V08-G-mjp-1.5.R</td>\n",
       "      <td>1-V08-G-mjp-1.5.R</td>\n",
       "      <td>Bairnsdale</td>\n",
       "      <td>1</td>\n",
       "    </tr>\n",
       "  </tbody>\n",
       "</table>\n",
       "</div>"
      ],
      "text/plain": [
       "        route_id service_id                    trip_id           shape_id  \\\n",
       "0  1-V08-G-mjp-1         T0  1051.T0.1-V08-G-mjp-1.1.H  1-V08-G-mjp-1.1.H   \n",
       "1  1-V08-G-mjp-1         T0  1052.T0.1-V08-G-mjp-1.2.H  1-V08-G-mjp-1.2.H   \n",
       "2  1-V08-G-mjp-1         T0  1053.T0.1-V08-G-mjp-1.2.H  1-V08-G-mjp-1.2.H   \n",
       "3  1-V08-G-mjp-1         T0  1522.T0.1-V08-G-mjp-1.4.R  1-V08-G-mjp-1.4.R   \n",
       "4  1-V08-G-mjp-1         T0  1523.T0.1-V08-G-mjp-1.5.R  1-V08-G-mjp-1.5.R   \n",
       "\n",
       "  trip_headsign  direction_id  \n",
       "0     Melbourne             0  \n",
       "1     Melbourne             0  \n",
       "2     Melbourne             0  \n",
       "3    Bairnsdale             1  \n",
       "4    Bairnsdale             1  "
      ]
     },
     "execution_count": 48,
     "metadata": {},
     "output_type": "execute_result"
    }
   ],
   "source": [
    "trips_df.head()"
   ]
  },
  {
   "cell_type": "code",
   "execution_count": 49,
   "metadata": {},
   "outputs": [
    {
     "data": {
      "text/plain": [
       "28"
      ]
     },
     "execution_count": 49,
     "metadata": {},
     "output_type": "execute_result"
    }
   ],
   "source": [
    "service_set = set(seriveid_list)\n",
    "len(service_set)"
   ]
  },
  {
   "cell_type": "code",
   "execution_count": 50,
   "metadata": {},
   "outputs": [],
   "source": [
    "#extract data and store them to a list of dicts\n",
    "ser_trip_list =[]\n",
    "\n",
    "for i in range(len(trips_df)):\n",
    "    st_dict={}\n",
    "    if trips_df.loc[i,'service_id'] in service_set:\n",
    "        st_dict['trip_id'] = trips_df.loc[i,'trip_id']\n",
    "        st_dict['service_id'] = trips_df.loc[i,'service_id']\n",
    "        st_dict['direction_id'] = trips_df.loc[i,'direction_id']\n",
    "        \n",
    "        ser_trip_list.append(st_dict)"
   ]
  },
  {
   "cell_type": "code",
   "execution_count": 51,
   "metadata": {},
   "outputs": [
    {
     "data": {
      "text/plain": [
       "37098"
      ]
     },
     "execution_count": 51,
     "metadata": {},
     "output_type": "execute_result"
    }
   ],
   "source": [
    "len(ser_trip_list)"
   ]
  },
  {
   "cell_type": "code",
   "execution_count": 52,
   "metadata": {},
   "outputs": [
    {
     "data": {
      "text/plain": [
       "[{'trip_id': '1051.T0.1-V08-G-mjp-1.1.H',\n",
       "  'service_id': 'T0',\n",
       "  'direction_id': 0},\n",
       " {'trip_id': '1052.T0.1-V08-G-mjp-1.2.H',\n",
       "  'service_id': 'T0',\n",
       "  'direction_id': 0},\n",
       " {'trip_id': '1053.T0.1-V08-G-mjp-1.2.H',\n",
       "  'service_id': 'T0',\n",
       "  'direction_id': 0},\n",
       " {'trip_id': '1522.T0.1-V08-G-mjp-1.4.R',\n",
       "  'service_id': 'T0',\n",
       "  'direction_id': 1},\n",
       " {'trip_id': '1523.T0.1-V08-G-mjp-1.5.R',\n",
       "  'service_id': 'T0',\n",
       "  'direction_id': 1}]"
      ]
     },
     "execution_count": 52,
     "metadata": {},
     "output_type": "execute_result"
    }
   ],
   "source": [
    "ser_trip_list[0:5]"
   ]
  },
  {
   "cell_type": "code",
   "execution_count": null,
   "metadata": {},
   "outputs": [],
   "source": []
  },
  {
   "cell_type": "markdown",
   "metadata": {},
   "source": [
    "### 4.4 Extract trip_id of Southern Cross in Stop_time \n",
    "* destination is Southern Cross, lat, lon and stop_id of it are given\n",
    "* extract trip_id and arrival_time for the destination of Southern Cross"
   ]
  },
  {
   "cell_type": "markdown",
   "metadata": {},
   "source": [
    "\n",
    "it is given that the positon of Souther Cross are: \n",
    "20043, -37.818334 144.952525 ; 22180, -37.817936 144.951411\n",
    "Now find the trip_id of Southern Cross\n",
    "    "
   ]
  },
  {
   "cell_type": "code",
   "execution_count": 53,
   "metadata": {},
   "outputs": [
    {
     "name": "stdout",
     "output_type": "stream",
     "text": [
      "4467595\n"
     ]
    },
    {
     "data": {
      "text/html": [
       "<div>\n",
       "<style scoped>\n",
       "    .dataframe tbody tr th:only-of-type {\n",
       "        vertical-align: middle;\n",
       "    }\n",
       "\n",
       "    .dataframe tbody tr th {\n",
       "        vertical-align: top;\n",
       "    }\n",
       "\n",
       "    .dataframe thead th {\n",
       "        text-align: right;\n",
       "    }\n",
       "</style>\n",
       "<table border=\"1\" class=\"dataframe\">\n",
       "  <thead>\n",
       "    <tr style=\"text-align: right;\">\n",
       "      <th></th>\n",
       "      <th>trip_id</th>\n",
       "      <th>arrival_time</th>\n",
       "      <th>departure_time</th>\n",
       "      <th>stop_id</th>\n",
       "      <th>stop_sequence</th>\n",
       "    </tr>\n",
       "  </thead>\n",
       "  <tbody>\n",
       "    <tr>\n",
       "      <th>0</th>\n",
       "      <td>7548.UR.1-V08-A-mjp-1.1.H</td>\n",
       "      <td>06:08:00</td>\n",
       "      <td>06:08:00</td>\n",
       "      <td>20291</td>\n",
       "      <td>1</td>\n",
       "    </tr>\n",
       "    <tr>\n",
       "      <th>1</th>\n",
       "      <td>7548.UR.1-V08-A-mjp-1.1.H</td>\n",
       "      <td>06:42:00</td>\n",
       "      <td>06:42:00</td>\n",
       "      <td>20346</td>\n",
       "      <td>2</td>\n",
       "    </tr>\n",
       "    <tr>\n",
       "      <th>2</th>\n",
       "      <td>7548.UR.1-V08-A-mjp-1.1.H</td>\n",
       "      <td>06:55:00</td>\n",
       "      <td>06:57:00</td>\n",
       "      <td>20341</td>\n",
       "      <td>3</td>\n",
       "    </tr>\n",
       "    <tr>\n",
       "      <th>3</th>\n",
       "      <td>7548.UR.1-V08-A-mjp-1.1.H</td>\n",
       "      <td>07:16:00</td>\n",
       "      <td>07:16:00</td>\n",
       "      <td>20339</td>\n",
       "      <td>4</td>\n",
       "    </tr>\n",
       "    <tr>\n",
       "      <th>4</th>\n",
       "      <td>7548.UR.1-V08-A-mjp-1.1.H</td>\n",
       "      <td>07:32:00</td>\n",
       "      <td>07:34:00</td>\n",
       "      <td>20351</td>\n",
       "      <td>5</td>\n",
       "    </tr>\n",
       "  </tbody>\n",
       "</table>\n",
       "</div>"
      ],
      "text/plain": [
       "                     trip_id arrival_time departure_time  stop_id  \\\n",
       "0  7548.UR.1-V08-A-mjp-1.1.H     06:08:00       06:08:00    20291   \n",
       "1  7548.UR.1-V08-A-mjp-1.1.H     06:42:00       06:42:00    20346   \n",
       "2  7548.UR.1-V08-A-mjp-1.1.H     06:55:00       06:57:00    20341   \n",
       "3  7548.UR.1-V08-A-mjp-1.1.H     07:16:00       07:16:00    20339   \n",
       "4  7548.UR.1-V08-A-mjp-1.1.H     07:32:00       07:34:00    20351   \n",
       "\n",
       "   stop_sequence  \n",
       "0              1  \n",
       "1              2  \n",
       "2              3  \n",
       "3              4  \n",
       "4              5  "
      ]
     },
     "execution_count": 53,
     "metadata": {},
     "output_type": "execute_result"
    }
   ],
   "source": [
    "print(len(stoptime_df))\n",
    "stoptime_df.head()"
   ]
  },
  {
   "cell_type": "code",
   "execution_count": 54,
   "metadata": {},
   "outputs": [
    {
     "name": "stdout",
     "output_type": "stream",
     "text": [
      "-37.818334291342204 144.952524867532\n",
      "-37.817936427529396 144.951411219785\n"
     ]
    }
   ],
   "source": [
    "for i in range(len(stops_df)):\n",
    "    if stops_df.loc[i,'stop_id'] == 20043:\n",
    "        print(stops_df.loc[i,'stop_lat'],stops_df.loc[i,'stop_lon'])\n",
    "        \n",
    "    if stops_df.loc[i,'stop_id'] == 22180:\n",
    "        print(stops_df.loc[i,'stop_lat'],stops_df.loc[i,'stop_lon'])"
   ]
  },
  {
   "cell_type": "code",
   "execution_count": 55,
   "metadata": {},
   "outputs": [],
   "source": [
    "SC_stop_id1 = 20043\n",
    "SC_stop_id2 = 22180"
   ]
  },
  {
   "cell_type": "code",
   "execution_count": 56,
   "metadata": {},
   "outputs": [],
   "source": [
    "'''extract information in stoptimes,in which destination is SC, \n",
    "then store them into list of dicts\n",
    "'''\n",
    "SC_stoptime_list=[]\n",
    "\n",
    "for i in range(len(stoptime_df)):\n",
    "    SC_dict ={}\n",
    "    if stoptime_df.loc[i,'stop_id']== SC_stop_id1 or stoptime_df.loc[i,'stop_id']== SC_stop_id2:\n",
    "        SC_dict['trip_id']=stoptime_df.loc[i,'trip_id']\n",
    "        SC_dict['SC_stop_id']=stoptime_df.loc[i,'stop_id']\n",
    "        SC_dict['arrival_time']=stoptime_df.loc[i,'arrival_time']\n",
    "        \n",
    "        SC_stoptime_list.append(SC_dict)"
   ]
  },
  {
   "cell_type": "code",
   "execution_count": 57,
   "metadata": {},
   "outputs": [
    {
     "name": "stdout",
     "output_type": "stream",
     "text": [
      "18718\n"
     ]
    },
    {
     "data": {
      "text/plain": [
       "{'trip_id': '7548.UR.1-V08-A-mjp-1.1.H',\n",
       " 'SC_stop_id': 20043,\n",
       " 'arrival_time': '09:57:00'}"
      ]
     },
     "execution_count": 57,
     "metadata": {},
     "output_type": "execute_result"
    }
   ],
   "source": [
    "print(len(SC_stoptime_list))\n",
    "SC_stoptime_list[0]"
   ]
  },
  {
   "cell_type": "code",
   "execution_count": null,
   "metadata": {},
   "outputs": [],
   "source": []
  },
  {
   "cell_type": "markdown",
   "metadata": {},
   "source": [
    "### 4.5 Join last two steps \n",
    "* inner join last two steps to extract service_id, trip_id, SC_stop_id for SC by finding the same trip_id in step3 and step4"
   ]
  },
  {
   "cell_type": "code",
   "execution_count": 58,
   "metadata": {},
   "outputs": [],
   "source": [
    "# find the same trip_id in two dicts\n",
    "join_sc_list = []\n",
    "for i in range(len(SC_stoptime_list)):\n",
    "    dicts={}\n",
    "    trip = SC_stoptime_list[i]['trip_id']\n",
    "    for j in range(len(ser_trip_list)):\n",
    "        trips = ser_trip_list[j]['trip_id']\n",
    "        if trips ==trip:\n",
    "            dicts['trip_id']= trip\n",
    "            dicts['SC_stop_id']=SC_stoptime_list[i]['SC_stop_id']\n",
    "            dicts['arrival_time']=SC_stoptime_list[i]['arrival_time']\n",
    "            dicts['service_id']=ser_trip_list[j]['service_id']\n",
    "            dicts['direction_id']=ser_trip_list[j]['direction_id']\n",
    "            join_sc_list.append(dicts)"
   ]
  },
  {
   "cell_type": "code",
   "execution_count": 59,
   "metadata": {},
   "outputs": [
    {
     "name": "stdout",
     "output_type": "stream",
     "text": [
      "2834\n"
     ]
    },
    {
     "data": {
      "text/plain": [
       "{'trip_id': '1051.T0.1-V08-G-mjp-1.1.H',\n",
       " 'SC_stop_id': 20043,\n",
       " 'arrival_time': '09:57:00',\n",
       " 'service_id': 'T0',\n",
       " 'direction_id': 0}"
      ]
     },
     "execution_count": 59,
     "metadata": {},
     "output_type": "execute_result"
    }
   ],
   "source": [
    "print(len(join_sc_list))\n",
    "join_sc_list[0]"
   ]
  },
  {
   "cell_type": "code",
   "execution_count": null,
   "metadata": {},
   "outputs": [],
   "source": []
  },
  {
   "cell_type": "markdown",
   "metadata": {},
   "source": [
    "### 4.6 Find the possible train_station near property\n",
    "* extract the stop_id of stop station in which dep time is between 7:00 and 9:30 in Stoptime\n",
    "* join extracted stop_id with extracted trip_id(step5) that directed go to SC to find the trip that directly go to SC dep time between 7:00-9:30am and service all weekdays\n",
    "* calculate the distance between property and possible stations(extracted stop_id)   "
   ]
  },
  {
   "cell_type": "markdown",
   "metadata": {},
   "source": [
    "Extract the possible station that dep time is between 7:00 and 9:30 in Stoptime"
   ]
  },
  {
   "cell_type": "code",
   "execution_count": 60,
   "metadata": {},
   "outputs": [
    {
     "name": "stdout",
     "output_type": "stream",
     "text": [
      "<class 'pandas.core.frame.DataFrame'>\n",
      "RangeIndex: 4467595 entries, 0 to 4467594\n",
      "Data columns (total 5 columns):\n",
      "trip_id           object\n",
      "arrival_time      object\n",
      "departure_time    object\n",
      "stop_id           int64\n",
      "stop_sequence     int64\n",
      "dtypes: int64(2), object(3)\n",
      "memory usage: 170.4+ MB\n"
     ]
    }
   ],
   "source": [
    "#see the type of departure_time\n",
    "stoptime_df.info()"
   ]
  },
  {
   "cell_type": "code",
   "execution_count": 61,
   "metadata": {},
   "outputs": [],
   "source": [
    "'''\n",
    "extract the stop_id and trip_id and dep time when dep time between 7:00-9:30am\n",
    "and directly go to SC (include the dep_station is SC) according to the extracted trip_id;\n",
    "Now we extracted the trip that is directly go to SC , dep time between 7:00\n",
    "-9:30am and have service all weekdays\n",
    "Store all information in a list of dicts\n",
    "'''\n",
    "dp_sc_list = []\n",
    "for i in range(len(stoptime_df)):\n",
    "    dep_dict = {}\n",
    "    dep_time =stoptime_df.loc[i,'departure_time']\n",
    "    \n",
    "    if dep_time >'07:00:00' and dep_time< '09:30:00':\n",
    "        tripid=stoptime_df.loc[i,'trip_id']\n",
    "        \n",
    "        for j in range(len(join_sc_list)):\n",
    "            if dep_time <= join_sc_list[j]['arrival_time'] and tripid == join_sc_list[j]['trip_id']:\n",
    "                #if tripid == join_sc_list[j]['trip_id']:\n",
    "                    dep_dict['trip_id']=stoptime_df.loc[i,'trip_id']\n",
    "                    dep_dict['Dep_stop_id']=stoptime_df.loc[i,'stop_id']\n",
    "                    dep_dict['departure_time']=stoptime_df.loc[i,'departure_time']\n",
    "                \n",
    "                    dep_dict['SC_stop_id']=join_sc_list[j]['SC_stop_id']\n",
    "                    dep_dict['arrival_time']=join_sc_list[j]['arrival_time']\n",
    "                    dep_dict['service_id']=join_sc_list[j]['service_id']\n",
    "                    dep_dict['direction_id']=join_sc_list[j]['direction_id']\n",
    "                    dp_sc_list.append(dep_dict)"
   ]
  },
  {
   "cell_type": "code",
   "execution_count": 62,
   "metadata": {},
   "outputs": [
    {
     "data": {
      "text/plain": [
       "5269"
      ]
     },
     "execution_count": 62,
     "metadata": {},
     "output_type": "execute_result"
    }
   ],
   "source": [
    "len(dp_sc_list)"
   ]
  },
  {
   "cell_type": "code",
   "execution_count": 63,
   "metadata": {},
   "outputs": [
    {
     "name": "stdout",
     "output_type": "stream",
     "text": [
      "5269\n"
     ]
    },
    {
     "data": {
      "text/plain": [
       "{'trip_id': '1051.T0.1-V08-G-mjp-1.1.H',\n",
       " 'Dep_stop_id': 20339,\n",
       " 'departure_time': '07:16:00',\n",
       " 'SC_stop_id': 20043,\n",
       " 'arrival_time': '09:57:00',\n",
       " 'service_id': 'T0',\n",
       " 'direction_id': 0}"
      ]
     },
     "execution_count": 63,
     "metadata": {},
     "output_type": "execute_result"
    }
   ],
   "source": [
    "print(len(dp_sc_list))\n",
    "dp_sc_list[0]"
   ]
  },
  {
   "cell_type": "code",
   "execution_count": null,
   "metadata": {},
   "outputs": [],
   "source": []
  },
  {
   "cell_type": "code",
   "execution_count": 64,
   "metadata": {},
   "outputs": [
    {
     "data": {
      "text/plain": [
       "5269"
      ]
     },
     "execution_count": 64,
     "metadata": {},
     "output_type": "execute_result"
    }
   ],
   "source": [
    "#since the len of Stop is large, we extract the dep stop_id in a list\n",
    "dep_stop_list = []\n",
    "for i in range(len(dp_sc_list)):\n",
    "    dep_stopid = dp_sc_list[i]['Dep_stop_id']\n",
    "    dep_stop_list.append(dep_stopid)\n",
    "    \n",
    "len(dep_stop_list)"
   ]
  },
  {
   "cell_type": "code",
   "execution_count": 65,
   "metadata": {},
   "outputs": [
    {
     "data": {
      "text/plain": [
       "287"
      ]
     },
     "execution_count": 65,
     "metadata": {},
     "output_type": "execute_result"
    }
   ],
   "source": [
    "set_stop=list(set(dep_stop_list))\n",
    "len(set(dep_stop_list))"
   ]
  },
  {
   "cell_type": "code",
   "execution_count": null,
   "metadata": {},
   "outputs": [],
   "source": []
  },
  {
   "cell_type": "code",
   "execution_count": 66,
   "metadata": {},
   "outputs": [],
   "source": [
    "'''\n",
    "get the lon and lat of the extracted stop_id, which can used to calculate\n",
    "the distance later\n",
    "'''\n",
    "dep_station_list = []\n",
    "for i in range(len(set_stop)):\n",
    "    station_dict = {}\n",
    "    dep_stopid = set_stop[i]\n",
    "    \n",
    "    for j in range(len(stops_df)):\n",
    "        stops = stops_df.loc[j,'stop_id']\n",
    "        if stops == dep_stopid:\n",
    "            #station_dict={}\n",
    "            station_dict['Dep_stop_id']=stops\n",
    "            station_dict['stop_lat']=stops_df.loc[j,'stop_lat']\n",
    "            station_dict['stop_lon']=stops_df.loc[j,'stop_lon']\n",
    "            station_dict['stop_name']=stops_df.loc[j,'stop_name']\n",
    "            dep_station_list.append(station_dict)"
   ]
  },
  {
   "cell_type": "code",
   "execution_count": 67,
   "metadata": {},
   "outputs": [
    {
     "name": "stdout",
     "output_type": "stream",
     "text": [
      "287\n"
     ]
    },
    {
     "data": {
      "text/plain": [
       "{'Dep_stop_id': 19968,\n",
       " 'stop_lat': -37.7677205467189,\n",
       " 'stop_lon': 144.95958653625098,\n",
       " 'stop_name': 'Brunswick Railway Station (Brunswick)'}"
      ]
     },
     "execution_count": 67,
     "metadata": {},
     "output_type": "execute_result"
    }
   ],
   "source": [
    "print(len(dep_station_list))\n",
    "dep_station_list[0]"
   ]
  },
  {
   "cell_type": "code",
   "execution_count": null,
   "metadata": {},
   "outputs": [],
   "source": []
  },
  {
   "cell_type": "markdown",
   "metadata": {},
   "source": [
    "### 4.7 Calculate the distance between property and train station"
   ]
  },
  {
   "cell_type": "code",
   "execution_count": 68,
   "metadata": {},
   "outputs": [],
   "source": [
    "#Calculate the great circle distance between two points on the earth (specified in decimal degrees)\n",
    "from math import radians, cos, sin, asin, sqrt\n",
    "def calDistance(lat1, lon1, lat2, lon2): \n",
    "    r = 6378   # radius of the earth\n",
    "    \n",
    "    lon1, lat1, lon2, lat2 = map(radians, [lon1, lat1, lon2, lat2])\n",
    " \n",
    "    # haversine formula\n",
    "    dlon = lon2 - lon1 \n",
    "    dlat = lat2 - lat1 \n",
    "    a = sin(dlat/2)**2 + cos(lat1) * cos(lat2) * sin(dlon/2)**2\n",
    "    c = 2 * asin(sqrt(a)) \n",
    "    \n",
    "    return c * r *1000"
   ]
  },
  {
   "cell_type": "code",
   "execution_count": 69,
   "metadata": {},
   "outputs": [
    {
     "name": "stdout",
     "output_type": "stream",
     "text": [
      "720\n"
     ]
    },
    {
     "data": {
      "text/html": [
       "<div>\n",
       "<style scoped>\n",
       "    .dataframe tbody tr th:only-of-type {\n",
       "        vertical-align: middle;\n",
       "    }\n",
       "\n",
       "    .dataframe tbody tr th {\n",
       "        vertical-align: top;\n",
       "    }\n",
       "\n",
       "    .dataframe thead th {\n",
       "        text-align: right;\n",
       "    }\n",
       "</style>\n",
       "<table border=\"1\" class=\"dataframe\">\n",
       "  <thead>\n",
       "    <tr style=\"text-align: right;\">\n",
       "      <th></th>\n",
       "      <th>ID</th>\n",
       "      <th>Address</th>\n",
       "      <th>Suburb</th>\n",
       "      <th>Price</th>\n",
       "      <th>Type</th>\n",
       "      <th>Date</th>\n",
       "      <th>Rooms</th>\n",
       "      <th>Bathroom</th>\n",
       "      <th>Car</th>\n",
       "      <th>Landsize</th>\n",
       "      <th>Age</th>\n",
       "      <th>Lattitude</th>\n",
       "      <th>Longtitude</th>\n",
       "    </tr>\n",
       "  </thead>\n",
       "  <tbody>\n",
       "    <tr>\n",
       "      <th>0</th>\n",
       "      <td>ID291519933</td>\n",
       "      <td>2/23 Foam St</td>\n",
       "      <td>ELWOOD</td>\n",
       "      <td>582500.0</td>\n",
       "      <td>u</td>\n",
       "      <td>8/10/2016</td>\n",
       "      <td>2</td>\n",
       "      <td>1.0</td>\n",
       "      <td>1.0</td>\n",
       "      <td>0.0</td>\n",
       "      <td>49.0</td>\n",
       "      <td>-37.88500</td>\n",
       "      <td>144.9910</td>\n",
       "    </tr>\n",
       "    <tr>\n",
       "      <th>1</th>\n",
       "      <td>ID777648929</td>\n",
       "      <td>6/210 Domain Rd</td>\n",
       "      <td>SOUTH YARRA</td>\n",
       "      <td>832000.0</td>\n",
       "      <td>u</td>\n",
       "      <td>15/10/2016</td>\n",
       "      <td>2</td>\n",
       "      <td>1.0</td>\n",
       "      <td>1.0</td>\n",
       "      <td>0.0</td>\n",
       "      <td>59.0</td>\n",
       "      <td>-37.83420</td>\n",
       "      <td>144.9842</td>\n",
       "    </tr>\n",
       "    <tr>\n",
       "      <th>2</th>\n",
       "      <td>ID436934525</td>\n",
       "      <td>52 Richardson St</td>\n",
       "      <td>THOMASTOWN</td>\n",
       "      <td>508000.0</td>\n",
       "      <td>h</td>\n",
       "      <td>15/07/2017</td>\n",
       "      <td>3</td>\n",
       "      <td>2.0</td>\n",
       "      <td>1.0</td>\n",
       "      <td>189.0</td>\n",
       "      <td>29.0</td>\n",
       "      <td>-37.68159</td>\n",
       "      <td>145.0371</td>\n",
       "    </tr>\n",
       "    <tr>\n",
       "      <th>3</th>\n",
       "      <td>ID648123973</td>\n",
       "      <td>17 George St</td>\n",
       "      <td>NIDDRIE</td>\n",
       "      <td>875000.0</td>\n",
       "      <td>h</td>\n",
       "      <td>14/05/2016</td>\n",
       "      <td>4</td>\n",
       "      <td>3.0</td>\n",
       "      <td>1.0</td>\n",
       "      <td>321.0</td>\n",
       "      <td>69.0</td>\n",
       "      <td>-37.74240</td>\n",
       "      <td>144.8851</td>\n",
       "    </tr>\n",
       "    <tr>\n",
       "      <th>4</th>\n",
       "      <td>ID303786399</td>\n",
       "      <td>1/11 Brockley Rd</td>\n",
       "      <td>FAWKNER</td>\n",
       "      <td>400000.0</td>\n",
       "      <td>h</td>\n",
       "      <td>22/05/2016</td>\n",
       "      <td>3</td>\n",
       "      <td>1.0</td>\n",
       "      <td>1.0</td>\n",
       "      <td>285.0</td>\n",
       "      <td>49.0</td>\n",
       "      <td>-37.71610</td>\n",
       "      <td>144.9662</td>\n",
       "    </tr>\n",
       "  </tbody>\n",
       "</table>\n",
       "</div>"
      ],
      "text/plain": [
       "            ID           Address       Suburb     Price Type        Date  \\\n",
       "0  ID291519933      2/23 Foam St       ELWOOD  582500.0    u   8/10/2016   \n",
       "1  ID777648929   6/210 Domain Rd  SOUTH YARRA  832000.0    u  15/10/2016   \n",
       "2  ID436934525  52 Richardson St   THOMASTOWN  508000.0    h  15/07/2017   \n",
       "3  ID648123973      17 George St      NIDDRIE  875000.0    h  14/05/2016   \n",
       "4  ID303786399  1/11 Brockley Rd      FAWKNER  400000.0    h  22/05/2016   \n",
       "\n",
       "   Rooms  Bathroom  Car  Landsize   Age  Lattitude  Longtitude  \n",
       "0      2       1.0  1.0       0.0  49.0  -37.88500    144.9910  \n",
       "1      2       1.0  1.0       0.0  59.0  -37.83420    144.9842  \n",
       "2      3       2.0  1.0     189.0  29.0  -37.68159    145.0371  \n",
       "3      4       3.0  1.0     321.0  69.0  -37.74240    144.8851  \n",
       "4      3       1.0  1.0     285.0  49.0  -37.71610    144.9662  "
      ]
     },
     "execution_count": 69,
     "metadata": {},
     "output_type": "execute_result"
    }
   ],
   "source": [
    "print(len(data_df))\n",
    "data_df.head()"
   ]
  },
  {
   "cell_type": "code",
   "execution_count": 70,
   "metadata": {},
   "outputs": [],
   "source": [
    "'''\n",
    "Calculate the cloest distance between each property and all extracted train stations and choose\n",
    "the closest one , then store them into a list of dicts by the order of property ID\n",
    "\n",
    "'''\n",
    "all_distances = []\n",
    "\n",
    "for i in range(len(data_df)):\n",
    "    min_dist = 10000000000\n",
    "    stops_dicts ={}\n",
    "    \n",
    "    stops_dicts['ID']=data_df.loc[i,'ID']\n",
    "    #per_suburb = data_df.loc[i,'suburb']\n",
    "    per_lat = data_df.loc[i,'Lattitude']\n",
    "    per_lon = data_df.loc[i,'Longtitude']\n",
    "    \n",
    "    for j in range(len(dep_station_list)):\n",
    "        station_lat = dep_station_list[j]['stop_lat']\n",
    "        station_lon = dep_station_list[j]['stop_lon']\n",
    "        cal_dist = calDistance(per_lat,per_lon,station_lat,station_lon)\n",
    "        \n",
    "        if min_dist > cal_dist:   # select the shorest distance\n",
    "            min_dist = cal_dist\n",
    "            dep_stopid = dep_station_list[j]['Dep_stop_id']\n",
    "        #stopid_distance = [dep_station_list[j]['Dep_stop_id'],cal_distance]\n",
    "        #distances.append(stopid_distance)\n",
    "    #min_distance = distance.min()\n",
    "    #stops_dicts['distances']=distance\n",
    "    #all_distance.append(stops_dicts)\n",
    "    stops_dicts['train_stat']=dep_stopid\n",
    "    stops_dicts['min_distance']=round(min_dist,9)\n",
    "    all_distances.append(stops_dicts)"
   ]
  },
  {
   "cell_type": "code",
   "execution_count": 71,
   "metadata": {},
   "outputs": [
    {
     "name": "stdout",
     "output_type": "stream",
     "text": [
      "720\n"
     ]
    },
    {
     "data": {
      "text/plain": [
       "[{'ID': 'ID777648929', 'train_stat': 19959, 'min_distance': 857.991321263},\n",
       " {'ID': 'ID436934525', 'train_stat': 20007, 'min_distance': 2015.350031362},\n",
       " {'ID': 'ID648123973', 'train_stat': 20037, 'min_distance': 3128.553282804},\n",
       " {'ID': 'ID303786399', 'train_stat': 19962, 'min_distance': 524.468886245}]"
      ]
     },
     "execution_count": 71,
     "metadata": {},
     "output_type": "execute_result"
    }
   ],
   "source": [
    "print(len(all_distances))\n",
    "all_distances[1:5]"
   ]
  },
  {
   "cell_type": "code",
   "execution_count": 72,
   "metadata": {},
   "outputs": [
    {
     "name": "stdout",
     "output_type": "stream",
     "text": [
      "{'ID': 'ID425523975', 'train_stat': 20043, 'min_distance': 2172.799918969}\n",
      "{'ID': 'ID549969911', 'train_stat': 20043, 'min_distance': 179.373520421}\n",
      "{'ID': 'ID380828484', 'train_stat': 20043, 'min_distance': 1711.301973065}\n",
      "{'ID': 'ID303223533', 'train_stat': 20043, 'min_distance': 1725.634031163}\n",
      "{'ID': 'ID435622588', 'train_stat': 20043, 'min_distance': 2761.532536443}\n",
      "{'ID': 'ID881395301', 'train_stat': 20043, 'min_distance': 2004.987100562}\n",
      "{'ID': 'ID609494076', 'train_stat': 20043, 'min_distance': 2900.871152021}\n",
      "{'ID': 'ID350074582', 'train_stat': 20043, 'min_distance': 3382.543102022}\n",
      "{'ID': 'ID437540542', 'train_stat': 20043, 'min_distance': 2497.022473859}\n",
      "{'ID': 'ID898664940', 'train_stat': 20043, 'min_distance': 2732.53908422}\n",
      "{'ID': 'ID947756281', 'train_stat': 20043, 'min_distance': 2420.843470504}\n",
      "{'ID': 'ID762711462', 'train_stat': 20043, 'min_distance': 2329.280595993}\n",
      "{'ID': 'ID729080789', 'train_stat': 22180, 'min_distance': 2824.476034273}\n",
      "{'ID': 'ID436190470', 'train_stat': 20043, 'min_distance': 2443.37308529}\n"
     ]
    }
   ],
   "source": [
    "# see whether the closest train station is Southern Cross\n",
    "for each in all_distances:\n",
    "    if each['train_stat']== 20043 or each['train_stat']== 22180:\n",
    "        print(each)       "
   ]
  },
  {
   "cell_type": "markdown",
   "metadata": {},
   "source": [
    "#### add closest train station id and distance to dataframe "
   ]
  },
  {
   "cell_type": "code",
   "execution_count": 73,
   "metadata": {},
   "outputs": [],
   "source": [
    "#set a default value for closest station id and distance volumn \n",
    "data_df['train_station_id'] = \"0\"\n",
    "data_df['distance_to_train_station'] = \"0\""
   ]
  },
  {
   "cell_type": "code",
   "execution_count": 74,
   "metadata": {},
   "outputs": [],
   "source": [
    "#the order of each ID in all_distances and order in data_df are same, so just add the value to data\n",
    "for i in range(len(data_df)):\n",
    "    data_df.loc[i,'train_station_id']=all_distances[i]['train_stat']\n",
    "    data_df.loc[i,'distance_to_train_station']=all_distances[i]['min_distance']"
   ]
  },
  {
   "cell_type": "code",
   "execution_count": null,
   "metadata": {},
   "outputs": [],
   "source": []
  },
  {
   "cell_type": "code",
   "execution_count": null,
   "metadata": {},
   "outputs": [],
   "source": []
  },
  {
   "cell_type": "markdown",
   "metadata": {},
   "source": [
    "## 5.Calculate the average travel time\n",
    "* extract all trip_id for each property from dp_sc_list(step 4.6) which contain trip information of each property\n",
    "* if the clsest station of property is SC then the travel time is 0\n",
    "* if there is only one trip from closest train station, then just calculate by departure time and arrival time"
   ]
  },
  {
   "cell_type": "code",
   "execution_count": 75,
   "metadata": {},
   "outputs": [
    {
     "data": {
      "text/plain": [
       "{'trip_id': '1051.T0.1-V08-G-mjp-1.1.H',\n",
       " 'Dep_stop_id': 20339,\n",
       " 'departure_time': '07:16:00',\n",
       " 'SC_stop_id': 20043,\n",
       " 'arrival_time': '09:57:00',\n",
       " 'service_id': 'T0',\n",
       " 'direction_id': 0}"
      ]
     },
     "execution_count": 75,
     "metadata": {},
     "output_type": "execute_result"
    }
   ],
   "source": [
    "# extract all trip_id and other trip information for each property in dp_sc_list\n",
    "dp_sc_list[0]"
   ]
  },
  {
   "cell_type": "code",
   "execution_count": 76,
   "metadata": {},
   "outputs": [],
   "source": [
    "'''\n",
    "extract all trip_id and other trip information for each property in dp_sc_list \n",
    "and store them into a list of dicts\n",
    "'''\n",
    "\n",
    "pro_time_list = []\n",
    "\n",
    "for i in range(len(data_df)):\n",
    "    #store all trips information of each property to a dict\n",
    "    pro_dict = {}\n",
    "    tripid_list = []\n",
    "    dep_time_list =[]\n",
    "    arr_time_list = []\n",
    "    \n",
    "    pro_dict['ID']=data_df.loc[i,'ID']\n",
    "    pro_dict['dep_stat']=data_df.loc[i,'train_station_id']\n",
    "    \n",
    "    pro_stat =data_df.loc[i,'train_station_id']\n",
    "    for each in dp_sc_list:\n",
    "        dep_stat = each['Dep_stop_id']\n",
    "        \n",
    "        if pro_stat==dep_stat: #store more than one possible trip information to list\n",
    "            tripid_list.append(each['trip_id'])\n",
    "            dep_time_list.append(each['departure_time'])\n",
    "            arr_time_list.append(each['arrival_time'])\n",
    "            \n",
    "    pro_dict['trips_id']=tripid_list\n",
    "    pro_dict['dep_times']=dep_time_list\n",
    "    pro_dict['arr_times']=arr_time_list\n",
    "    pro_time_list.append(pro_dict)"
   ]
  },
  {
   "cell_type": "code",
   "execution_count": 77,
   "metadata": {},
   "outputs": [
    {
     "data": {
      "text/plain": [
       "720"
      ]
     },
     "execution_count": 77,
     "metadata": {},
     "output_type": "execute_result"
    }
   ],
   "source": [
    "len(pro_time_list)"
   ]
  },
  {
   "cell_type": "code",
   "execution_count": 1,
   "metadata": {},
   "outputs": [],
   "source": [
    "#pro_time_list[0:4]"
   ]
  },
  {
   "cell_type": "code",
   "execution_count": 79,
   "metadata": {},
   "outputs": [
    {
     "name": "stdout",
     "output_type": "stream",
     "text": [
      "0\n"
     ]
    }
   ],
   "source": [
    "'''\n",
    "Calculat the avaerage travel time,\n",
    "if the closest station is SC, then travel time is 0, add key-value to that property's dict;\n",
    "if len of trip_id equal or more than one, calcualte time by dep time and arr time by the same order;\n",
    "\n",
    "'''\n",
    "\n",
    "err=0\n",
    "for each in pro_time_list:\n",
    "    #whether closest station is SC\n",
    "    if each['dep_stat'] == 20043 or each['dep_stat'] == 22180:\n",
    "        each['travel_time']=0\n",
    "    \n",
    "    #judge the len\n",
    "    elif len(each['trips_id']) >=1 :\n",
    "        travel_time = []\n",
    "        count=0\n",
    "        for i in range(len(each['trips_id'])):\n",
    "            dep_time = parser.parse(each['dep_times'][i])\n",
    "            arr_time = parser.parse(each['arr_times'][i])\n",
    "            if dep_time > arr_time: #from SC to closest station\n",
    "                print(each['ID'],each['trips_id'])\n",
    "            if dep_time < arr_time:\n",
    "                count +=1\n",
    "                cal_tratime = (arr_time - dep_time).seconds\n",
    "                tra_time = cal_tratime/60\n",
    "                travel_time.append(tra_time)\n",
    "        #print(\"c\",count,travel_time) \n",
    "        if count==0:# not have right trip\n",
    "            err+=1\n",
    "            print(each['ID'],each['trips_id'],each['dep_times'],each['arr_times'])\n",
    "        else:\n",
    "            av_travel_time =sum(travel_time)/count\n",
    "            each['travel_time']=round(av_travel_time,4)\n",
    "print(err)"
   ]
  },
  {
   "cell_type": "code",
   "execution_count": 2,
   "metadata": {},
   "outputs": [],
   "source": [
    "#pro_time_list[0:4]"
   ]
  },
  {
   "cell_type": "code",
   "execution_count": 81,
   "metadata": {},
   "outputs": [
    {
     "name": "stdout",
     "output_type": "stream",
     "text": [
      "720\n"
     ]
    }
   ],
   "source": [
    "#check len of list\n",
    "print(len(pro_time_list))\n",
    "\n",
    "#set travel time value\n",
    "data_df['travel_min_to_CBD']='0'\n"
   ]
  },
  {
   "cell_type": "code",
   "execution_count": 82,
   "metadata": {},
   "outputs": [],
   "source": [
    "#add each travel time value to dataframe by the order of property ID\n",
    "for i in range(len(data_df)):\n",
    "    if pro_time_list[i]['ID']==data_df.loc[i,'ID']:\n",
    "        data_df.loc[i,'travel_min_to_CBD']=pro_time_list[i]['travel_time']"
   ]
  },
  {
   "cell_type": "code",
   "execution_count": 83,
   "metadata": {},
   "outputs": [
    {
     "data": {
      "text/html": [
       "<div>\n",
       "<style scoped>\n",
       "    .dataframe tbody tr th:only-of-type {\n",
       "        vertical-align: middle;\n",
       "    }\n",
       "\n",
       "    .dataframe tbody tr th {\n",
       "        vertical-align: top;\n",
       "    }\n",
       "\n",
       "    .dataframe thead th {\n",
       "        text-align: right;\n",
       "    }\n",
       "</style>\n",
       "<table border=\"1\" class=\"dataframe\">\n",
       "  <thead>\n",
       "    <tr style=\"text-align: right;\">\n",
       "      <th></th>\n",
       "      <th>ID</th>\n",
       "      <th>Address</th>\n",
       "      <th>Suburb</th>\n",
       "      <th>Price</th>\n",
       "      <th>Type</th>\n",
       "      <th>Date</th>\n",
       "      <th>Rooms</th>\n",
       "      <th>Bathroom</th>\n",
       "      <th>Car</th>\n",
       "      <th>Landsize</th>\n",
       "      <th>Age</th>\n",
       "      <th>Lattitude</th>\n",
       "      <th>Longtitude</th>\n",
       "      <th>train_station_id</th>\n",
       "      <th>distance_to_train_station</th>\n",
       "      <th>travel_min_to_CBD</th>\n",
       "    </tr>\n",
       "  </thead>\n",
       "  <tbody>\n",
       "    <tr>\n",
       "      <th>0</th>\n",
       "      <td>ID291519933</td>\n",
       "      <td>2/23 Foam St</td>\n",
       "      <td>ELWOOD</td>\n",
       "      <td>582500.0</td>\n",
       "      <td>u</td>\n",
       "      <td>8/10/2016</td>\n",
       "      <td>2</td>\n",
       "      <td>1.0</td>\n",
       "      <td>1.0</td>\n",
       "      <td>0.0</td>\n",
       "      <td>49.0</td>\n",
       "      <td>-37.88500</td>\n",
       "      <td>144.9910</td>\n",
       "      <td>19954</td>\n",
       "      <td>870.027664</td>\n",
       "      <td>21.5</td>\n",
       "    </tr>\n",
       "    <tr>\n",
       "      <th>1</th>\n",
       "      <td>ID777648929</td>\n",
       "      <td>6/210 Domain Rd</td>\n",
       "      <td>SOUTH YARRA</td>\n",
       "      <td>832000.0</td>\n",
       "      <td>u</td>\n",
       "      <td>15/10/2016</td>\n",
       "      <td>2</td>\n",
       "      <td>1.0</td>\n",
       "      <td>1.0</td>\n",
       "      <td>0.0</td>\n",
       "      <td>59.0</td>\n",
       "      <td>-37.83420</td>\n",
       "      <td>144.9842</td>\n",
       "      <td>19959</td>\n",
       "      <td>857.991321</td>\n",
       "      <td>12.5714</td>\n",
       "    </tr>\n",
       "    <tr>\n",
       "      <th>2</th>\n",
       "      <td>ID436934525</td>\n",
       "      <td>52 Richardson St</td>\n",
       "      <td>THOMASTOWN</td>\n",
       "      <td>508000.0</td>\n",
       "      <td>h</td>\n",
       "      <td>15/07/2017</td>\n",
       "      <td>3</td>\n",
       "      <td>2.0</td>\n",
       "      <td>1.0</td>\n",
       "      <td>189.0</td>\n",
       "      <td>29.0</td>\n",
       "      <td>-37.68159</td>\n",
       "      <td>145.0371</td>\n",
       "      <td>20007</td>\n",
       "      <td>2015.35003</td>\n",
       "      <td>40.2222</td>\n",
       "    </tr>\n",
       "    <tr>\n",
       "      <th>3</th>\n",
       "      <td>ID648123973</td>\n",
       "      <td>17 George St</td>\n",
       "      <td>NIDDRIE</td>\n",
       "      <td>875000.0</td>\n",
       "      <td>h</td>\n",
       "      <td>14/05/2016</td>\n",
       "      <td>4</td>\n",
       "      <td>3.0</td>\n",
       "      <td>1.0</td>\n",
       "      <td>321.0</td>\n",
       "      <td>69.0</td>\n",
       "      <td>-37.74240</td>\n",
       "      <td>144.8851</td>\n",
       "      <td>20037</td>\n",
       "      <td>3128.55328</td>\n",
       "      <td>24</td>\n",
       "    </tr>\n",
       "    <tr>\n",
       "      <th>4</th>\n",
       "      <td>ID303786399</td>\n",
       "      <td>1/11 Brockley Rd</td>\n",
       "      <td>FAWKNER</td>\n",
       "      <td>400000.0</td>\n",
       "      <td>h</td>\n",
       "      <td>22/05/2016</td>\n",
       "      <td>3</td>\n",
       "      <td>1.0</td>\n",
       "      <td>1.0</td>\n",
       "      <td>285.0</td>\n",
       "      <td>49.0</td>\n",
       "      <td>-37.71610</td>\n",
       "      <td>144.9662</td>\n",
       "      <td>19962</td>\n",
       "      <td>524.468886</td>\n",
       "      <td>37</td>\n",
       "    </tr>\n",
       "  </tbody>\n",
       "</table>\n",
       "</div>"
      ],
      "text/plain": [
       "            ID           Address       Suburb     Price Type        Date  \\\n",
       "0  ID291519933      2/23 Foam St       ELWOOD  582500.0    u   8/10/2016   \n",
       "1  ID777648929   6/210 Domain Rd  SOUTH YARRA  832000.0    u  15/10/2016   \n",
       "2  ID436934525  52 Richardson St   THOMASTOWN  508000.0    h  15/07/2017   \n",
       "3  ID648123973      17 George St      NIDDRIE  875000.0    h  14/05/2016   \n",
       "4  ID303786399  1/11 Brockley Rd      FAWKNER  400000.0    h  22/05/2016   \n",
       "\n",
       "   Rooms  Bathroom  Car  Landsize   Age  Lattitude  Longtitude  \\\n",
       "0      2       1.0  1.0       0.0  49.0  -37.88500    144.9910   \n",
       "1      2       1.0  1.0       0.0  59.0  -37.83420    144.9842   \n",
       "2      3       2.0  1.0     189.0  29.0  -37.68159    145.0371   \n",
       "3      4       3.0  1.0     321.0  69.0  -37.74240    144.8851   \n",
       "4      3       1.0  1.0     285.0  49.0  -37.71610    144.9662   \n",
       "\n",
       "   train_station_id distance_to_train_station travel_min_to_CBD  \n",
       "0             19954                870.027664              21.5  \n",
       "1             19959                857.991321           12.5714  \n",
       "2             20007                2015.35003           40.2222  \n",
       "3             20037                3128.55328                24  \n",
       "4             19962                524.468886                37  "
      ]
     },
     "execution_count": 83,
     "metadata": {},
     "output_type": "execute_result"
    }
   ],
   "source": [
    "data_df.head()"
   ]
  },
  {
   "cell_type": "code",
   "execution_count": null,
   "metadata": {},
   "outputs": [],
   "source": []
  },
  {
   "cell_type": "code",
   "execution_count": null,
   "metadata": {},
   "outputs": [],
   "source": []
  },
  {
   "cell_type": "markdown",
   "metadata": {},
   "source": [
    "## 6.Over_priced\n",
    "Using groupby function to see median price of the similar properties"
   ]
  },
  {
   "cell_type": "markdown",
   "metadata": {},
   "source": [
    "##### There are duplicate rows in the data, however in schema, the ID should be unique, which affects the result over price so that we have to delete the duplicate rows to get the right median price of similar property"
   ]
  },
  {
   "cell_type": "code",
   "execution_count": 166,
   "metadata": {},
   "outputs": [],
   "source": [
    "data_df2=data_df.copy()"
   ]
  },
  {
   "cell_type": "code",
   "execution_count": 167,
   "metadata": {},
   "outputs": [],
   "source": [
    "#delete the repeated rows in dataframe and reindex\n",
    "data_df2=data_df2.drop_duplicates(subset=None, keep='first', inplace=False)\n",
    "data_df2= data_df2.reset_index(drop=True)"
   ]
  },
  {
   "cell_type": "code",
   "execution_count": 168,
   "metadata": {},
   "outputs": [
    {
     "data": {
      "text/plain": [
       "688"
      ]
     },
     "execution_count": 168,
     "metadata": {},
     "output_type": "execute_result"
    }
   ],
   "source": [
    "len(data_df2)"
   ]
  },
  {
   "cell_type": "markdown",
   "metadata": {},
   "source": [
    "There are 32 duplicate rows in the dataframe, the ID should be unique according the schema, so groupby the unique ID dataframe and see if it is over price"
   ]
  },
  {
   "cell_type": "code",
   "execution_count": 169,
   "metadata": {},
   "outputs": [],
   "source": [
    "'''extract year as a new column be used in groupby to check \n",
    "if the property is saled in the same year'''\n",
    "for i in range(len(data_df2)):\n",
    "    data_df2.loc[i,'year']=data_df2.loc[i,'Date'][-4:] #extract year in date"
   ]
  },
  {
   "cell_type": "code",
   "execution_count": 170,
   "metadata": {},
   "outputs": [],
   "source": [
    "#set default value\n",
    "data_df2['over_priced?']=\"-1\""
   ]
  },
  {
   "cell_type": "code",
   "execution_count": 162,
   "metadata": {},
   "outputs": [
    {
     "data": {
      "text/html": [
       "<div>\n",
       "<style scoped>\n",
       "    .dataframe tbody tr th:only-of-type {\n",
       "        vertical-align: middle;\n",
       "    }\n",
       "\n",
       "    .dataframe tbody tr th {\n",
       "        vertical-align: top;\n",
       "    }\n",
       "\n",
       "    .dataframe thead th {\n",
       "        text-align: right;\n",
       "    }\n",
       "</style>\n",
       "<table border=\"1\" class=\"dataframe\">\n",
       "  <thead>\n",
       "    <tr style=\"text-align: right;\">\n",
       "      <th></th>\n",
       "      <th>ID</th>\n",
       "      <th>Address</th>\n",
       "      <th>Suburb</th>\n",
       "      <th>Price</th>\n",
       "      <th>Type</th>\n",
       "      <th>Date</th>\n",
       "      <th>Rooms</th>\n",
       "      <th>Bathroom</th>\n",
       "      <th>Car</th>\n",
       "      <th>Landsize</th>\n",
       "      <th>Age</th>\n",
       "      <th>Lattitude</th>\n",
       "      <th>Longtitude</th>\n",
       "      <th>train_station_id</th>\n",
       "      <th>distance_to_train_station</th>\n",
       "      <th>travel_min_to_CBD</th>\n",
       "      <th>year</th>\n",
       "      <th>over_priced?</th>\n",
       "    </tr>\n",
       "  </thead>\n",
       "  <tbody>\n",
       "    <tr>\n",
       "      <th>0</th>\n",
       "      <td>ID291519933</td>\n",
       "      <td>2/23 Foam St</td>\n",
       "      <td>ELWOOD</td>\n",
       "      <td>582500.0</td>\n",
       "      <td>u</td>\n",
       "      <td>8/10/2016</td>\n",
       "      <td>2</td>\n",
       "      <td>1.0</td>\n",
       "      <td>1.0</td>\n",
       "      <td>0.0</td>\n",
       "      <td>49.0</td>\n",
       "      <td>-37.88500</td>\n",
       "      <td>144.9910</td>\n",
       "      <td>19954</td>\n",
       "      <td>870.027664</td>\n",
       "      <td>21.5</td>\n",
       "      <td>2016</td>\n",
       "      <td>-1</td>\n",
       "    </tr>\n",
       "    <tr>\n",
       "      <th>1</th>\n",
       "      <td>ID777648929</td>\n",
       "      <td>6/210 Domain Rd</td>\n",
       "      <td>SOUTH YARRA</td>\n",
       "      <td>832000.0</td>\n",
       "      <td>u</td>\n",
       "      <td>15/10/2016</td>\n",
       "      <td>2</td>\n",
       "      <td>1.0</td>\n",
       "      <td>1.0</td>\n",
       "      <td>0.0</td>\n",
       "      <td>59.0</td>\n",
       "      <td>-37.83420</td>\n",
       "      <td>144.9842</td>\n",
       "      <td>19959</td>\n",
       "      <td>857.991321</td>\n",
       "      <td>12.5714</td>\n",
       "      <td>2016</td>\n",
       "      <td>-1</td>\n",
       "    </tr>\n",
       "    <tr>\n",
       "      <th>2</th>\n",
       "      <td>ID436934525</td>\n",
       "      <td>52 Richardson St</td>\n",
       "      <td>THOMASTOWN</td>\n",
       "      <td>508000.0</td>\n",
       "      <td>h</td>\n",
       "      <td>15/07/2017</td>\n",
       "      <td>3</td>\n",
       "      <td>2.0</td>\n",
       "      <td>1.0</td>\n",
       "      <td>189.0</td>\n",
       "      <td>29.0</td>\n",
       "      <td>-37.68159</td>\n",
       "      <td>145.0371</td>\n",
       "      <td>20007</td>\n",
       "      <td>2015.35003</td>\n",
       "      <td>40.2222</td>\n",
       "      <td>2017</td>\n",
       "      <td>-1</td>\n",
       "    </tr>\n",
       "    <tr>\n",
       "      <th>3</th>\n",
       "      <td>ID648123973</td>\n",
       "      <td>17 George St</td>\n",
       "      <td>NIDDRIE</td>\n",
       "      <td>875000.0</td>\n",
       "      <td>h</td>\n",
       "      <td>14/05/2016</td>\n",
       "      <td>4</td>\n",
       "      <td>3.0</td>\n",
       "      <td>1.0</td>\n",
       "      <td>321.0</td>\n",
       "      <td>69.0</td>\n",
       "      <td>-37.74240</td>\n",
       "      <td>144.8851</td>\n",
       "      <td>20037</td>\n",
       "      <td>3128.55328</td>\n",
       "      <td>24</td>\n",
       "      <td>2016</td>\n",
       "      <td>-1</td>\n",
       "    </tr>\n",
       "    <tr>\n",
       "      <th>4</th>\n",
       "      <td>ID303786399</td>\n",
       "      <td>1/11 Brockley Rd</td>\n",
       "      <td>FAWKNER</td>\n",
       "      <td>400000.0</td>\n",
       "      <td>h</td>\n",
       "      <td>22/05/2016</td>\n",
       "      <td>3</td>\n",
       "      <td>1.0</td>\n",
       "      <td>1.0</td>\n",
       "      <td>285.0</td>\n",
       "      <td>49.0</td>\n",
       "      <td>-37.71610</td>\n",
       "      <td>144.9662</td>\n",
       "      <td>19962</td>\n",
       "      <td>524.468886</td>\n",
       "      <td>37</td>\n",
       "      <td>2016</td>\n",
       "      <td>-1</td>\n",
       "    </tr>\n",
       "  </tbody>\n",
       "</table>\n",
       "</div>"
      ],
      "text/plain": [
       "            ID           Address       Suburb     Price Type        Date  \\\n",
       "0  ID291519933      2/23 Foam St       ELWOOD  582500.0    u   8/10/2016   \n",
       "1  ID777648929   6/210 Domain Rd  SOUTH YARRA  832000.0    u  15/10/2016   \n",
       "2  ID436934525  52 Richardson St   THOMASTOWN  508000.0    h  15/07/2017   \n",
       "3  ID648123973      17 George St      NIDDRIE  875000.0    h  14/05/2016   \n",
       "4  ID303786399  1/11 Brockley Rd      FAWKNER  400000.0    h  22/05/2016   \n",
       "\n",
       "   Rooms  Bathroom  Car  Landsize   Age  Lattitude  Longtitude  \\\n",
       "0      2       1.0  1.0       0.0  49.0  -37.88500    144.9910   \n",
       "1      2       1.0  1.0       0.0  59.0  -37.83420    144.9842   \n",
       "2      3       2.0  1.0     189.0  29.0  -37.68159    145.0371   \n",
       "3      4       3.0  1.0     321.0  69.0  -37.74240    144.8851   \n",
       "4      3       1.0  1.0     285.0  49.0  -37.71610    144.9662   \n",
       "\n",
       "   train_station_id distance_to_train_station travel_min_to_CBD  year  \\\n",
       "0             19954                870.027664              21.5  2016   \n",
       "1             19959                857.991321           12.5714  2016   \n",
       "2             20007                2015.35003           40.2222  2017   \n",
       "3             20037                3128.55328                24  2016   \n",
       "4             19962                524.468886                37  2016   \n",
       "\n",
       "  over_priced?  \n",
       "0           -1  \n",
       "1           -1  \n",
       "2           -1  \n",
       "3           -1  \n",
       "4           -1  "
      ]
     },
     "execution_count": 162,
     "metadata": {},
     "output_type": "execute_result"
    }
   ],
   "source": [
    "data_df2.head()"
   ]
  },
  {
   "cell_type": "code",
   "execution_count": 171,
   "metadata": {},
   "outputs": [],
   "source": [
    "group_price=data_df2.groupby(['Rooms','Bathroom', 'Car','Type', 'year', 'Suburb'])['Price'].median()"
   ]
  },
  {
   "cell_type": "code",
   "execution_count": 172,
   "metadata": {},
   "outputs": [],
   "source": [
    "#check whether the price in dataframe over the median price, and assign the value in each row\n",
    "for index, row in data_df2.iterrows():\n",
    "    price = group_price[row['Rooms'], row['Bathroom'],row['Car'], row['Type'],row['year'], row['Suburb']]\n",
    "    if row['Price'] > price:# over price\n",
    "        data_df2.loc[index,'over_priced?']=1\n",
    "       \n",
    "    else:# not over price\n",
    "        data_df2.loc[index,'over_priced?']=0\n",
    "      "
   ]
  },
  {
   "cell_type": "code",
   "execution_count": 174,
   "metadata": {},
   "outputs": [
    {
     "data": {
      "text/html": [
       "<div>\n",
       "<style scoped>\n",
       "    .dataframe tbody tr th:only-of-type {\n",
       "        vertical-align: middle;\n",
       "    }\n",
       "\n",
       "    .dataframe tbody tr th {\n",
       "        vertical-align: top;\n",
       "    }\n",
       "\n",
       "    .dataframe thead th {\n",
       "        text-align: right;\n",
       "    }\n",
       "</style>\n",
       "<table border=\"1\" class=\"dataframe\">\n",
       "  <thead>\n",
       "    <tr style=\"text-align: right;\">\n",
       "      <th></th>\n",
       "      <th>ID</th>\n",
       "      <th>Address</th>\n",
       "      <th>Suburb</th>\n",
       "      <th>Price</th>\n",
       "      <th>Type</th>\n",
       "      <th>Date</th>\n",
       "      <th>Rooms</th>\n",
       "      <th>Bathroom</th>\n",
       "      <th>Car</th>\n",
       "      <th>Landsize</th>\n",
       "      <th>Age</th>\n",
       "      <th>Lattitude</th>\n",
       "      <th>Longtitude</th>\n",
       "      <th>train_station_id</th>\n",
       "      <th>distance_to_train_station</th>\n",
       "      <th>travel_min_to_CBD</th>\n",
       "      <th>year</th>\n",
       "      <th>over_priced?</th>\n",
       "    </tr>\n",
       "  </thead>\n",
       "  <tbody>\n",
       "    <tr>\n",
       "      <th>0</th>\n",
       "      <td>ID291519933</td>\n",
       "      <td>2/23 Foam St</td>\n",
       "      <td>ELWOOD</td>\n",
       "      <td>582500.0</td>\n",
       "      <td>u</td>\n",
       "      <td>8/10/2016</td>\n",
       "      <td>2</td>\n",
       "      <td>1.0</td>\n",
       "      <td>1.0</td>\n",
       "      <td>0.0</td>\n",
       "      <td>49.0</td>\n",
       "      <td>-37.88500</td>\n",
       "      <td>144.9910</td>\n",
       "      <td>19954</td>\n",
       "      <td>870.027664</td>\n",
       "      <td>21.5</td>\n",
       "      <td>2016</td>\n",
       "      <td>0</td>\n",
       "    </tr>\n",
       "    <tr>\n",
       "      <th>1</th>\n",
       "      <td>ID777648929</td>\n",
       "      <td>6/210 Domain Rd</td>\n",
       "      <td>SOUTH YARRA</td>\n",
       "      <td>832000.0</td>\n",
       "      <td>u</td>\n",
       "      <td>15/10/2016</td>\n",
       "      <td>2</td>\n",
       "      <td>1.0</td>\n",
       "      <td>1.0</td>\n",
       "      <td>0.0</td>\n",
       "      <td>59.0</td>\n",
       "      <td>-37.83420</td>\n",
       "      <td>144.9842</td>\n",
       "      <td>19959</td>\n",
       "      <td>857.991321</td>\n",
       "      <td>12.5714</td>\n",
       "      <td>2016</td>\n",
       "      <td>1</td>\n",
       "    </tr>\n",
       "    <tr>\n",
       "      <th>2</th>\n",
       "      <td>ID436934525</td>\n",
       "      <td>52 Richardson St</td>\n",
       "      <td>THOMASTOWN</td>\n",
       "      <td>508000.0</td>\n",
       "      <td>h</td>\n",
       "      <td>15/07/2017</td>\n",
       "      <td>3</td>\n",
       "      <td>2.0</td>\n",
       "      <td>1.0</td>\n",
       "      <td>189.0</td>\n",
       "      <td>29.0</td>\n",
       "      <td>-37.68159</td>\n",
       "      <td>145.0371</td>\n",
       "      <td>20007</td>\n",
       "      <td>2015.35003</td>\n",
       "      <td>40.2222</td>\n",
       "      <td>2017</td>\n",
       "      <td>0</td>\n",
       "    </tr>\n",
       "    <tr>\n",
       "      <th>3</th>\n",
       "      <td>ID648123973</td>\n",
       "      <td>17 George St</td>\n",
       "      <td>NIDDRIE</td>\n",
       "      <td>875000.0</td>\n",
       "      <td>h</td>\n",
       "      <td>14/05/2016</td>\n",
       "      <td>4</td>\n",
       "      <td>3.0</td>\n",
       "      <td>1.0</td>\n",
       "      <td>321.0</td>\n",
       "      <td>69.0</td>\n",
       "      <td>-37.74240</td>\n",
       "      <td>144.8851</td>\n",
       "      <td>20037</td>\n",
       "      <td>3128.55328</td>\n",
       "      <td>24</td>\n",
       "      <td>2016</td>\n",
       "      <td>0</td>\n",
       "    </tr>\n",
       "    <tr>\n",
       "      <th>4</th>\n",
       "      <td>ID303786399</td>\n",
       "      <td>1/11 Brockley Rd</td>\n",
       "      <td>FAWKNER</td>\n",
       "      <td>400000.0</td>\n",
       "      <td>h</td>\n",
       "      <td>22/05/2016</td>\n",
       "      <td>3</td>\n",
       "      <td>1.0</td>\n",
       "      <td>1.0</td>\n",
       "      <td>285.0</td>\n",
       "      <td>49.0</td>\n",
       "      <td>-37.71610</td>\n",
       "      <td>144.9662</td>\n",
       "      <td>19962</td>\n",
       "      <td>524.468886</td>\n",
       "      <td>37</td>\n",
       "      <td>2016</td>\n",
       "      <td>0</td>\n",
       "    </tr>\n",
       "  </tbody>\n",
       "</table>\n",
       "</div>"
      ],
      "text/plain": [
       "            ID           Address       Suburb     Price Type        Date  \\\n",
       "0  ID291519933      2/23 Foam St       ELWOOD  582500.0    u   8/10/2016   \n",
       "1  ID777648929   6/210 Domain Rd  SOUTH YARRA  832000.0    u  15/10/2016   \n",
       "2  ID436934525  52 Richardson St   THOMASTOWN  508000.0    h  15/07/2017   \n",
       "3  ID648123973      17 George St      NIDDRIE  875000.0    h  14/05/2016   \n",
       "4  ID303786399  1/11 Brockley Rd      FAWKNER  400000.0    h  22/05/2016   \n",
       "\n",
       "   Rooms  Bathroom  Car  Landsize   Age  Lattitude  Longtitude  \\\n",
       "0      2       1.0  1.0       0.0  49.0  -37.88500    144.9910   \n",
       "1      2       1.0  1.0       0.0  59.0  -37.83420    144.9842   \n",
       "2      3       2.0  1.0     189.0  29.0  -37.68159    145.0371   \n",
       "3      4       3.0  1.0     321.0  69.0  -37.74240    144.8851   \n",
       "4      3       1.0  1.0     285.0  49.0  -37.71610    144.9662   \n",
       "\n",
       "   train_station_id distance_to_train_station travel_min_to_CBD  year  \\\n",
       "0             19954                870.027664              21.5  2016   \n",
       "1             19959                857.991321           12.5714  2016   \n",
       "2             20007                2015.35003           40.2222  2017   \n",
       "3             20037                3128.55328                24  2016   \n",
       "4             19962                524.468886                37  2016   \n",
       "\n",
       "   over_priced?  \n",
       "0             0  \n",
       "1             1  \n",
       "2             0  \n",
       "3             0  \n",
       "4             0  "
      ]
     },
     "execution_count": 174,
     "metadata": {},
     "output_type": "execute_result"
    }
   ],
   "source": [
    "data_df2.head()"
   ]
  },
  {
   "cell_type": "code",
   "execution_count": 175,
   "metadata": {},
   "outputs": [
    {
     "data": {
      "text/plain": [
       "52"
      ]
     },
     "execution_count": 175,
     "metadata": {},
     "output_type": "execute_result"
    }
   ],
   "source": [
    "#see how many property is over price\n",
    "sum(list(data_df2['over_priced?']))"
   ]
  },
  {
   "cell_type": "code",
   "execution_count": null,
   "metadata": {},
   "outputs": [],
   "source": []
  },
  {
   "cell_type": "markdown",
   "metadata": {},
   "source": [
    "## 7.Average Crime\n",
    "* read crime file and clean dataframe to scaled dataframe\n",
    "* read council txt\n",
    "* Calculate the number of crime in last three years in the same \"Police Service Area\""
   ]
  },
  {
   "cell_type": "markdown",
   "metadata": {},
   "source": [
    "### 7.1Read Crime file and clean the dirtydata in dataframe"
   ]
  },
  {
   "cell_type": "code",
   "execution_count": 92,
   "metadata": {},
   "outputs": [],
   "source": [
    "#Read xlsx crime file as dataframe firstly\n",
    "data_crime= pd.read_excel('crimebylocationdatatable-yearending31march2016.xlsx', sheet_name=1,header=None)"
   ]
  },
  {
   "cell_type": "code",
   "execution_count": 93,
   "metadata": {},
   "outputs": [],
   "source": [
    "#the fist few rows are nan,drop them\n",
    "data_crime =data_crime.drop(data_crime.head(19).index)"
   ]
  },
  {
   "cell_type": "code",
   "execution_count": 94,
   "metadata": {},
   "outputs": [
    {
     "data": {
      "text/html": [
       "<div>\n",
       "<style scoped>\n",
       "    .dataframe tbody tr th:only-of-type {\n",
       "        vertical-align: middle;\n",
       "    }\n",
       "\n",
       "    .dataframe tbody tr th {\n",
       "        vertical-align: top;\n",
       "    }\n",
       "\n",
       "    .dataframe thead th {\n",
       "        text-align: right;\n",
       "    }\n",
       "</style>\n",
       "<table border=\"1\" class=\"dataframe\">\n",
       "  <thead>\n",
       "    <tr style=\"text-align: right;\">\n",
       "      <th></th>\n",
       "      <th>0</th>\n",
       "      <th>1</th>\n",
       "      <th>2</th>\n",
       "      <th>3</th>\n",
       "      <th>4</th>\n",
       "      <th>5</th>\n",
       "      <th>6</th>\n",
       "      <th>7</th>\n",
       "      <th>8</th>\n",
       "      <th>9</th>\n",
       "    </tr>\n",
       "  </thead>\n",
       "  <tbody>\n",
       "    <tr>\n",
       "      <th>19</th>\n",
       "      <td>NaN</td>\n",
       "      <td>Apr - Mar reference period</td>\n",
       "      <td>Police Region</td>\n",
       "      <td>Police Service Area</td>\n",
       "      <td>Local Government Area</td>\n",
       "      <td>CSA Offence Division</td>\n",
       "      <td>CSA Offence Subdivision</td>\n",
       "      <td>Offence Count</td>\n",
       "      <td>LGA ERP</td>\n",
       "      <td>Victorian ERP</td>\n",
       "    </tr>\n",
       "    <tr>\n",
       "      <th>20</th>\n",
       "      <td>NaN</td>\n",
       "      <td>2012</td>\n",
       "      <td>1 North West Metro</td>\n",
       "      <td>BANYULE</td>\n",
       "      <td>BANYULE</td>\n",
       "      <td>A Crimes against the person</td>\n",
       "      <td>A10 Homicide and related offences</td>\n",
       "      <td>4</td>\n",
       "      <td>123600</td>\n",
       "      <td>5632521</td>\n",
       "    </tr>\n",
       "    <tr>\n",
       "      <th>21</th>\n",
       "      <td>NaN</td>\n",
       "      <td>2012</td>\n",
       "      <td>1 North West Metro</td>\n",
       "      <td>BANYULE</td>\n",
       "      <td>BANYULE</td>\n",
       "      <td>A Crimes against the person</td>\n",
       "      <td>A20 Assault and related offences</td>\n",
       "      <td>568</td>\n",
       "      <td>123600</td>\n",
       "      <td>5632521</td>\n",
       "    </tr>\n",
       "    <tr>\n",
       "      <th>22</th>\n",
       "      <td>NaN</td>\n",
       "      <td>2012</td>\n",
       "      <td>1 North West Metro</td>\n",
       "      <td>BANYULE</td>\n",
       "      <td>BANYULE</td>\n",
       "      <td>A Crimes against the person</td>\n",
       "      <td>A30 Sexual offences</td>\n",
       "      <td>132</td>\n",
       "      <td>123600</td>\n",
       "      <td>5632521</td>\n",
       "    </tr>\n",
       "    <tr>\n",
       "      <th>23</th>\n",
       "      <td>NaN</td>\n",
       "      <td>2012</td>\n",
       "      <td>1 North West Metro</td>\n",
       "      <td>BANYULE</td>\n",
       "      <td>BANYULE</td>\n",
       "      <td>A Crimes against the person</td>\n",
       "      <td>A40 Abduction and related offences</td>\n",
       "      <td>12</td>\n",
       "      <td>123600</td>\n",
       "      <td>5632521</td>\n",
       "    </tr>\n",
       "    <tr>\n",
       "      <th>24</th>\n",
       "      <td>NaN</td>\n",
       "      <td>2012</td>\n",
       "      <td>1 North West Metro</td>\n",
       "      <td>BANYULE</td>\n",
       "      <td>BANYULE</td>\n",
       "      <td>A Crimes against the person</td>\n",
       "      <td>A50 Robbery</td>\n",
       "      <td>46</td>\n",
       "      <td>123600</td>\n",
       "      <td>5632521</td>\n",
       "    </tr>\n",
       "    <tr>\n",
       "      <th>25</th>\n",
       "      <td>NaN</td>\n",
       "      <td>2012</td>\n",
       "      <td>1 North West Metro</td>\n",
       "      <td>BANYULE</td>\n",
       "      <td>BANYULE</td>\n",
       "      <td>A Crimes against the person</td>\n",
       "      <td>A60 Blackmail and extortion</td>\n",
       "      <td>2</td>\n",
       "      <td>123600</td>\n",
       "      <td>5632521</td>\n",
       "    </tr>\n",
       "    <tr>\n",
       "      <th>26</th>\n",
       "      <td>NaN</td>\n",
       "      <td>2012</td>\n",
       "      <td>1 North West Metro</td>\n",
       "      <td>BANYULE</td>\n",
       "      <td>BANYULE</td>\n",
       "      <td>A Crimes against the person</td>\n",
       "      <td>A70 Stalking, harassment and threatening behav...</td>\n",
       "      <td>148</td>\n",
       "      <td>123600</td>\n",
       "      <td>5632521</td>\n",
       "    </tr>\n",
       "    <tr>\n",
       "      <th>27</th>\n",
       "      <td>NaN</td>\n",
       "      <td>2012</td>\n",
       "      <td>1 North West Metro</td>\n",
       "      <td>BANYULE</td>\n",
       "      <td>BANYULE</td>\n",
       "      <td>A Crimes against the person</td>\n",
       "      <td>A80 Dangerous and negligent acts endangering p...</td>\n",
       "      <td>75</td>\n",
       "      <td>123600</td>\n",
       "      <td>5632521</td>\n",
       "    </tr>\n",
       "    <tr>\n",
       "      <th>28</th>\n",
       "      <td>NaN</td>\n",
       "      <td>2012</td>\n",
       "      <td>1 North West Metro</td>\n",
       "      <td>BANYULE</td>\n",
       "      <td>BANYULE</td>\n",
       "      <td>B Property and deception offences</td>\n",
       "      <td>B10 Arson</td>\n",
       "      <td>53</td>\n",
       "      <td>123600</td>\n",
       "      <td>5632521</td>\n",
       "    </tr>\n",
       "  </tbody>\n",
       "</table>\n",
       "</div>"
      ],
      "text/plain": [
       "     0                           1                   2                    3  \\\n",
       "19 NaN  Apr - Mar reference period       Police Region  Police Service Area   \n",
       "20 NaN                        2012  1 North West Metro              BANYULE   \n",
       "21 NaN                        2012  1 North West Metro              BANYULE   \n",
       "22 NaN                        2012  1 North West Metro              BANYULE   \n",
       "23 NaN                        2012  1 North West Metro              BANYULE   \n",
       "24 NaN                        2012  1 North West Metro              BANYULE   \n",
       "25 NaN                        2012  1 North West Metro              BANYULE   \n",
       "26 NaN                        2012  1 North West Metro              BANYULE   \n",
       "27 NaN                        2012  1 North West Metro              BANYULE   \n",
       "28 NaN                        2012  1 North West Metro              BANYULE   \n",
       "\n",
       "                        4                                  5  \\\n",
       "19  Local Government Area               CSA Offence Division   \n",
       "20                BANYULE        A Crimes against the person   \n",
       "21                BANYULE        A Crimes against the person   \n",
       "22                BANYULE        A Crimes against the person   \n",
       "23                BANYULE        A Crimes against the person   \n",
       "24                BANYULE        A Crimes against the person   \n",
       "25                BANYULE        A Crimes against the person   \n",
       "26                BANYULE        A Crimes against the person   \n",
       "27                BANYULE        A Crimes against the person   \n",
       "28                BANYULE  B Property and deception offences   \n",
       "\n",
       "                                                    6              7        8  \\\n",
       "19                            CSA Offence Subdivision  Offence Count  LGA ERP   \n",
       "20                  A10 Homicide and related offences              4   123600   \n",
       "21                   A20 Assault and related offences            568   123600   \n",
       "22                                A30 Sexual offences            132   123600   \n",
       "23                 A40 Abduction and related offences             12   123600   \n",
       "24                                        A50 Robbery             46   123600   \n",
       "25                        A60 Blackmail and extortion              2   123600   \n",
       "26  A70 Stalking, harassment and threatening behav...            148   123600   \n",
       "27  A80 Dangerous and negligent acts endangering p...             75   123600   \n",
       "28                                          B10 Arson             53   123600   \n",
       "\n",
       "                9  \n",
       "19  Victorian ERP  \n",
       "20        5632521  \n",
       "21        5632521  \n",
       "22        5632521  \n",
       "23        5632521  \n",
       "24        5632521  \n",
       "25        5632521  \n",
       "26        5632521  \n",
       "27        5632521  \n",
       "28        5632521  "
      ]
     },
     "execution_count": 94,
     "metadata": {},
     "output_type": "execute_result"
    }
   ],
   "source": [
    "data_crime.head(10)"
   ]
  },
  {
   "cell_type": "markdown",
   "metadata": {},
   "source": [
    "#### Then we have to delete the first column, change the column name and reindex the row"
   ]
  },
  {
   "cell_type": "code",
   "execution_count": 95,
   "metadata": {},
   "outputs": [],
   "source": [
    "#delete the first column\n",
    "data_crime =data_crime.drop(0,1)"
   ]
  },
  {
   "cell_type": "code",
   "execution_count": 96,
   "metadata": {},
   "outputs": [],
   "source": [
    "#change column name\n",
    "data_crime.columns =list(data_crime.iloc[0])"
   ]
  },
  {
   "cell_type": "code",
   "execution_count": 97,
   "metadata": {},
   "outputs": [],
   "source": [
    "#delete first row and reindex rows\n",
    "data_crime =data_crime.drop(data_crime.head(1).index)\n",
    "data_crime = data_crime.reset_index(drop=True)"
   ]
  },
  {
   "cell_type": "code",
   "execution_count": 98,
   "metadata": {},
   "outputs": [
    {
     "data": {
      "text/html": [
       "<div>\n",
       "<style scoped>\n",
       "    .dataframe tbody tr th:only-of-type {\n",
       "        vertical-align: middle;\n",
       "    }\n",
       "\n",
       "    .dataframe tbody tr th {\n",
       "        vertical-align: top;\n",
       "    }\n",
       "\n",
       "    .dataframe thead th {\n",
       "        text-align: right;\n",
       "    }\n",
       "</style>\n",
       "<table border=\"1\" class=\"dataframe\">\n",
       "  <thead>\n",
       "    <tr style=\"text-align: right;\">\n",
       "      <th></th>\n",
       "      <th>Apr - Mar reference period</th>\n",
       "      <th>Police Region</th>\n",
       "      <th>Police Service Area</th>\n",
       "      <th>Local Government Area</th>\n",
       "      <th>CSA Offence Division</th>\n",
       "      <th>CSA Offence Subdivision</th>\n",
       "      <th>Offence Count</th>\n",
       "      <th>LGA ERP</th>\n",
       "      <th>Victorian ERP</th>\n",
       "    </tr>\n",
       "  </thead>\n",
       "  <tbody>\n",
       "    <tr>\n",
       "      <th>0</th>\n",
       "      <td>2012</td>\n",
       "      <td>1 North West Metro</td>\n",
       "      <td>BANYULE</td>\n",
       "      <td>BANYULE</td>\n",
       "      <td>A Crimes against the person</td>\n",
       "      <td>A10 Homicide and related offences</td>\n",
       "      <td>4</td>\n",
       "      <td>123600</td>\n",
       "      <td>5632521</td>\n",
       "    </tr>\n",
       "    <tr>\n",
       "      <th>1</th>\n",
       "      <td>2012</td>\n",
       "      <td>1 North West Metro</td>\n",
       "      <td>BANYULE</td>\n",
       "      <td>BANYULE</td>\n",
       "      <td>A Crimes against the person</td>\n",
       "      <td>A20 Assault and related offences</td>\n",
       "      <td>568</td>\n",
       "      <td>123600</td>\n",
       "      <td>5632521</td>\n",
       "    </tr>\n",
       "    <tr>\n",
       "      <th>2</th>\n",
       "      <td>2012</td>\n",
       "      <td>1 North West Metro</td>\n",
       "      <td>BANYULE</td>\n",
       "      <td>BANYULE</td>\n",
       "      <td>A Crimes against the person</td>\n",
       "      <td>A30 Sexual offences</td>\n",
       "      <td>132</td>\n",
       "      <td>123600</td>\n",
       "      <td>5632521</td>\n",
       "    </tr>\n",
       "    <tr>\n",
       "      <th>3</th>\n",
       "      <td>2012</td>\n",
       "      <td>1 North West Metro</td>\n",
       "      <td>BANYULE</td>\n",
       "      <td>BANYULE</td>\n",
       "      <td>A Crimes against the person</td>\n",
       "      <td>A40 Abduction and related offences</td>\n",
       "      <td>12</td>\n",
       "      <td>123600</td>\n",
       "      <td>5632521</td>\n",
       "    </tr>\n",
       "    <tr>\n",
       "      <th>4</th>\n",
       "      <td>2012</td>\n",
       "      <td>1 North West Metro</td>\n",
       "      <td>BANYULE</td>\n",
       "      <td>BANYULE</td>\n",
       "      <td>A Crimes against the person</td>\n",
       "      <td>A50 Robbery</td>\n",
       "      <td>46</td>\n",
       "      <td>123600</td>\n",
       "      <td>5632521</td>\n",
       "    </tr>\n",
       "    <tr>\n",
       "      <th>5</th>\n",
       "      <td>2012</td>\n",
       "      <td>1 North West Metro</td>\n",
       "      <td>BANYULE</td>\n",
       "      <td>BANYULE</td>\n",
       "      <td>A Crimes against the person</td>\n",
       "      <td>A60 Blackmail and extortion</td>\n",
       "      <td>2</td>\n",
       "      <td>123600</td>\n",
       "      <td>5632521</td>\n",
       "    </tr>\n",
       "    <tr>\n",
       "      <th>6</th>\n",
       "      <td>2012</td>\n",
       "      <td>1 North West Metro</td>\n",
       "      <td>BANYULE</td>\n",
       "      <td>BANYULE</td>\n",
       "      <td>A Crimes against the person</td>\n",
       "      <td>A70 Stalking, harassment and threatening behav...</td>\n",
       "      <td>148</td>\n",
       "      <td>123600</td>\n",
       "      <td>5632521</td>\n",
       "    </tr>\n",
       "    <tr>\n",
       "      <th>7</th>\n",
       "      <td>2012</td>\n",
       "      <td>1 North West Metro</td>\n",
       "      <td>BANYULE</td>\n",
       "      <td>BANYULE</td>\n",
       "      <td>A Crimes against the person</td>\n",
       "      <td>A80 Dangerous and negligent acts endangering p...</td>\n",
       "      <td>75</td>\n",
       "      <td>123600</td>\n",
       "      <td>5632521</td>\n",
       "    </tr>\n",
       "    <tr>\n",
       "      <th>8</th>\n",
       "      <td>2012</td>\n",
       "      <td>1 North West Metro</td>\n",
       "      <td>BANYULE</td>\n",
       "      <td>BANYULE</td>\n",
       "      <td>B Property and deception offences</td>\n",
       "      <td>B10 Arson</td>\n",
       "      <td>53</td>\n",
       "      <td>123600</td>\n",
       "      <td>5632521</td>\n",
       "    </tr>\n",
       "    <tr>\n",
       "      <th>9</th>\n",
       "      <td>2012</td>\n",
       "      <td>1 North West Metro</td>\n",
       "      <td>BANYULE</td>\n",
       "      <td>BANYULE</td>\n",
       "      <td>B Property and deception offences</td>\n",
       "      <td>B20 Property damage</td>\n",
       "      <td>938</td>\n",
       "      <td>123600</td>\n",
       "      <td>5632521</td>\n",
       "    </tr>\n",
       "    <tr>\n",
       "      <th>10</th>\n",
       "      <td>2012</td>\n",
       "      <td>1 North West Metro</td>\n",
       "      <td>BANYULE</td>\n",
       "      <td>BANYULE</td>\n",
       "      <td>B Property and deception offences</td>\n",
       "      <td>B30 Burglary/Break and enter</td>\n",
       "      <td>918</td>\n",
       "      <td>123600</td>\n",
       "      <td>5632521</td>\n",
       "    </tr>\n",
       "    <tr>\n",
       "      <th>11</th>\n",
       "      <td>2012</td>\n",
       "      <td>1 North West Metro</td>\n",
       "      <td>BANYULE</td>\n",
       "      <td>BANYULE</td>\n",
       "      <td>B Property and deception offences</td>\n",
       "      <td>B40 Theft</td>\n",
       "      <td>2059</td>\n",
       "      <td>123600</td>\n",
       "      <td>5632521</td>\n",
       "    </tr>\n",
       "    <tr>\n",
       "      <th>12</th>\n",
       "      <td>2012</td>\n",
       "      <td>1 North West Metro</td>\n",
       "      <td>BANYULE</td>\n",
       "      <td>BANYULE</td>\n",
       "      <td>B Property and deception offences</td>\n",
       "      <td>B50 Deception</td>\n",
       "      <td>231</td>\n",
       "      <td>123600</td>\n",
       "      <td>5632521</td>\n",
       "    </tr>\n",
       "    <tr>\n",
       "      <th>13</th>\n",
       "      <td>2012</td>\n",
       "      <td>1 North West Metro</td>\n",
       "      <td>BANYULE</td>\n",
       "      <td>BANYULE</td>\n",
       "      <td>C Drug offences</td>\n",
       "      <td>C10 Drug dealing and trafficking</td>\n",
       "      <td>37</td>\n",
       "      <td>123600</td>\n",
       "      <td>5632521</td>\n",
       "    </tr>\n",
       "  </tbody>\n",
       "</table>\n",
       "</div>"
      ],
      "text/plain": [
       "   Apr - Mar reference period       Police Region Police Service Area  \\\n",
       "0                        2012  1 North West Metro             BANYULE   \n",
       "1                        2012  1 North West Metro             BANYULE   \n",
       "2                        2012  1 North West Metro             BANYULE   \n",
       "3                        2012  1 North West Metro             BANYULE   \n",
       "4                        2012  1 North West Metro             BANYULE   \n",
       "5                        2012  1 North West Metro             BANYULE   \n",
       "6                        2012  1 North West Metro             BANYULE   \n",
       "7                        2012  1 North West Metro             BANYULE   \n",
       "8                        2012  1 North West Metro             BANYULE   \n",
       "9                        2012  1 North West Metro             BANYULE   \n",
       "10                       2012  1 North West Metro             BANYULE   \n",
       "11                       2012  1 North West Metro             BANYULE   \n",
       "12                       2012  1 North West Metro             BANYULE   \n",
       "13                       2012  1 North West Metro             BANYULE   \n",
       "\n",
       "   Local Government Area               CSA Offence Division  \\\n",
       "0                BANYULE        A Crimes against the person   \n",
       "1                BANYULE        A Crimes against the person   \n",
       "2                BANYULE        A Crimes against the person   \n",
       "3                BANYULE        A Crimes against the person   \n",
       "4                BANYULE        A Crimes against the person   \n",
       "5                BANYULE        A Crimes against the person   \n",
       "6                BANYULE        A Crimes against the person   \n",
       "7                BANYULE        A Crimes against the person   \n",
       "8                BANYULE  B Property and deception offences   \n",
       "9                BANYULE  B Property and deception offences   \n",
       "10               BANYULE  B Property and deception offences   \n",
       "11               BANYULE  B Property and deception offences   \n",
       "12               BANYULE  B Property and deception offences   \n",
       "13               BANYULE                    C Drug offences   \n",
       "\n",
       "                              CSA Offence Subdivision Offence Count LGA ERP  \\\n",
       "0                   A10 Homicide and related offences             4  123600   \n",
       "1                    A20 Assault and related offences           568  123600   \n",
       "2                                 A30 Sexual offences           132  123600   \n",
       "3                  A40 Abduction and related offences            12  123600   \n",
       "4                                         A50 Robbery            46  123600   \n",
       "5                         A60 Blackmail and extortion             2  123600   \n",
       "6   A70 Stalking, harassment and threatening behav...           148  123600   \n",
       "7   A80 Dangerous and negligent acts endangering p...            75  123600   \n",
       "8                                           B10 Arson            53  123600   \n",
       "9                                 B20 Property damage           938  123600   \n",
       "10                       B30 Burglary/Break and enter           918  123600   \n",
       "11                                          B40 Theft          2059  123600   \n",
       "12                                      B50 Deception           231  123600   \n",
       "13                   C10 Drug dealing and trafficking            37  123600   \n",
       "\n",
       "   Victorian ERP  \n",
       "0        5632521  \n",
       "1        5632521  \n",
       "2        5632521  \n",
       "3        5632521  \n",
       "4        5632521  \n",
       "5        5632521  \n",
       "6        5632521  \n",
       "7        5632521  \n",
       "8        5632521  \n",
       "9        5632521  \n",
       "10       5632521  \n",
       "11       5632521  \n",
       "12       5632521  \n",
       "13       5632521  "
      ]
     },
     "execution_count": 98,
     "metadata": {},
     "output_type": "execute_result"
    }
   ],
   "source": [
    "data_crime.head(14)"
   ]
  },
  {
   "cell_type": "code",
   "execution_count": 99,
   "metadata": {},
   "outputs": [
    {
     "name": "stdout",
     "output_type": "stream",
     "text": [
      "<class 'pandas.core.frame.DataFrame'>\n",
      "RangeIndex: 9085 entries, 0 to 9084\n",
      "Data columns (total 9 columns):\n",
      "Apr - Mar reference period    9085 non-null object\n",
      "Police Region                 9085 non-null object\n",
      "Police Service Area           9085 non-null object\n",
      "Local Government Area         9085 non-null object\n",
      "CSA Offence Division          9085 non-null object\n",
      "CSA Offence Subdivision       9085 non-null object\n",
      "Offence Count                 9085 non-null object\n",
      "LGA ERP                       9085 non-null object\n",
      "Victorian ERP                 9085 non-null object\n",
      "dtypes: object(9)\n",
      "memory usage: 638.9+ KB\n"
     ]
    }
   ],
   "source": [
    "data_crime.info()"
   ]
  },
  {
   "cell_type": "markdown",
   "metadata": {},
   "source": [
    "### 7.2Read Council txt"
   ]
  },
  {
   "cell_type": "code",
   "execution_count": null,
   "metadata": {},
   "outputs": [],
   "source": [
    "#data_df2 = data_df2.drop('councils',1)"
   ]
  },
  {
   "cell_type": "code",
   "execution_count": 100,
   "metadata": {},
   "outputs": [],
   "source": [
    "#Reading coucils txt and store data into a list of dicts\n",
    "council_list =[]\n",
    "file = open(\"councils.txt\")             \n",
    "lines = file.readlines() \n",
    "for line in lines:\n",
    "    line_dict ={}\n",
    "    content = line.split(\":\")\n",
    "    if content[0][-1:]==' ':\n",
    "        key=content[0][:-1]#delete the space in the end\n",
    "    else:\n",
    "        key=content[0]\n",
    "    value =re.findall(r\"\\'([a-zA-Z ]+)\\'\",content[1])\n",
    "    valued = [x.upper() for x in value] #upper the value in order to match value in suburb \n",
    "    #key =re.findall(r\"([a-zA-Z ]+)\",content[0])\n",
    "    line_dict[key]=valued\n",
    "    council_list.append(line_dict)"
   ]
  },
  {
   "cell_type": "code",
   "execution_count": 101,
   "metadata": {},
   "outputs": [
    {
     "name": "stdout",
     "output_type": "stream",
     "text": [
      "79\n"
     ]
    },
    {
     "data": {
      "text/plain": [
       "{'BRIMBANK': ['ALTONA', 'ALTONA NORTH', 'ARMADALE', 'ASCOT VALE']}"
      ]
     },
     "execution_count": 101,
     "metadata": {},
     "output_type": "execute_result"
    }
   ],
   "source": [
    "print(len(council_list))\n",
    "council_list[1]"
   ]
  },
  {
   "cell_type": "code",
   "execution_count": null,
   "metadata": {},
   "outputs": [],
   "source": []
  },
  {
   "cell_type": "code",
   "execution_count": null,
   "metadata": {},
   "outputs": [],
   "source": []
  },
  {
   "cell_type": "code",
   "execution_count": 102,
   "metadata": {},
   "outputs": [],
   "source": [
    "data_df2['councils'] = \"0\""
   ]
  },
  {
   "cell_type": "code",
   "execution_count": 355,
   "metadata": {},
   "outputs": [],
   "source": [
    "#add council column to dataframe\n",
    "for i in range(len(data_df2)):\n",
    "    sub = data_df2.loc[i,'Suburb']\n",
    "    for each in council_list:\n",
    "        for key,values in each.items():\n",
    "            if sub in values:\n",
    "                keys = key\n",
    "                data_df2.loc[i,'councils']=keys"
   ]
  },
  {
   "cell_type": "code",
   "execution_count": 356,
   "metadata": {},
   "outputs": [
    {
     "name": "stdout",
     "output_type": "stream",
     "text": [
      "688\n"
     ]
    },
    {
     "data": {
      "text/html": [
       "<div>\n",
       "<style scoped>\n",
       "    .dataframe tbody tr th:only-of-type {\n",
       "        vertical-align: middle;\n",
       "    }\n",
       "\n",
       "    .dataframe tbody tr th {\n",
       "        vertical-align: top;\n",
       "    }\n",
       "\n",
       "    .dataframe thead th {\n",
       "        text-align: right;\n",
       "    }\n",
       "</style>\n",
       "<table border=\"1\" class=\"dataframe\">\n",
       "  <thead>\n",
       "    <tr style=\"text-align: right;\">\n",
       "      <th></th>\n",
       "      <th>ID</th>\n",
       "      <th>Address</th>\n",
       "      <th>Suburb</th>\n",
       "      <th>Price</th>\n",
       "      <th>Type</th>\n",
       "      <th>Date</th>\n",
       "      <th>Rooms</th>\n",
       "      <th>Bathroom</th>\n",
       "      <th>Car</th>\n",
       "      <th>Landsize</th>\n",
       "      <th>Age</th>\n",
       "      <th>Lattitude</th>\n",
       "      <th>Longtitude</th>\n",
       "      <th>train_station_id</th>\n",
       "      <th>distance_to_train_station</th>\n",
       "      <th>travel_min_to_CBD</th>\n",
       "      <th>year</th>\n",
       "      <th>over_priced?</th>\n",
       "      <th>councils</th>\n",
       "    </tr>\n",
       "  </thead>\n",
       "  <tbody>\n",
       "    <tr>\n",
       "      <th>0</th>\n",
       "      <td>ID291519933</td>\n",
       "      <td>2/23 Foam St</td>\n",
       "      <td>ELWOOD</td>\n",
       "      <td>582500.0</td>\n",
       "      <td>u</td>\n",
       "      <td>8/10/2016</td>\n",
       "      <td>2</td>\n",
       "      <td>1.0</td>\n",
       "      <td>1.0</td>\n",
       "      <td>0.0</td>\n",
       "      <td>49.0</td>\n",
       "      <td>-37.88500</td>\n",
       "      <td>144.9910</td>\n",
       "      <td>19954</td>\n",
       "      <td>870.027664</td>\n",
       "      <td>21.5</td>\n",
       "      <td>2016</td>\n",
       "      <td>0</td>\n",
       "      <td>MORELAND</td>\n",
       "    </tr>\n",
       "    <tr>\n",
       "      <th>1</th>\n",
       "      <td>ID777648929</td>\n",
       "      <td>6/210 Domain Rd</td>\n",
       "      <td>SOUTH YARRA</td>\n",
       "      <td>832000.0</td>\n",
       "      <td>u</td>\n",
       "      <td>15/10/2016</td>\n",
       "      <td>2</td>\n",
       "      <td>1.0</td>\n",
       "      <td>1.0</td>\n",
       "      <td>0.0</td>\n",
       "      <td>59.0</td>\n",
       "      <td>-37.83420</td>\n",
       "      <td>144.9842</td>\n",
       "      <td>19959</td>\n",
       "      <td>857.991321</td>\n",
       "      <td>12.5714</td>\n",
       "      <td>2016</td>\n",
       "      <td>1</td>\n",
       "      <td>GREATER SHEPPARTON</td>\n",
       "    </tr>\n",
       "    <tr>\n",
       "      <th>2</th>\n",
       "      <td>ID436934525</td>\n",
       "      <td>52 Richardson St</td>\n",
       "      <td>THOMASTOWN</td>\n",
       "      <td>508000.0</td>\n",
       "      <td>h</td>\n",
       "      <td>15/07/2017</td>\n",
       "      <td>3</td>\n",
       "      <td>2.0</td>\n",
       "      <td>1.0</td>\n",
       "      <td>189.0</td>\n",
       "      <td>29.0</td>\n",
       "      <td>-37.68159</td>\n",
       "      <td>145.0371</td>\n",
       "      <td>20007</td>\n",
       "      <td>2015.35003</td>\n",
       "      <td>40.2222</td>\n",
       "      <td>2017</td>\n",
       "      <td>0</td>\n",
       "      <td>CAMPASPE</td>\n",
       "    </tr>\n",
       "    <tr>\n",
       "      <th>3</th>\n",
       "      <td>ID648123973</td>\n",
       "      <td>17 George St</td>\n",
       "      <td>NIDDRIE</td>\n",
       "      <td>875000.0</td>\n",
       "      <td>h</td>\n",
       "      <td>14/05/2016</td>\n",
       "      <td>4</td>\n",
       "      <td>3.0</td>\n",
       "      <td>1.0</td>\n",
       "      <td>321.0</td>\n",
       "      <td>69.0</td>\n",
       "      <td>-37.74240</td>\n",
       "      <td>144.8851</td>\n",
       "      <td>20037</td>\n",
       "      <td>3128.55328</td>\n",
       "      <td>24</td>\n",
       "      <td>2016</td>\n",
       "      <td>0</td>\n",
       "      <td>MANSFIELD</td>\n",
       "    </tr>\n",
       "    <tr>\n",
       "      <th>4</th>\n",
       "      <td>ID303786399</td>\n",
       "      <td>1/11 Brockley Rd</td>\n",
       "      <td>FAWKNER</td>\n",
       "      <td>400000.0</td>\n",
       "      <td>h</td>\n",
       "      <td>22/05/2016</td>\n",
       "      <td>3</td>\n",
       "      <td>1.0</td>\n",
       "      <td>1.0</td>\n",
       "      <td>285.0</td>\n",
       "      <td>49.0</td>\n",
       "      <td>-37.71610</td>\n",
       "      <td>144.9662</td>\n",
       "      <td>19962</td>\n",
       "      <td>524.468886</td>\n",
       "      <td>37</td>\n",
       "      <td>2016</td>\n",
       "      <td>0</td>\n",
       "      <td>MONASH</td>\n",
       "    </tr>\n",
       "  </tbody>\n",
       "</table>\n",
       "</div>"
      ],
      "text/plain": [
       "            ID           Address       Suburb     Price Type        Date  \\\n",
       "0  ID291519933      2/23 Foam St       ELWOOD  582500.0    u   8/10/2016   \n",
       "1  ID777648929   6/210 Domain Rd  SOUTH YARRA  832000.0    u  15/10/2016   \n",
       "2  ID436934525  52 Richardson St   THOMASTOWN  508000.0    h  15/07/2017   \n",
       "3  ID648123973      17 George St      NIDDRIE  875000.0    h  14/05/2016   \n",
       "4  ID303786399  1/11 Brockley Rd      FAWKNER  400000.0    h  22/05/2016   \n",
       "\n",
       "   Rooms  Bathroom  Car  Landsize   Age  Lattitude  Longtitude  \\\n",
       "0      2       1.0  1.0       0.0  49.0  -37.88500    144.9910   \n",
       "1      2       1.0  1.0       0.0  59.0  -37.83420    144.9842   \n",
       "2      3       2.0  1.0     189.0  29.0  -37.68159    145.0371   \n",
       "3      4       3.0  1.0     321.0  69.0  -37.74240    144.8851   \n",
       "4      3       1.0  1.0     285.0  49.0  -37.71610    144.9662   \n",
       "\n",
       "   train_station_id distance_to_train_station travel_min_to_CBD  year  \\\n",
       "0             19954                870.027664              21.5  2016   \n",
       "1             19959                857.991321           12.5714  2016   \n",
       "2             20007                2015.35003           40.2222  2017   \n",
       "3             20037                3128.55328                24  2016   \n",
       "4             19962                524.468886                37  2016   \n",
       "\n",
       "   over_priced?            councils  \n",
       "0             0            MORELAND  \n",
       "1             1  GREATER SHEPPARTON  \n",
       "2             0            CAMPASPE  \n",
       "3             0           MANSFIELD  \n",
       "4             0              MONASH  "
      ]
     },
     "execution_count": 356,
     "metadata": {},
     "output_type": "execute_result"
    }
   ],
   "source": [
    "#check the if there are wrong and len of council\n",
    "print(len(list(data_df2['councils'])))\n",
    "data_df2.head()"
   ]
  },
  {
   "cell_type": "code",
   "execution_count": null,
   "metadata": {},
   "outputs": [],
   "source": [
    "#data_df2.loc[0,'councils']"
   ]
  },
  {
   "cell_type": "code",
   "execution_count": null,
   "metadata": {},
   "outputs": [],
   "source": []
  },
  {
   "cell_type": "code",
   "execution_count": null,
   "metadata": {},
   "outputs": [],
   "source": []
  },
  {
   "cell_type": "code",
   "execution_count": null,
   "metadata": {},
   "outputs": [],
   "source": []
  },
  {
   "cell_type": "markdown",
   "metadata": {},
   "source": [
    "### 7.3 Calculate the average crime number of each type of crime"
   ]
  },
  {
   "cell_type": "markdown",
   "metadata": {},
   "source": [
    "##### For Crime A"
   ]
  },
  {
   "cell_type": "code",
   "execution_count": 357,
   "metadata": {},
   "outputs": [],
   "source": [
    "#set default value\n",
    "data_df2['crime_A_average']='-1'"
   ]
  },
  {
   "cell_type": "code",
   "execution_count": 358,
   "metadata": {},
   "outputs": [],
   "source": [
    "'''\n",
    "According the Council to find crime number for last three year and calculate the average \n",
    "value, then add the value to dataframe\n",
    "'''\n",
    "for i in range(len(data_df2)):\n",
    "    first_crimenum= 0 \n",
    "    second_crimenum= 0\n",
    "    third_crimenum= 0\n",
    "    \n",
    "    year = int(data_df2.loc[i,'year'])-1\n",
    "    coun = data_df2.loc[i,'councils']\n",
    "    \n",
    "    for j in range(len(data_crime)):\n",
    "        crime_coun=data_crime.loc[j,'Local Government Area']\n",
    "        crime_year = data_crime.loc[j,'Apr - Mar reference period']\n",
    "        #same council and same type of crimeA\n",
    "        if coun == crime_coun and data_crime.loc[j,'CSA Offence Division'].startswith(\"A\"):\n",
    "            #print(\"A\")\n",
    "            #the first year\n",
    "            if year== crime_year:\n",
    "                #print(\"y\")\n",
    "                first_crimenum+=data_crime.loc[j,'Offence Count']\n",
    "            #the second year\n",
    "            if year-1 ==crime_year:\n",
    "                #print(\"y1\")\n",
    "                second_crimenum+=data_crime.loc[j,'Offence Count']\n",
    "            #the third year\n",
    "            if year-2 ==crime_year:\n",
    "                #print(\"y2\")\n",
    "                third_crimenum+=data_crime.loc[j,'Offence Count']\n",
    "                \n",
    "    avg_num=round((first_crimenum+second_crimenum+third_crimenum)/3,9)\n",
    "    data_df2.loc[i,'crime_A_average']=avg_num"
   ]
  },
  {
   "cell_type": "code",
   "execution_count": 359,
   "metadata": {},
   "outputs": [
    {
     "data": {
      "text/html": [
       "<div>\n",
       "<style scoped>\n",
       "    .dataframe tbody tr th:only-of-type {\n",
       "        vertical-align: middle;\n",
       "    }\n",
       "\n",
       "    .dataframe tbody tr th {\n",
       "        vertical-align: top;\n",
       "    }\n",
       "\n",
       "    .dataframe thead th {\n",
       "        text-align: right;\n",
       "    }\n",
       "</style>\n",
       "<table border=\"1\" class=\"dataframe\">\n",
       "  <thead>\n",
       "    <tr style=\"text-align: right;\">\n",
       "      <th></th>\n",
       "      <th>ID</th>\n",
       "      <th>Address</th>\n",
       "      <th>Suburb</th>\n",
       "      <th>Price</th>\n",
       "      <th>Type</th>\n",
       "      <th>Date</th>\n",
       "      <th>Rooms</th>\n",
       "      <th>Bathroom</th>\n",
       "      <th>Car</th>\n",
       "      <th>Landsize</th>\n",
       "      <th>Age</th>\n",
       "      <th>Lattitude</th>\n",
       "      <th>Longtitude</th>\n",
       "      <th>train_station_id</th>\n",
       "      <th>distance_to_train_station</th>\n",
       "      <th>travel_min_to_CBD</th>\n",
       "      <th>year</th>\n",
       "      <th>over_priced?</th>\n",
       "      <th>councils</th>\n",
       "      <th>crime_A_average</th>\n",
       "    </tr>\n",
       "  </thead>\n",
       "  <tbody>\n",
       "    <tr>\n",
       "      <th>0</th>\n",
       "      <td>ID291519933</td>\n",
       "      <td>2/23 Foam St</td>\n",
       "      <td>ELWOOD</td>\n",
       "      <td>582500.0</td>\n",
       "      <td>u</td>\n",
       "      <td>8/10/2016</td>\n",
       "      <td>2</td>\n",
       "      <td>1.0</td>\n",
       "      <td>1.0</td>\n",
       "      <td>0.0</td>\n",
       "      <td>49.0</td>\n",
       "      <td>-37.88500</td>\n",
       "      <td>144.9910</td>\n",
       "      <td>19954</td>\n",
       "      <td>870.027664</td>\n",
       "      <td>21.5</td>\n",
       "      <td>2016</td>\n",
       "      <td>0</td>\n",
       "      <td>MORELAND</td>\n",
       "      <td>1566.66667</td>\n",
       "    </tr>\n",
       "    <tr>\n",
       "      <th>1</th>\n",
       "      <td>ID777648929</td>\n",
       "      <td>6/210 Domain Rd</td>\n",
       "      <td>SOUTH YARRA</td>\n",
       "      <td>832000.0</td>\n",
       "      <td>u</td>\n",
       "      <td>15/10/2016</td>\n",
       "      <td>2</td>\n",
       "      <td>1.0</td>\n",
       "      <td>1.0</td>\n",
       "      <td>0.0</td>\n",
       "      <td>59.0</td>\n",
       "      <td>-37.83420</td>\n",
       "      <td>144.9842</td>\n",
       "      <td>19959</td>\n",
       "      <td>857.991321</td>\n",
       "      <td>12.5714</td>\n",
       "      <td>2016</td>\n",
       "      <td>1</td>\n",
       "      <td>GREATER SHEPPARTON</td>\n",
       "      <td>1100.66667</td>\n",
       "    </tr>\n",
       "    <tr>\n",
       "      <th>2</th>\n",
       "      <td>ID436934525</td>\n",
       "      <td>52 Richardson St</td>\n",
       "      <td>THOMASTOWN</td>\n",
       "      <td>508000.0</td>\n",
       "      <td>h</td>\n",
       "      <td>15/07/2017</td>\n",
       "      <td>3</td>\n",
       "      <td>2.0</td>\n",
       "      <td>1.0</td>\n",
       "      <td>189.0</td>\n",
       "      <td>29.0</td>\n",
       "      <td>-37.68159</td>\n",
       "      <td>145.0371</td>\n",
       "      <td>20007</td>\n",
       "      <td>2015.35003</td>\n",
       "      <td>40.2222</td>\n",
       "      <td>2017</td>\n",
       "      <td>0</td>\n",
       "      <td>CAMPASPE</td>\n",
       "      <td>502.666667</td>\n",
       "    </tr>\n",
       "    <tr>\n",
       "      <th>3</th>\n",
       "      <td>ID648123973</td>\n",
       "      <td>17 George St</td>\n",
       "      <td>NIDDRIE</td>\n",
       "      <td>875000.0</td>\n",
       "      <td>h</td>\n",
       "      <td>14/05/2016</td>\n",
       "      <td>4</td>\n",
       "      <td>3.0</td>\n",
       "      <td>1.0</td>\n",
       "      <td>321.0</td>\n",
       "      <td>69.0</td>\n",
       "      <td>-37.74240</td>\n",
       "      <td>144.8851</td>\n",
       "      <td>20037</td>\n",
       "      <td>3128.55328</td>\n",
       "      <td>24</td>\n",
       "      <td>2016</td>\n",
       "      <td>0</td>\n",
       "      <td>MANSFIELD</td>\n",
       "      <td>71</td>\n",
       "    </tr>\n",
       "    <tr>\n",
       "      <th>4</th>\n",
       "      <td>ID303786399</td>\n",
       "      <td>1/11 Brockley Rd</td>\n",
       "      <td>FAWKNER</td>\n",
       "      <td>400000.0</td>\n",
       "      <td>h</td>\n",
       "      <td>22/05/2016</td>\n",
       "      <td>3</td>\n",
       "      <td>1.0</td>\n",
       "      <td>1.0</td>\n",
       "      <td>285.0</td>\n",
       "      <td>49.0</td>\n",
       "      <td>-37.71610</td>\n",
       "      <td>144.9662</td>\n",
       "      <td>19962</td>\n",
       "      <td>524.468886</td>\n",
       "      <td>37</td>\n",
       "      <td>2016</td>\n",
       "      <td>0</td>\n",
       "      <td>MONASH</td>\n",
       "      <td>1144.33333</td>\n",
       "    </tr>\n",
       "    <tr>\n",
       "      <th>5</th>\n",
       "      <td>ID617547678</td>\n",
       "      <td>11 Finsbury St</td>\n",
       "      <td>FLEMINGTON</td>\n",
       "      <td>1130000.0</td>\n",
       "      <td>h</td>\n",
       "      <td>8/10/2016</td>\n",
       "      <td>3</td>\n",
       "      <td>1.0</td>\n",
       "      <td>0.0</td>\n",
       "      <td>294.0</td>\n",
       "      <td>119.0</td>\n",
       "      <td>-37.78560</td>\n",
       "      <td>144.9292</td>\n",
       "      <td>20040</td>\n",
       "      <td>193.304281</td>\n",
       "      <td>18</td>\n",
       "      <td>2016</td>\n",
       "      <td>0</td>\n",
       "      <td>WHITTLESEA</td>\n",
       "      <td>1923.66667</td>\n",
       "    </tr>\n",
       "    <tr>\n",
       "      <th>6</th>\n",
       "      <td>ID882289154</td>\n",
       "      <td>99 Weidlich Rd</td>\n",
       "      <td>ELTHAM NORTH</td>\n",
       "      <td>925000.0</td>\n",
       "      <td>h</td>\n",
       "      <td>27/05/2017</td>\n",
       "      <td>4</td>\n",
       "      <td>2.0</td>\n",
       "      <td>2.0</td>\n",
       "      <td>796.0</td>\n",
       "      <td>24.0</td>\n",
       "      <td>-37.69771</td>\n",
       "      <td>145.1349</td>\n",
       "      <td>19987</td>\n",
       "      <td>2098.59669</td>\n",
       "      <td>47.9</td>\n",
       "      <td>2017</td>\n",
       "      <td>1</td>\n",
       "      <td>ARARAT</td>\n",
       "      <td>318.333333</td>\n",
       "    </tr>\n",
       "    <tr>\n",
       "      <th>7</th>\n",
       "      <td>ID158548396</td>\n",
       "      <td>11/33 Carmichael St</td>\n",
       "      <td>IVANHOE EAST</td>\n",
       "      <td>485000.0</td>\n",
       "      <td>u</td>\n",
       "      <td>13/08/2016</td>\n",
       "      <td>2</td>\n",
       "      <td>1.0</td>\n",
       "      <td>1.0</td>\n",
       "      <td>0.0</td>\n",
       "      <td>84.0</td>\n",
       "      <td>-37.76990</td>\n",
       "      <td>145.0581</td>\n",
       "      <td>19934</td>\n",
       "      <td>792.409593</td>\n",
       "      <td>29</td>\n",
       "      <td>2016</td>\n",
       "      <td>0</td>\n",
       "      <td>ALPINE</td>\n",
       "      <td>87.3333333</td>\n",
       "    </tr>\n",
       "    <tr>\n",
       "      <th>8</th>\n",
       "      <td>ID664160161</td>\n",
       "      <td>112 Belmore Rd</td>\n",
       "      <td>BALWYN</td>\n",
       "      <td>3020000.0</td>\n",
       "      <td>h</td>\n",
       "      <td>28/05/2016</td>\n",
       "      <td>5</td>\n",
       "      <td>3.0</td>\n",
       "      <td>2.0</td>\n",
       "      <td>715.0</td>\n",
       "      <td>10.0</td>\n",
       "      <td>-37.80280</td>\n",
       "      <td>145.0768</td>\n",
       "      <td>19893</td>\n",
       "      <td>2445.08548</td>\n",
       "      <td>23.7692</td>\n",
       "      <td>2016</td>\n",
       "      <td>0</td>\n",
       "      <td>HOBSONS BAY</td>\n",
       "      <td>925.666667</td>\n",
       "    </tr>\n",
       "    <tr>\n",
       "      <th>9</th>\n",
       "      <td>ID751105870</td>\n",
       "      <td>168 Gatehouse St</td>\n",
       "      <td>PARKVILLE</td>\n",
       "      <td>1717500.0</td>\n",
       "      <td>h</td>\n",
       "      <td>19/11/2016</td>\n",
       "      <td>4</td>\n",
       "      <td>2.0</td>\n",
       "      <td>1.0</td>\n",
       "      <td>165.0</td>\n",
       "      <td>144.0</td>\n",
       "      <td>-37.79330</td>\n",
       "      <td>144.9556</td>\n",
       "      <td>19970</td>\n",
       "      <td>1378.61355</td>\n",
       "      <td>22.3333</td>\n",
       "      <td>2016</td>\n",
       "      <td>0</td>\n",
       "      <td>MURRINDINDI</td>\n",
       "      <td>136.333333</td>\n",
       "    </tr>\n",
       "  </tbody>\n",
       "</table>\n",
       "</div>"
      ],
      "text/plain": [
       "            ID              Address        Suburb      Price Type        Date  \\\n",
       "0  ID291519933         2/23 Foam St        ELWOOD   582500.0    u   8/10/2016   \n",
       "1  ID777648929      6/210 Domain Rd   SOUTH YARRA   832000.0    u  15/10/2016   \n",
       "2  ID436934525     52 Richardson St    THOMASTOWN   508000.0    h  15/07/2017   \n",
       "3  ID648123973         17 George St       NIDDRIE   875000.0    h  14/05/2016   \n",
       "4  ID303786399     1/11 Brockley Rd       FAWKNER   400000.0    h  22/05/2016   \n",
       "5  ID617547678       11 Finsbury St    FLEMINGTON  1130000.0    h   8/10/2016   \n",
       "6  ID882289154       99 Weidlich Rd  ELTHAM NORTH   925000.0    h  27/05/2017   \n",
       "7  ID158548396  11/33 Carmichael St  IVANHOE EAST   485000.0    u  13/08/2016   \n",
       "8  ID664160161       112 Belmore Rd        BALWYN  3020000.0    h  28/05/2016   \n",
       "9  ID751105870     168 Gatehouse St     PARKVILLE  1717500.0    h  19/11/2016   \n",
       "\n",
       "   Rooms  Bathroom  Car  Landsize    Age  Lattitude  Longtitude  \\\n",
       "0      2       1.0  1.0       0.0   49.0  -37.88500    144.9910   \n",
       "1      2       1.0  1.0       0.0   59.0  -37.83420    144.9842   \n",
       "2      3       2.0  1.0     189.0   29.0  -37.68159    145.0371   \n",
       "3      4       3.0  1.0     321.0   69.0  -37.74240    144.8851   \n",
       "4      3       1.0  1.0     285.0   49.0  -37.71610    144.9662   \n",
       "5      3       1.0  0.0     294.0  119.0  -37.78560    144.9292   \n",
       "6      4       2.0  2.0     796.0   24.0  -37.69771    145.1349   \n",
       "7      2       1.0  1.0       0.0   84.0  -37.76990    145.0581   \n",
       "8      5       3.0  2.0     715.0   10.0  -37.80280    145.0768   \n",
       "9      4       2.0  1.0     165.0  144.0  -37.79330    144.9556   \n",
       "\n",
       "   train_station_id distance_to_train_station travel_min_to_CBD  year  \\\n",
       "0             19954                870.027664              21.5  2016   \n",
       "1             19959                857.991321           12.5714  2016   \n",
       "2             20007                2015.35003           40.2222  2017   \n",
       "3             20037                3128.55328                24  2016   \n",
       "4             19962                524.468886                37  2016   \n",
       "5             20040                193.304281                18  2016   \n",
       "6             19987                2098.59669              47.9  2017   \n",
       "7             19934                792.409593                29  2016   \n",
       "8             19893                2445.08548           23.7692  2016   \n",
       "9             19970                1378.61355           22.3333  2016   \n",
       "\n",
       "   over_priced?            councils crime_A_average  \n",
       "0             0            MORELAND      1566.66667  \n",
       "1             1  GREATER SHEPPARTON      1100.66667  \n",
       "2             0            CAMPASPE      502.666667  \n",
       "3             0           MANSFIELD              71  \n",
       "4             0              MONASH      1144.33333  \n",
       "5             0          WHITTLESEA      1923.66667  \n",
       "6             1              ARARAT      318.333333  \n",
       "7             0              ALPINE      87.3333333  \n",
       "8             0         HOBSONS BAY      925.666667  \n",
       "9             0         MURRINDINDI      136.333333  "
      ]
     },
     "execution_count": 359,
     "metadata": {},
     "output_type": "execute_result"
    }
   ],
   "source": [
    "data_df2.head(10)"
   ]
  },
  {
   "cell_type": "code",
   "execution_count": 360,
   "metadata": {},
   "outputs": [
    {
     "data": {
      "text/html": [
       "<div>\n",
       "<style scoped>\n",
       "    .dataframe tbody tr th:only-of-type {\n",
       "        vertical-align: middle;\n",
       "    }\n",
       "\n",
       "    .dataframe tbody tr th {\n",
       "        vertical-align: top;\n",
       "    }\n",
       "\n",
       "    .dataframe thead th {\n",
       "        text-align: right;\n",
       "    }\n",
       "</style>\n",
       "<table border=\"1\" class=\"dataframe\">\n",
       "  <thead>\n",
       "    <tr style=\"text-align: right;\">\n",
       "      <th></th>\n",
       "      <th>ID</th>\n",
       "      <th>Address</th>\n",
       "      <th>Suburb</th>\n",
       "      <th>Price</th>\n",
       "      <th>Type</th>\n",
       "      <th>Date</th>\n",
       "      <th>Rooms</th>\n",
       "      <th>Bathroom</th>\n",
       "      <th>Car</th>\n",
       "      <th>Landsize</th>\n",
       "      <th>Age</th>\n",
       "      <th>Lattitude</th>\n",
       "      <th>Longtitude</th>\n",
       "      <th>train_station_id</th>\n",
       "      <th>distance_to_train_station</th>\n",
       "      <th>travel_min_to_CBD</th>\n",
       "      <th>year</th>\n",
       "      <th>over_priced?</th>\n",
       "      <th>councils</th>\n",
       "      <th>crime_A_average</th>\n",
       "    </tr>\n",
       "  </thead>\n",
       "  <tbody>\n",
       "  </tbody>\n",
       "</table>\n",
       "</div>"
      ],
      "text/plain": [
       "Empty DataFrame\n",
       "Columns: [ID, Address, Suburb, Price, Type, Date, Rooms, Bathroom, Car, Landsize, Age, Lattitude, Longtitude, train_station_id, distance_to_train_station, travel_min_to_CBD, year, over_priced?, councils, crime_A_average]\n",
       "Index: []"
      ]
     },
     "execution_count": 360,
     "metadata": {},
     "output_type": "execute_result"
    }
   ],
   "source": [
    "#check whether there are 0 in the average crimeA\n",
    "data_df2[data_df2['crime_A_average']==0]"
   ]
  },
  {
   "cell_type": "code",
   "execution_count": null,
   "metadata": {},
   "outputs": [],
   "source": []
  },
  {
   "cell_type": "markdown",
   "metadata": {},
   "source": [
    "##### For Crime B\n",
    "same method as crimeA"
   ]
  },
  {
   "cell_type": "code",
   "execution_count": 109,
   "metadata": {},
   "outputs": [],
   "source": [
    "#set default value\n",
    "data_df2['crime_B_average']='-1'"
   ]
  },
  {
   "cell_type": "code",
   "execution_count": 361,
   "metadata": {},
   "outputs": [],
   "source": [
    "for i in range(len(data_df2)):\n",
    "    first_crimenum= 0 \n",
    "    second_crimenum= 0\n",
    "    third_crimenum= 0\n",
    "    \n",
    "    year = int(data_df2.loc[i,'year'])-1\n",
    "    coun = data_df2.loc[i,'councils']\n",
    "    \n",
    "    for j in range(len(data_crime)):\n",
    "        crime_coun=data_crime.loc[j,'Local Government Area']\n",
    "        crime_year = data_crime.loc[j,'Apr - Mar reference period']\n",
    "        #same council and same type of crimeB\n",
    "        if coun == crime_coun and data_crime.loc[j,'CSA Offence Division'].startswith(\"B\"):\n",
    "            #print(\"A\")\n",
    "            #the first year\n",
    "            if year== crime_year:\n",
    "                #print(\"y\")\n",
    "                first_crimenum+=data_crime.loc[j,'Offence Count']\n",
    "            #the second year\n",
    "            if year-1 ==crime_year:\n",
    "                #print(\"y1\")\n",
    "                second_crimenum+=data_crime.loc[j,'Offence Count']\n",
    "            #the third year\n",
    "            if year-2 ==crime_year:\n",
    "                #print(\"y2\")\n",
    "                third_crimenum+=data_crime.loc[j,'Offence Count']\n",
    "                \n",
    "    avg_num=round((first_crimenum+second_crimenum+third_crimenum)/3,9)\n",
    "    data_df2.loc[i,'crime_B_average']=avg_num"
   ]
  },
  {
   "cell_type": "code",
   "execution_count": 362,
   "metadata": {},
   "outputs": [
    {
     "data": {
      "text/html": [
       "<div>\n",
       "<style scoped>\n",
       "    .dataframe tbody tr th:only-of-type {\n",
       "        vertical-align: middle;\n",
       "    }\n",
       "\n",
       "    .dataframe tbody tr th {\n",
       "        vertical-align: top;\n",
       "    }\n",
       "\n",
       "    .dataframe thead th {\n",
       "        text-align: right;\n",
       "    }\n",
       "</style>\n",
       "<table border=\"1\" class=\"dataframe\">\n",
       "  <thead>\n",
       "    <tr style=\"text-align: right;\">\n",
       "      <th></th>\n",
       "      <th>ID</th>\n",
       "      <th>Address</th>\n",
       "      <th>Suburb</th>\n",
       "      <th>Price</th>\n",
       "      <th>Type</th>\n",
       "      <th>Date</th>\n",
       "      <th>Rooms</th>\n",
       "      <th>Bathroom</th>\n",
       "      <th>Car</th>\n",
       "      <th>Landsize</th>\n",
       "      <th>...</th>\n",
       "      <th>Lattitude</th>\n",
       "      <th>Longtitude</th>\n",
       "      <th>train_station_id</th>\n",
       "      <th>distance_to_train_station</th>\n",
       "      <th>travel_min_to_CBD</th>\n",
       "      <th>year</th>\n",
       "      <th>over_priced?</th>\n",
       "      <th>councils</th>\n",
       "      <th>crime_A_average</th>\n",
       "      <th>crime_B_average</th>\n",
       "    </tr>\n",
       "  </thead>\n",
       "  <tbody>\n",
       "    <tr>\n",
       "      <th>0</th>\n",
       "      <td>ID291519933</td>\n",
       "      <td>2/23 Foam St</td>\n",
       "      <td>ELWOOD</td>\n",
       "      <td>582500.0</td>\n",
       "      <td>u</td>\n",
       "      <td>8/10/2016</td>\n",
       "      <td>2</td>\n",
       "      <td>1.0</td>\n",
       "      <td>1.0</td>\n",
       "      <td>0.0</td>\n",
       "      <td>...</td>\n",
       "      <td>-37.88500</td>\n",
       "      <td>144.9910</td>\n",
       "      <td>19954</td>\n",
       "      <td>870.027664</td>\n",
       "      <td>21.5</td>\n",
       "      <td>2016</td>\n",
       "      <td>0</td>\n",
       "      <td>MORELAND</td>\n",
       "      <td>1566.66667</td>\n",
       "      <td>8895.333333333</td>\n",
       "    </tr>\n",
       "    <tr>\n",
       "      <th>1</th>\n",
       "      <td>ID777648929</td>\n",
       "      <td>6/210 Domain Rd</td>\n",
       "      <td>SOUTH YARRA</td>\n",
       "      <td>832000.0</td>\n",
       "      <td>u</td>\n",
       "      <td>15/10/2016</td>\n",
       "      <td>2</td>\n",
       "      <td>1.0</td>\n",
       "      <td>1.0</td>\n",
       "      <td>0.0</td>\n",
       "      <td>...</td>\n",
       "      <td>-37.83420</td>\n",
       "      <td>144.9842</td>\n",
       "      <td>19959</td>\n",
       "      <td>857.991321</td>\n",
       "      <td>12.5714</td>\n",
       "      <td>2016</td>\n",
       "      <td>1</td>\n",
       "      <td>GREATER SHEPPARTON</td>\n",
       "      <td>1100.66667</td>\n",
       "      <td>3636.333333333</td>\n",
       "    </tr>\n",
       "    <tr>\n",
       "      <th>2</th>\n",
       "      <td>ID436934525</td>\n",
       "      <td>52 Richardson St</td>\n",
       "      <td>THOMASTOWN</td>\n",
       "      <td>508000.0</td>\n",
       "      <td>h</td>\n",
       "      <td>15/07/2017</td>\n",
       "      <td>3</td>\n",
       "      <td>2.0</td>\n",
       "      <td>1.0</td>\n",
       "      <td>189.0</td>\n",
       "      <td>...</td>\n",
       "      <td>-37.68159</td>\n",
       "      <td>145.0371</td>\n",
       "      <td>20007</td>\n",
       "      <td>2015.35003</td>\n",
       "      <td>40.2222</td>\n",
       "      <td>2017</td>\n",
       "      <td>0</td>\n",
       "      <td>CAMPASPE</td>\n",
       "      <td>502.666667</td>\n",
       "      <td>1662.666666667</td>\n",
       "    </tr>\n",
       "    <tr>\n",
       "      <th>3</th>\n",
       "      <td>ID648123973</td>\n",
       "      <td>17 George St</td>\n",
       "      <td>NIDDRIE</td>\n",
       "      <td>875000.0</td>\n",
       "      <td>h</td>\n",
       "      <td>14/05/2016</td>\n",
       "      <td>4</td>\n",
       "      <td>3.0</td>\n",
       "      <td>1.0</td>\n",
       "      <td>321.0</td>\n",
       "      <td>...</td>\n",
       "      <td>-37.74240</td>\n",
       "      <td>144.8851</td>\n",
       "      <td>20037</td>\n",
       "      <td>3128.55328</td>\n",
       "      <td>24</td>\n",
       "      <td>2016</td>\n",
       "      <td>0</td>\n",
       "      <td>MANSFIELD</td>\n",
       "      <td>71</td>\n",
       "      <td>261.000000000</td>\n",
       "    </tr>\n",
       "    <tr>\n",
       "      <th>4</th>\n",
       "      <td>ID303786399</td>\n",
       "      <td>1/11 Brockley Rd</td>\n",
       "      <td>FAWKNER</td>\n",
       "      <td>400000.0</td>\n",
       "      <td>h</td>\n",
       "      <td>22/05/2016</td>\n",
       "      <td>3</td>\n",
       "      <td>1.0</td>\n",
       "      <td>1.0</td>\n",
       "      <td>285.0</td>\n",
       "      <td>...</td>\n",
       "      <td>-37.71610</td>\n",
       "      <td>144.9662</td>\n",
       "      <td>19962</td>\n",
       "      <td>524.468886</td>\n",
       "      <td>37</td>\n",
       "      <td>2016</td>\n",
       "      <td>0</td>\n",
       "      <td>MONASH</td>\n",
       "      <td>1144.33333</td>\n",
       "      <td>6845.666666667</td>\n",
       "    </tr>\n",
       "  </tbody>\n",
       "</table>\n",
       "<p>5 rows × 21 columns</p>\n",
       "</div>"
      ],
      "text/plain": [
       "            ID           Address       Suburb     Price Type        Date  \\\n",
       "0  ID291519933      2/23 Foam St       ELWOOD  582500.0    u   8/10/2016   \n",
       "1  ID777648929   6/210 Domain Rd  SOUTH YARRA  832000.0    u  15/10/2016   \n",
       "2  ID436934525  52 Richardson St   THOMASTOWN  508000.0    h  15/07/2017   \n",
       "3  ID648123973      17 George St      NIDDRIE  875000.0    h  14/05/2016   \n",
       "4  ID303786399  1/11 Brockley Rd      FAWKNER  400000.0    h  22/05/2016   \n",
       "\n",
       "   Rooms  Bathroom  Car  Landsize       ...        Lattitude  Longtitude  \\\n",
       "0      2       1.0  1.0       0.0       ...        -37.88500    144.9910   \n",
       "1      2       1.0  1.0       0.0       ...        -37.83420    144.9842   \n",
       "2      3       2.0  1.0     189.0       ...        -37.68159    145.0371   \n",
       "3      4       3.0  1.0     321.0       ...        -37.74240    144.8851   \n",
       "4      3       1.0  1.0     285.0       ...        -37.71610    144.9662   \n",
       "\n",
       "   train_station_id  distance_to_train_station travel_min_to_CBD  year  \\\n",
       "0             19954                 870.027664              21.5  2016   \n",
       "1             19959                 857.991321           12.5714  2016   \n",
       "2             20007                 2015.35003           40.2222  2017   \n",
       "3             20037                 3128.55328                24  2016   \n",
       "4             19962                 524.468886                37  2016   \n",
       "\n",
       "  over_priced?            councils crime_A_average crime_B_average  \n",
       "0            0            MORELAND      1566.66667  8895.333333333  \n",
       "1            1  GREATER SHEPPARTON      1100.66667  3636.333333333  \n",
       "2            0            CAMPASPE      502.666667  1662.666666667  \n",
       "3            0           MANSFIELD              71   261.000000000  \n",
       "4            0              MONASH      1144.33333  6845.666666667  \n",
       "\n",
       "[5 rows x 21 columns]"
      ]
     },
     "execution_count": 362,
     "metadata": {},
     "output_type": "execute_result"
    }
   ],
   "source": [
    "data_df2.head()"
   ]
  },
  {
   "cell_type": "code",
   "execution_count": 363,
   "metadata": {},
   "outputs": [
    {
     "data": {
      "text/html": [
       "<div>\n",
       "<style scoped>\n",
       "    .dataframe tbody tr th:only-of-type {\n",
       "        vertical-align: middle;\n",
       "    }\n",
       "\n",
       "    .dataframe tbody tr th {\n",
       "        vertical-align: top;\n",
       "    }\n",
       "\n",
       "    .dataframe thead th {\n",
       "        text-align: right;\n",
       "    }\n",
       "</style>\n",
       "<table border=\"1\" class=\"dataframe\">\n",
       "  <thead>\n",
       "    <tr style=\"text-align: right;\">\n",
       "      <th></th>\n",
       "      <th>ID</th>\n",
       "      <th>Address</th>\n",
       "      <th>Suburb</th>\n",
       "      <th>Price</th>\n",
       "      <th>Type</th>\n",
       "      <th>Date</th>\n",
       "      <th>Rooms</th>\n",
       "      <th>Bathroom</th>\n",
       "      <th>Car</th>\n",
       "      <th>Landsize</th>\n",
       "      <th>...</th>\n",
       "      <th>Lattitude</th>\n",
       "      <th>Longtitude</th>\n",
       "      <th>train_station_id</th>\n",
       "      <th>distance_to_train_station</th>\n",
       "      <th>travel_min_to_CBD</th>\n",
       "      <th>year</th>\n",
       "      <th>over_priced?</th>\n",
       "      <th>councils</th>\n",
       "      <th>crime_A_average</th>\n",
       "      <th>crime_B_average</th>\n",
       "    </tr>\n",
       "  </thead>\n",
       "  <tbody>\n",
       "  </tbody>\n",
       "</table>\n",
       "<p>0 rows × 21 columns</p>\n",
       "</div>"
      ],
      "text/plain": [
       "Empty DataFrame\n",
       "Columns: [ID, Address, Suburb, Price, Type, Date, Rooms, Bathroom, Car, Landsize, Age, Lattitude, Longtitude, train_station_id, distance_to_train_station, travel_min_to_CBD, year, over_priced?, councils, crime_A_average, crime_B_average]\n",
       "Index: []\n",
       "\n",
       "[0 rows x 21 columns]"
      ]
     },
     "execution_count": 363,
     "metadata": {},
     "output_type": "execute_result"
    }
   ],
   "source": [
    "#check whether there are 0 in the average crimeB\n",
    "data_df2[data_df2['crime_B_average']==0]"
   ]
  },
  {
   "cell_type": "code",
   "execution_count": null,
   "metadata": {},
   "outputs": [],
   "source": []
  },
  {
   "cell_type": "markdown",
   "metadata": {},
   "source": [
    "##### For Crime C\n",
    "same method as crimeA"
   ]
  },
  {
   "cell_type": "code",
   "execution_count": 364,
   "metadata": {},
   "outputs": [],
   "source": [
    "#set default value\n",
    "data_df2['crime_C_average']='-1'"
   ]
  },
  {
   "cell_type": "code",
   "execution_count": 365,
   "metadata": {},
   "outputs": [],
   "source": [
    "for i in range(len(data_df2)):\n",
    "    first_crimenum= 0 \n",
    "    second_crimenum= 0\n",
    "    third_crimenum= 0\n",
    "    \n",
    "    year = int(data_df2.loc[i,'year'])-1\n",
    "    coun = data_df2.loc[i,'councils']\n",
    "    \n",
    "    for j in range(len(data_crime)):\n",
    "        crime_coun=data_crime.loc[j,'Local Government Area']\n",
    "        crime_year = data_crime.loc[j,'Apr - Mar reference period']\n",
    "        #same council and same type of crimeC\n",
    "        if coun == crime_coun and data_crime.loc[j,'CSA Offence Division'].startswith(\"C\"):\n",
    "            #print(\"A\")\n",
    "            #the first year\n",
    "            if year== crime_year:\n",
    "                #print(\"y\")\n",
    "                first_crimenum+=data_crime.loc[j,'Offence Count']\n",
    "            #the second year\n",
    "            if year-1 ==crime_year:\n",
    "                #print(\"y1\")\n",
    "                second_crimenum+=data_crime.loc[j,'Offence Count']\n",
    "            #the third year\n",
    "            if year-2 ==crime_year:\n",
    "                #print(\"y2\")\n",
    "                third_crimenum+=data_crime.loc[j,'Offence Count']\n",
    "                \n",
    "    avg_num=round((first_crimenum+second_crimenum+third_crimenum)/3,6)\n",
    "    data_df2.loc[i,'crime_C_average']=avg_num"
   ]
  },
  {
   "cell_type": "code",
   "execution_count": 366,
   "metadata": {},
   "outputs": [
    {
     "data": {
      "text/html": [
       "<div>\n",
       "<style scoped>\n",
       "    .dataframe tbody tr th:only-of-type {\n",
       "        vertical-align: middle;\n",
       "    }\n",
       "\n",
       "    .dataframe tbody tr th {\n",
       "        vertical-align: top;\n",
       "    }\n",
       "\n",
       "    .dataframe thead th {\n",
       "        text-align: right;\n",
       "    }\n",
       "</style>\n",
       "<table border=\"1\" class=\"dataframe\">\n",
       "  <thead>\n",
       "    <tr style=\"text-align: right;\">\n",
       "      <th></th>\n",
       "      <th>ID</th>\n",
       "      <th>Address</th>\n",
       "      <th>Suburb</th>\n",
       "      <th>Price</th>\n",
       "      <th>Type</th>\n",
       "      <th>Date</th>\n",
       "      <th>Rooms</th>\n",
       "      <th>Bathroom</th>\n",
       "      <th>Car</th>\n",
       "      <th>Landsize</th>\n",
       "      <th>...</th>\n",
       "      <th>Longtitude</th>\n",
       "      <th>train_station_id</th>\n",
       "      <th>distance_to_train_station</th>\n",
       "      <th>travel_min_to_CBD</th>\n",
       "      <th>year</th>\n",
       "      <th>over_priced?</th>\n",
       "      <th>councils</th>\n",
       "      <th>crime_A_average</th>\n",
       "      <th>crime_B_average</th>\n",
       "      <th>crime_C_average</th>\n",
       "    </tr>\n",
       "  </thead>\n",
       "  <tbody>\n",
       "    <tr>\n",
       "      <th>0</th>\n",
       "      <td>ID291519933</td>\n",
       "      <td>2/23 Foam St</td>\n",
       "      <td>ELWOOD</td>\n",
       "      <td>582500.0</td>\n",
       "      <td>u</td>\n",
       "      <td>8/10/2016</td>\n",
       "      <td>2</td>\n",
       "      <td>1.0</td>\n",
       "      <td>1.0</td>\n",
       "      <td>0.0</td>\n",
       "      <td>...</td>\n",
       "      <td>144.9910</td>\n",
       "      <td>19954</td>\n",
       "      <td>870.027664</td>\n",
       "      <td>21.5</td>\n",
       "      <td>2016</td>\n",
       "      <td>0</td>\n",
       "      <td>MORELAND</td>\n",
       "      <td>1566.66667</td>\n",
       "      <td>8895.333333333</td>\n",
       "      <td>491</td>\n",
       "    </tr>\n",
       "    <tr>\n",
       "      <th>1</th>\n",
       "      <td>ID777648929</td>\n",
       "      <td>6/210 Domain Rd</td>\n",
       "      <td>SOUTH YARRA</td>\n",
       "      <td>832000.0</td>\n",
       "      <td>u</td>\n",
       "      <td>15/10/2016</td>\n",
       "      <td>2</td>\n",
       "      <td>1.0</td>\n",
       "      <td>1.0</td>\n",
       "      <td>0.0</td>\n",
       "      <td>...</td>\n",
       "      <td>144.9842</td>\n",
       "      <td>19959</td>\n",
       "      <td>857.991321</td>\n",
       "      <td>12.5714</td>\n",
       "      <td>2016</td>\n",
       "      <td>1</td>\n",
       "      <td>GREATER SHEPPARTON</td>\n",
       "      <td>1100.66667</td>\n",
       "      <td>3636.333333333</td>\n",
       "      <td>457.333333</td>\n",
       "    </tr>\n",
       "    <tr>\n",
       "      <th>2</th>\n",
       "      <td>ID436934525</td>\n",
       "      <td>52 Richardson St</td>\n",
       "      <td>THOMASTOWN</td>\n",
       "      <td>508000.0</td>\n",
       "      <td>h</td>\n",
       "      <td>15/07/2017</td>\n",
       "      <td>3</td>\n",
       "      <td>2.0</td>\n",
       "      <td>1.0</td>\n",
       "      <td>189.0</td>\n",
       "      <td>...</td>\n",
       "      <td>145.0371</td>\n",
       "      <td>20007</td>\n",
       "      <td>2015.35003</td>\n",
       "      <td>40.2222</td>\n",
       "      <td>2017</td>\n",
       "      <td>0</td>\n",
       "      <td>CAMPASPE</td>\n",
       "      <td>502.666667</td>\n",
       "      <td>1662.666666667</td>\n",
       "      <td>118.666667</td>\n",
       "    </tr>\n",
       "    <tr>\n",
       "      <th>3</th>\n",
       "      <td>ID648123973</td>\n",
       "      <td>17 George St</td>\n",
       "      <td>NIDDRIE</td>\n",
       "      <td>875000.0</td>\n",
       "      <td>h</td>\n",
       "      <td>14/05/2016</td>\n",
       "      <td>4</td>\n",
       "      <td>3.0</td>\n",
       "      <td>1.0</td>\n",
       "      <td>321.0</td>\n",
       "      <td>...</td>\n",
       "      <td>144.8851</td>\n",
       "      <td>20037</td>\n",
       "      <td>3128.55328</td>\n",
       "      <td>24</td>\n",
       "      <td>2016</td>\n",
       "      <td>0</td>\n",
       "      <td>MANSFIELD</td>\n",
       "      <td>71</td>\n",
       "      <td>261.000000000</td>\n",
       "      <td>20</td>\n",
       "    </tr>\n",
       "    <tr>\n",
       "      <th>4</th>\n",
       "      <td>ID303786399</td>\n",
       "      <td>1/11 Brockley Rd</td>\n",
       "      <td>FAWKNER</td>\n",
       "      <td>400000.0</td>\n",
       "      <td>h</td>\n",
       "      <td>22/05/2016</td>\n",
       "      <td>3</td>\n",
       "      <td>1.0</td>\n",
       "      <td>1.0</td>\n",
       "      <td>285.0</td>\n",
       "      <td>...</td>\n",
       "      <td>144.9662</td>\n",
       "      <td>19962</td>\n",
       "      <td>524.468886</td>\n",
       "      <td>37</td>\n",
       "      <td>2016</td>\n",
       "      <td>0</td>\n",
       "      <td>MONASH</td>\n",
       "      <td>1144.33333</td>\n",
       "      <td>6845.666666667</td>\n",
       "      <td>375.666667</td>\n",
       "    </tr>\n",
       "  </tbody>\n",
       "</table>\n",
       "<p>5 rows × 22 columns</p>\n",
       "</div>"
      ],
      "text/plain": [
       "            ID           Address       Suburb     Price Type        Date  \\\n",
       "0  ID291519933      2/23 Foam St       ELWOOD  582500.0    u   8/10/2016   \n",
       "1  ID777648929   6/210 Domain Rd  SOUTH YARRA  832000.0    u  15/10/2016   \n",
       "2  ID436934525  52 Richardson St   THOMASTOWN  508000.0    h  15/07/2017   \n",
       "3  ID648123973      17 George St      NIDDRIE  875000.0    h  14/05/2016   \n",
       "4  ID303786399  1/11 Brockley Rd      FAWKNER  400000.0    h  22/05/2016   \n",
       "\n",
       "   Rooms  Bathroom  Car  Landsize       ...        Longtitude  \\\n",
       "0      2       1.0  1.0       0.0       ...          144.9910   \n",
       "1      2       1.0  1.0       0.0       ...          144.9842   \n",
       "2      3       2.0  1.0     189.0       ...          145.0371   \n",
       "3      4       3.0  1.0     321.0       ...          144.8851   \n",
       "4      3       1.0  1.0     285.0       ...          144.9662   \n",
       "\n",
       "   train_station_id  distance_to_train_station  travel_min_to_CBD  year  \\\n",
       "0             19954                 870.027664               21.5  2016   \n",
       "1             19959                 857.991321            12.5714  2016   \n",
       "2             20007                 2015.35003            40.2222  2017   \n",
       "3             20037                 3128.55328                 24  2016   \n",
       "4             19962                 524.468886                 37  2016   \n",
       "\n",
       "  over_priced?            councils  crime_A_average crime_B_average  \\\n",
       "0            0            MORELAND       1566.66667  8895.333333333   \n",
       "1            1  GREATER SHEPPARTON       1100.66667  3636.333333333   \n",
       "2            0            CAMPASPE       502.666667  1662.666666667   \n",
       "3            0           MANSFIELD               71   261.000000000   \n",
       "4            0              MONASH       1144.33333  6845.666666667   \n",
       "\n",
       "  crime_C_average  \n",
       "0             491  \n",
       "1      457.333333  \n",
       "2      118.666667  \n",
       "3              20  \n",
       "4      375.666667  \n",
       "\n",
       "[5 rows x 22 columns]"
      ]
     },
     "execution_count": 366,
     "metadata": {},
     "output_type": "execute_result"
    }
   ],
   "source": [
    "data_df2.head()"
   ]
  },
  {
   "cell_type": "code",
   "execution_count": 367,
   "metadata": {},
   "outputs": [
    {
     "data": {
      "text/html": [
       "<div>\n",
       "<style scoped>\n",
       "    .dataframe tbody tr th:only-of-type {\n",
       "        vertical-align: middle;\n",
       "    }\n",
       "\n",
       "    .dataframe tbody tr th {\n",
       "        vertical-align: top;\n",
       "    }\n",
       "\n",
       "    .dataframe thead th {\n",
       "        text-align: right;\n",
       "    }\n",
       "</style>\n",
       "<table border=\"1\" class=\"dataframe\">\n",
       "  <thead>\n",
       "    <tr style=\"text-align: right;\">\n",
       "      <th></th>\n",
       "      <th>ID</th>\n",
       "      <th>Address</th>\n",
       "      <th>Suburb</th>\n",
       "      <th>Price</th>\n",
       "      <th>Type</th>\n",
       "      <th>Date</th>\n",
       "      <th>Rooms</th>\n",
       "      <th>Bathroom</th>\n",
       "      <th>Car</th>\n",
       "      <th>Landsize</th>\n",
       "      <th>...</th>\n",
       "      <th>Longtitude</th>\n",
       "      <th>train_station_id</th>\n",
       "      <th>distance_to_train_station</th>\n",
       "      <th>travel_min_to_CBD</th>\n",
       "      <th>year</th>\n",
       "      <th>over_priced?</th>\n",
       "      <th>councils</th>\n",
       "      <th>crime_A_average</th>\n",
       "      <th>crime_B_average</th>\n",
       "      <th>crime_C_average</th>\n",
       "    </tr>\n",
       "  </thead>\n",
       "  <tbody>\n",
       "  </tbody>\n",
       "</table>\n",
       "<p>0 rows × 22 columns</p>\n",
       "</div>"
      ],
      "text/plain": [
       "Empty DataFrame\n",
       "Columns: [ID, Address, Suburb, Price, Type, Date, Rooms, Bathroom, Car, Landsize, Age, Lattitude, Longtitude, train_station_id, distance_to_train_station, travel_min_to_CBD, year, over_priced?, councils, crime_A_average, crime_B_average, crime_C_average]\n",
       "Index: []\n",
       "\n",
       "[0 rows x 22 columns]"
      ]
     },
     "execution_count": 367,
     "metadata": {},
     "output_type": "execute_result"
    }
   ],
   "source": [
    "#check whether there are 0 in the average crimeC\n",
    "data_df2[data_df2['crime_C_average']==0]"
   ]
  },
  {
   "cell_type": "code",
   "execution_count": null,
   "metadata": {},
   "outputs": [],
   "source": []
  },
  {
   "cell_type": "markdown",
   "metadata": {},
   "source": [
    "## 8.Output as csv\n",
    "check and order of column and save outout as csv"
   ]
  },
  {
   "cell_type": "code",
   "execution_count": 368,
   "metadata": {},
   "outputs": [],
   "source": [
    "#clean column\n",
    "data_df3=data_df2.drop(['year','councils'],1)"
   ]
  },
  {
   "cell_type": "code",
   "execution_count": 369,
   "metadata": {},
   "outputs": [],
   "source": [
    "#check o\\columns' order\n",
    "col_name =['ID','Address','Suburb','Price','Type','Date','Rooms','Bathroom','Car','Landsize','Age','Lattitude','Longtitude','train_station_id','distance_to_train_stat','travel_min_to_CBD','over_priced?','crime_A_average','crime_B_average','crime_C_average']\n",
    "data_df3=data_df3.reindex(columns=col_name)"
   ]
  },
  {
   "cell_type": "code",
   "execution_count": 370,
   "metadata": {},
   "outputs": [
    {
     "data": {
      "text/html": [
       "<div>\n",
       "<style scoped>\n",
       "    .dataframe tbody tr th:only-of-type {\n",
       "        vertical-align: middle;\n",
       "    }\n",
       "\n",
       "    .dataframe tbody tr th {\n",
       "        vertical-align: top;\n",
       "    }\n",
       "\n",
       "    .dataframe thead th {\n",
       "        text-align: right;\n",
       "    }\n",
       "</style>\n",
       "<table border=\"1\" class=\"dataframe\">\n",
       "  <thead>\n",
       "    <tr style=\"text-align: right;\">\n",
       "      <th></th>\n",
       "      <th>ID</th>\n",
       "      <th>Address</th>\n",
       "      <th>Suburb</th>\n",
       "      <th>Price</th>\n",
       "      <th>Type</th>\n",
       "      <th>Date</th>\n",
       "      <th>Rooms</th>\n",
       "      <th>Bathroom</th>\n",
       "      <th>Car</th>\n",
       "      <th>Landsize</th>\n",
       "      <th>Age</th>\n",
       "      <th>Lattitude</th>\n",
       "      <th>Longtitude</th>\n",
       "      <th>train_station_id</th>\n",
       "      <th>distance_to_train_stat</th>\n",
       "      <th>travel_min_to_CBD</th>\n",
       "      <th>over_priced?</th>\n",
       "      <th>crime_A_average</th>\n",
       "      <th>crime_B_average</th>\n",
       "      <th>crime_C_average</th>\n",
       "    </tr>\n",
       "  </thead>\n",
       "  <tbody>\n",
       "    <tr>\n",
       "      <th>0</th>\n",
       "      <td>ID291519933</td>\n",
       "      <td>2/23 Foam St</td>\n",
       "      <td>ELWOOD</td>\n",
       "      <td>582500.0</td>\n",
       "      <td>u</td>\n",
       "      <td>8/10/2016</td>\n",
       "      <td>2</td>\n",
       "      <td>1.0</td>\n",
       "      <td>1.0</td>\n",
       "      <td>0.0</td>\n",
       "      <td>49.0</td>\n",
       "      <td>-37.88500</td>\n",
       "      <td>144.9910</td>\n",
       "      <td>19954</td>\n",
       "      <td>NaN</td>\n",
       "      <td>21.5</td>\n",
       "      <td>0</td>\n",
       "      <td>1566.66667</td>\n",
       "      <td>8895.333333333</td>\n",
       "      <td>491</td>\n",
       "    </tr>\n",
       "    <tr>\n",
       "      <th>1</th>\n",
       "      <td>ID777648929</td>\n",
       "      <td>6/210 Domain Rd</td>\n",
       "      <td>SOUTH YARRA</td>\n",
       "      <td>832000.0</td>\n",
       "      <td>u</td>\n",
       "      <td>15/10/2016</td>\n",
       "      <td>2</td>\n",
       "      <td>1.0</td>\n",
       "      <td>1.0</td>\n",
       "      <td>0.0</td>\n",
       "      <td>59.0</td>\n",
       "      <td>-37.83420</td>\n",
       "      <td>144.9842</td>\n",
       "      <td>19959</td>\n",
       "      <td>NaN</td>\n",
       "      <td>12.5714</td>\n",
       "      <td>1</td>\n",
       "      <td>1100.66667</td>\n",
       "      <td>3636.333333333</td>\n",
       "      <td>457.333333</td>\n",
       "    </tr>\n",
       "    <tr>\n",
       "      <th>2</th>\n",
       "      <td>ID436934525</td>\n",
       "      <td>52 Richardson St</td>\n",
       "      <td>THOMASTOWN</td>\n",
       "      <td>508000.0</td>\n",
       "      <td>h</td>\n",
       "      <td>15/07/2017</td>\n",
       "      <td>3</td>\n",
       "      <td>2.0</td>\n",
       "      <td>1.0</td>\n",
       "      <td>189.0</td>\n",
       "      <td>29.0</td>\n",
       "      <td>-37.68159</td>\n",
       "      <td>145.0371</td>\n",
       "      <td>20007</td>\n",
       "      <td>NaN</td>\n",
       "      <td>40.2222</td>\n",
       "      <td>0</td>\n",
       "      <td>502.666667</td>\n",
       "      <td>1662.666666667</td>\n",
       "      <td>118.666667</td>\n",
       "    </tr>\n",
       "    <tr>\n",
       "      <th>3</th>\n",
       "      <td>ID648123973</td>\n",
       "      <td>17 George St</td>\n",
       "      <td>NIDDRIE</td>\n",
       "      <td>875000.0</td>\n",
       "      <td>h</td>\n",
       "      <td>14/05/2016</td>\n",
       "      <td>4</td>\n",
       "      <td>3.0</td>\n",
       "      <td>1.0</td>\n",
       "      <td>321.0</td>\n",
       "      <td>69.0</td>\n",
       "      <td>-37.74240</td>\n",
       "      <td>144.8851</td>\n",
       "      <td>20037</td>\n",
       "      <td>NaN</td>\n",
       "      <td>24</td>\n",
       "      <td>0</td>\n",
       "      <td>71</td>\n",
       "      <td>261.000000000</td>\n",
       "      <td>20</td>\n",
       "    </tr>\n",
       "    <tr>\n",
       "      <th>4</th>\n",
       "      <td>ID303786399</td>\n",
       "      <td>1/11 Brockley Rd</td>\n",
       "      <td>FAWKNER</td>\n",
       "      <td>400000.0</td>\n",
       "      <td>h</td>\n",
       "      <td>22/05/2016</td>\n",
       "      <td>3</td>\n",
       "      <td>1.0</td>\n",
       "      <td>1.0</td>\n",
       "      <td>285.0</td>\n",
       "      <td>49.0</td>\n",
       "      <td>-37.71610</td>\n",
       "      <td>144.9662</td>\n",
       "      <td>19962</td>\n",
       "      <td>NaN</td>\n",
       "      <td>37</td>\n",
       "      <td>0</td>\n",
       "      <td>1144.33333</td>\n",
       "      <td>6845.666666667</td>\n",
       "      <td>375.666667</td>\n",
       "    </tr>\n",
       "  </tbody>\n",
       "</table>\n",
       "</div>"
      ],
      "text/plain": [
       "            ID           Address       Suburb     Price Type        Date  \\\n",
       "0  ID291519933      2/23 Foam St       ELWOOD  582500.0    u   8/10/2016   \n",
       "1  ID777648929   6/210 Domain Rd  SOUTH YARRA  832000.0    u  15/10/2016   \n",
       "2  ID436934525  52 Richardson St   THOMASTOWN  508000.0    h  15/07/2017   \n",
       "3  ID648123973      17 George St      NIDDRIE  875000.0    h  14/05/2016   \n",
       "4  ID303786399  1/11 Brockley Rd      FAWKNER  400000.0    h  22/05/2016   \n",
       "\n",
       "   Rooms  Bathroom  Car  Landsize   Age  Lattitude  Longtitude  \\\n",
       "0      2       1.0  1.0       0.0  49.0  -37.88500    144.9910   \n",
       "1      2       1.0  1.0       0.0  59.0  -37.83420    144.9842   \n",
       "2      3       2.0  1.0     189.0  29.0  -37.68159    145.0371   \n",
       "3      4       3.0  1.0     321.0  69.0  -37.74240    144.8851   \n",
       "4      3       1.0  1.0     285.0  49.0  -37.71610    144.9662   \n",
       "\n",
       "   train_station_id  distance_to_train_stat travel_min_to_CBD  over_priced?  \\\n",
       "0             19954                     NaN              21.5             0   \n",
       "1             19959                     NaN           12.5714             1   \n",
       "2             20007                     NaN           40.2222             0   \n",
       "3             20037                     NaN                24             0   \n",
       "4             19962                     NaN                37             0   \n",
       "\n",
       "  crime_A_average  crime_B_average crime_C_average  \n",
       "0      1566.66667   8895.333333333             491  \n",
       "1      1100.66667   3636.333333333      457.333333  \n",
       "2      502.666667   1662.666666667      118.666667  \n",
       "3              71    261.000000000              20  \n",
       "4      1144.33333   6845.666666667      375.666667  "
      ]
     },
     "execution_count": 370,
     "metadata": {},
     "output_type": "execute_result"
    }
   ],
   "source": [
    "data_df3.head()"
   ]
  },
  {
   "cell_type": "code",
   "execution_count": 371,
   "metadata": {},
   "outputs": [],
   "source": [
    "data_df3.to_csv(\"task4_solution.csv\", sep=',' ,index=False, encoding='utf-8')"
   ]
  },
  {
   "cell_type": "code",
   "execution_count": null,
   "metadata": {},
   "outputs": [],
   "source": []
  },
  {
   "cell_type": "markdown",
   "metadata": {},
   "source": [
    "# Task 2: Data Reshaping\n",
    "* see the distribution of each attribute in original data\n",
    "* Using original data fitting for linear model to see the perform of model\n",
    "* try normalization/transformation methods to fit model and compare the perfom with above \n",
    " * log\n",
    " * power\n",
    " * sqrt"
   ]
  },
  {
   "cell_type": "markdown",
   "metadata": {},
   "source": [
    "A transformation should not be chosen based on the r-square. It should be based on meeting the assumptions of the model. Since we consider general linear model in this assignment, we see the EDA of attributes and see the distribution to consider and then try normalization/transformation methods to fit model and see the model perfomance"
   ]
  },
  {
   "cell_type": "code",
   "execution_count": 214,
   "metadata": {},
   "outputs": [],
   "source": [
    "#extract needed attribute and label\n",
    "data_df4 = data_df3[['Rooms','crime_C_average','travel_min_to_CBD','Age','Price']]"
   ]
  },
  {
   "cell_type": "code",
   "execution_count": 122,
   "metadata": {},
   "outputs": [],
   "source": [
    "#drop nan value\n",
    "data_df4=data_df4.dropna(axis=0)"
   ]
  },
  {
   "cell_type": "markdown",
   "metadata": {},
   "source": [
    "## 1. see the distribution of price and each attribute"
   ]
  },
  {
   "cell_type": "code",
   "execution_count": 128,
   "metadata": {},
   "outputs": [
    {
     "data": {
      "text/html": [
       "<div>\n",
       "<style scoped>\n",
       "    .dataframe tbody tr th:only-of-type {\n",
       "        vertical-align: middle;\n",
       "    }\n",
       "\n",
       "    .dataframe tbody tr th {\n",
       "        vertical-align: top;\n",
       "    }\n",
       "\n",
       "    .dataframe thead th {\n",
       "        text-align: right;\n",
       "    }\n",
       "</style>\n",
       "<table border=\"1\" class=\"dataframe\">\n",
       "  <thead>\n",
       "    <tr style=\"text-align: right;\">\n",
       "      <th></th>\n",
       "      <th>Rooms</th>\n",
       "      <th>crime_C_average</th>\n",
       "      <th>travel_min_to_CBD</th>\n",
       "      <th>Age</th>\n",
       "      <th>Price</th>\n",
       "    </tr>\n",
       "  </thead>\n",
       "  <tbody>\n",
       "    <tr>\n",
       "      <th>0</th>\n",
       "      <td>2</td>\n",
       "      <td>491</td>\n",
       "      <td>21.5</td>\n",
       "      <td>49.0</td>\n",
       "      <td>582500.0</td>\n",
       "    </tr>\n",
       "    <tr>\n",
       "      <th>1</th>\n",
       "      <td>2</td>\n",
       "      <td>457.333333</td>\n",
       "      <td>12.5714</td>\n",
       "      <td>59.0</td>\n",
       "      <td>832000.0</td>\n",
       "    </tr>\n",
       "    <tr>\n",
       "      <th>2</th>\n",
       "      <td>3</td>\n",
       "      <td>118.666667</td>\n",
       "      <td>40.2222</td>\n",
       "      <td>29.0</td>\n",
       "      <td>508000.0</td>\n",
       "    </tr>\n",
       "    <tr>\n",
       "      <th>3</th>\n",
       "      <td>4</td>\n",
       "      <td>20</td>\n",
       "      <td>24</td>\n",
       "      <td>69.0</td>\n",
       "      <td>875000.0</td>\n",
       "    </tr>\n",
       "    <tr>\n",
       "      <th>4</th>\n",
       "      <td>3</td>\n",
       "      <td>375.666667</td>\n",
       "      <td>37</td>\n",
       "      <td>49.0</td>\n",
       "      <td>400000.0</td>\n",
       "    </tr>\n",
       "  </tbody>\n",
       "</table>\n",
       "</div>"
      ],
      "text/plain": [
       "   Rooms crime_C_average travel_min_to_CBD   Age     Price\n",
       "0      2             491              21.5  49.0  582500.0\n",
       "1      2      457.333333           12.5714  59.0  832000.0\n",
       "2      3      118.666667           40.2222  29.0  508000.0\n",
       "3      4              20                24  69.0  875000.0\n",
       "4      3      375.666667                37  49.0  400000.0"
      ]
     },
     "execution_count": 128,
     "metadata": {},
     "output_type": "execute_result"
    }
   ],
   "source": [
    "data_df4.head()"
   ]
  },
  {
   "cell_type": "markdown",
   "metadata": {},
   "source": [
    "### Price"
   ]
  },
  {
   "cell_type": "code",
   "execution_count": 124,
   "metadata": {},
   "outputs": [
    {
     "data": {
      "image/png": "[encoded data removed]",
      "text/plain": [
       "<Figure size 432x288 with 1 Axes>"
      ]
     },
     "metadata": {
      "needs_background": "light"
     },
     "output_type": "display_data"
    }
   ],
   "source": [
    "data_df4['Price'].plot.hist(grid=True,bins=80, rwidth=0.5)\n",
    "plt.title('Property price')\n",
    "plt.xlabel('price')\n",
    "plt.ylabel('Counts')\n",
    "plt.grid(axis='y', alpha=0.75)"
   ]
  },
  {
   "cell_type": "code",
   "execution_count": 125,
   "metadata": {},
   "outputs": [
    {
     "data": {
      "text/plain": [
       "count    7.200000000e+02\n",
       "mean     1.057967306e+06\n",
       "std      6.520779593e+05\n",
       "min      1.310000000e+05\n",
       "25%      6.400000000e+05\n",
       "50%      8.815000000e+05\n",
       "75%      1.325000000e+06\n",
       "max      7.650000000e+06\n",
       "Name: Price, dtype: float64"
      ]
     },
     "execution_count": 125,
     "metadata": {},
     "output_type": "execute_result"
    }
   ],
   "source": [
    "data_df3['Price'].describe()"
   ]
  },
  {
   "cell_type": "markdown",
   "metadata": {},
   "source": [
    "We can see that the distribution of label price is not a normal distributoin and most price of properties are between 500000 and  less than 2000000, but there are a few property, their price is very higher than most of properties. The max price is 7.650000000e+06 which is very higher than the mean(1.057967306e+06) and 75%(1.325000000e+06), the price is right-skewed."
   ]
  },
  {
   "cell_type": "code",
   "execution_count": null,
   "metadata": {},
   "outputs": [],
   "source": []
  },
  {
   "cell_type": "markdown",
   "metadata": {},
   "source": [
    "### Rooms"
   ]
  },
  {
   "cell_type": "code",
   "execution_count": 126,
   "metadata": {},
   "outputs": [
    {
     "data": {
      "image/png": "[encoded data removed]",
      "text/plain": [
       "<Figure size 432x288 with 1 Axes>"
      ]
     },
     "metadata": {
      "needs_background": "light"
     },
     "output_type": "display_data"
    }
   ],
   "source": [
    "data_df4['Rooms'].plot.hist(grid=True, bins=80, rwidth=0.5)\n",
    "plt.title('Property rooms of original Data')\n",
    "plt.xlabel('Rooms')\n",
    "plt.ylabel('Counts')\n",
    "plt.grid(axis='y', alpha=0.75)"
   ]
  },
  {
   "cell_type": "markdown",
   "metadata": {},
   "source": [
    "We can see that the most large number of rooms in a property is 3, the second number is 4 in one property.Then see the relationship between price and rooms"
   ]
  },
  {
   "cell_type": "code",
   "execution_count": 134,
   "metadata": {},
   "outputs": [
    {
     "data": {
      "text/plain": [
       "0.4761302778606963"
      ]
     },
     "execution_count": 134,
     "metadata": {},
     "output_type": "execute_result"
    }
   ],
   "source": [
    "#see the correlationship between price and rooms\n",
    "data_df4[\"Price\"].corr(data_df4['Rooms'])"
   ]
  },
  {
   "cell_type": "markdown",
   "metadata": {},
   "source": [
    "The correlation between price and rooms is less than 0.5, they don't have so much strong relationship,see in the plot"
   ]
  },
  {
   "cell_type": "code",
   "execution_count": 233,
   "metadata": {},
   "outputs": [
    {
     "data": {
      "text/plain": [
       "<matplotlib.collections.PathCollection at 0x1277eceb8>"
      ]
     },
     "execution_count": 233,
     "metadata": {},
     "output_type": "execute_result"
    },
    {
     "data": {
      "image/png": "[encoded data removed]",
      "text/plain": [
       "<Figure size 432x288 with 1 Axes>"
      ]
     },
     "metadata": {
      "needs_background": "light"
     },
     "output_type": "display_data"
    }
   ],
   "source": [
    "#see the relationship in plot\n",
    "plt.scatter(data_df4[\"Rooms\"], data_df4[\"Price\"])"
   ]
  },
  {
   "cell_type": "markdown",
   "metadata": {},
   "source": [
    "From the plot, we see that in the first half part, the Rooms and price looks like have positive linear relationship, but in the another half part, they seems have negative lineat relationship. Overall, the in original data, the Rooms and Price have non-linear relationship if we consider all Room numbers."
   ]
  },
  {
   "cell_type": "code",
   "execution_count": 137,
   "metadata": {},
   "outputs": [
    {
     "data": {
      "text/plain": [
       "numpy.int64"
      ]
     },
     "execution_count": 137,
     "metadata": {},
     "output_type": "execute_result"
    }
   ],
   "source": [
    "type(data_df4.loc[0,'Rooms'])"
   ]
  },
  {
   "cell_type": "code",
   "execution_count": null,
   "metadata": {},
   "outputs": [],
   "source": []
  },
  {
   "cell_type": "code",
   "execution_count": null,
   "metadata": {},
   "outputs": [],
   "source": []
  },
  {
   "cell_type": "markdown",
   "metadata": {},
   "source": [
    "### Crime_C_average"
   ]
  },
  {
   "cell_type": "code",
   "execution_count": 140,
   "metadata": {},
   "outputs": [
    {
     "data": {
      "image/png": "[encoded data removed]",
      "text/plain": [
       "<Figure size 432x288 with 1 Axes>"
      ]
     },
     "metadata": {
      "needs_background": "light"
     },
     "output_type": "display_data"
    }
   ],
   "source": [
    "data_df4['crime_C_average'].plot.hist(grid=True, bins=80, rwidth=0.5)\n",
    "plt.title('Crime_C_average of original Data')\n",
    "plt.xlabel('crime_C_average')\n",
    "plt.ylabel('Counts')\n",
    "plt.grid(axis='y', alpha=0.75)"
   ]
  },
  {
   "cell_type": "markdown",
   "metadata": {},
   "source": [
    "From the plot we can see that most of the count of average crimeC of each property is in range (0,750), and the highest count is over 50,the lowest avg_crime number is less than 10, the distribution is also not normal"
   ]
  },
  {
   "cell_type": "code",
   "execution_count": 139,
   "metadata": {},
   "outputs": [
    {
     "data": {
      "text/plain": [
       "0.14331615648056256"
      ]
     },
     "execution_count": 139,
     "metadata": {},
     "output_type": "execute_result"
    }
   ],
   "source": [
    "#see the relationship between price and other attribute\n",
    "data_df4[\"Price\"].corr(data_df4['crime_C_average'].astype(int))"
   ]
  },
  {
   "cell_type": "markdown",
   "metadata": {},
   "source": [
    "The correlationship between average crimeC count and price is really low, and lower than the Room' relationship with price, in this situation we have to consider the transformation or normalizaiton of crimeC to make sure their relationship"
   ]
  },
  {
   "cell_type": "code",
   "execution_count": 235,
   "metadata": {},
   "outputs": [
    {
     "data": {
      "text/plain": [
       "<matplotlib.collections.PathCollection at 0x128155be0>"
      ]
     },
     "execution_count": 235,
     "metadata": {},
     "output_type": "execute_result"
    },
    {
     "data": {
      "image/png": "[encoded data removed]",
      "text/plain": [
       "<Figure size 432x288 with 1 Axes>"
      ]
     },
     "metadata": {
      "needs_background": "light"
     },
     "output_type": "display_data"
    }
   ],
   "source": [
    "#see the relationship in plot\n",
    "plt.scatter(data_df4['crime_C_average'], data_df4[\"Price\"])"
   ]
  },
  {
   "cell_type": "markdown",
   "metadata": {},
   "source": [
    "In the plot,most points fall in the range of (0,1000), it seems that the count of crimeC and price they don't have linear relationship, we might guess they have classicification relation and consider logistic model but this is not what we should focus on in assignment"
   ]
  },
  {
   "cell_type": "code",
   "execution_count": null,
   "metadata": {},
   "outputs": [],
   "source": []
  },
  {
   "cell_type": "markdown",
   "metadata": {},
   "source": [
    "### travel_min"
   ]
  },
  {
   "cell_type": "code",
   "execution_count": 141,
   "metadata": {},
   "outputs": [
    {
     "data": {
      "image/png": "[encoded data removed]",
      "text/plain": [
       "<Figure size 432x288 with 1 Axes>"
      ]
     },
     "metadata": {
      "needs_background": "light"
     },
     "output_type": "display_data"
    }
   ],
   "source": [
    "data_df4['travel_min_to_CBD'].plot.hist(grid=True, bins=80, rwidth=0.5)\n",
    "plt.title('travel_min of original Data')\n",
    "plt.xlabel('travel_min')\n",
    "plt.ylabel('Counts')\n",
    "plt.grid(axis='y', alpha=0.75)"
   ]
  },
  {
   "cell_type": "markdown",
   "metadata": {},
   "source": [
    "In the travel time plot, the distribution seems like normal distribution except the count of middle part should be more higher, but we can see that the distribution of travel time is not left or right skewed much"
   ]
  },
  {
   "cell_type": "code",
   "execution_count": 142,
   "metadata": {},
   "outputs": [
    {
     "data": {
      "text/plain": [
       "-0.1634494624065293"
      ]
     },
     "execution_count": 142,
     "metadata": {},
     "output_type": "execute_result"
    }
   ],
   "source": [
    "#see the correlation between travel and price\n",
    "data_df4[\"Price\"].corr(data_df4['travel_min_to_CBD'].astype(int))"
   ]
  },
  {
   "cell_type": "markdown",
   "metadata": {},
   "source": [
    "The correlation : -0.16 shows that price and travel time, they have negative relationship but it seems like average CrimeC, their relationship are not strong"
   ]
  },
  {
   "cell_type": "code",
   "execution_count": 237,
   "metadata": {},
   "outputs": [
    {
     "data": {
      "text/plain": [
       "<matplotlib.collections.PathCollection at 0x1260db198>"
      ]
     },
     "execution_count": 237,
     "metadata": {},
     "output_type": "execute_result"
    },
    {
     "data": {
      "image/png": "[encoded data removed]",
      "text/plain": [
       "<Figure size 432x288 with 1 Axes>"
      ]
     },
     "metadata": {
      "needs_background": "light"
     },
     "output_type": "display_data"
    }
   ],
   "source": [
    "#see the relationship in plot\n",
    "plt.scatter(data_df4['travel_min_to_CBD'], data_df4[\"Price\"])"
   ]
  },
  {
   "cell_type": "markdown",
   "metadata": {},
   "source": [
    "From the plot, we still cannot see they have linear relation, and most points fall at 10-40"
   ]
  },
  {
   "cell_type": "code",
   "execution_count": null,
   "metadata": {},
   "outputs": [],
   "source": []
  },
  {
   "cell_type": "markdown",
   "metadata": {},
   "source": [
    "### property_age"
   ]
  },
  {
   "cell_type": "code",
   "execution_count": 239,
   "metadata": {},
   "outputs": [
    {
     "data": {
      "image/png": "[encoded data removed]",
      "text/plain": [
       "<Figure size 432x288 with 1 Axes>"
      ]
     },
     "metadata": {
      "needs_background": "light"
     },
     "output_type": "display_data"
    }
   ],
   "source": [
    "data_df4['Age'].plot.hist(grid=True, bins=80, rwidth=0.5)\n",
    "plt.title('Property age of original Data')\n",
    "plt.xlabel('Property age')\n",
    "plt.ylabel('Age')\n",
    "plt.grid(axis='y', alpha=0.75)"
   ]
  },
  {
   "cell_type": "markdown",
   "metadata": {},
   "source": [
    "In the property age plot, we can see that most properties age are similar, there is not much difference between properties except property's age is 45 and 60 , which means that most of the properties was built in 45 or 60 years ago."
   ]
  },
  {
   "cell_type": "code",
   "execution_count": 144,
   "metadata": {},
   "outputs": [
    {
     "data": {
      "text/plain": [
       "0.2660081951280069"
      ]
     },
     "execution_count": 144,
     "metadata": {},
     "output_type": "execute_result"
    }
   ],
   "source": [
    "#see the correlation between travel and price\n",
    "data_df4[\"Price\"].corr(data_df4['Age'])"
   ]
  },
  {
   "cell_type": "markdown",
   "metadata": {},
   "source": [
    "0.267 means that the age and price have positive relationship, but their relation is also not stonger as rooms"
   ]
  },
  {
   "cell_type": "code",
   "execution_count": 238,
   "metadata": {},
   "outputs": [
    {
     "data": {
      "text/plain": [
       "<matplotlib.collections.PathCollection at 0x126edf128>"
      ]
     },
     "execution_count": 238,
     "metadata": {},
     "output_type": "execute_result"
    },
    {
     "data": {
      "image/png": "[encoded data removed]",
      "text/plain": [
       "<Figure size 432x288 with 1 Axes>"
      ]
     },
     "metadata": {
      "needs_background": "light"
     },
     "output_type": "display_data"
    }
   ],
   "source": [
    "#see the relationship in plot\n",
    "plt.scatter(data_df4['Age'], data_df4[\"Price\"])"
   ]
  },
  {
   "cell_type": "markdown",
   "metadata": {},
   "source": [
    "From the plot, we can see that the relation between price and age is nonlinear and it seems like logistic relation if we don't consider the three higher points in 120,140 and 160 are outlier."
   ]
  },
  {
   "cell_type": "code",
   "execution_count": null,
   "metadata": {},
   "outputs": [],
   "source": []
  },
  {
   "cell_type": "markdown",
   "metadata": {},
   "source": [
    "## 2.Original data fitting for linear model"
   ]
  },
  {
   "cell_type": "markdown",
   "metadata": {},
   "source": [
    "Try the original data to build model and see the perfomce of model"
   ]
  },
  {
   "cell_type": "code",
   "execution_count": 345,
   "metadata": {},
   "outputs": [],
   "source": [
    "#Coding of discrete features\n",
    "df_original = pd.get_dummies(data_df4)"
   ]
  },
  {
   "cell_type": "code",
   "execution_count": 346,
   "metadata": {},
   "outputs": [],
   "source": [
    "#cross validation, split dataset to train and test model\n",
    "X_train, X_test, y_train, y_test = train_test_split(df_original[[x for x in df_original.columns if x in ['Rooms','crime_C_average','travel_min_to_CBD','Age']]],df_original.loc[:,'Price'],random_state=133)\n"
   ]
  },
  {
   "cell_type": "code",
   "execution_count": 347,
   "metadata": {},
   "outputs": [],
   "source": [
    "#build linear model\n",
    "lm_original =  LinearRegression()"
   ]
  },
  {
   "cell_type": "code",
   "execution_count": 348,
   "metadata": {},
   "outputs": [
    {
     "name": "stdout",
     "output_type": "stream",
     "text": [
      "r-squared for this model =  0.3067985355193844\n"
     ]
    }
   ],
   "source": [
    "#train model and test model\n",
    "lm_original.fit(X_train,y_train)\n",
    "print('r-squared for this model = ',lm_original.score(X_test,y_test))"
   ]
  },
  {
   "cell_type": "markdown",
   "metadata": {},
   "source": [
    "#### We know that R-squared reflects the performce of model, the higher the model better. But according to the R-squard of this model ( 0.3068 ), the perform of this model is not good when we do not do any normalization/transformation"
   ]
  },
  {
   "cell_type": "code",
   "execution_count": null,
   "metadata": {},
   "outputs": [],
   "source": []
  },
  {
   "cell_type": "markdown",
   "metadata": {},
   "source": [
    "## 3.try normalization/transformation methods \n",
    "We can see that the distribution of attributes in the plot are not normal and skewed, so we consider to try this three method to deal with data and see the model performance\n",
    "* Log\n",
    "* Power\n",
    "* sqrt"
   ]
  },
  {
   "cell_type": "markdown",
   "metadata": {},
   "source": [
    "### 3.1Log transformation calculate r-square value\n",
    "The common approach to evaluating a funky looking distribution could be to take the log of it just to see if it looks more normal, since the distribution of crimeC and age are not looks like normal, we try log firstly\n",
    "* log transformation for each attribute, see distribution in plot\n",
    "* build model and price as label"
   ]
  },
  {
   "cell_type": "markdown",
   "metadata": {},
   "source": [
    "#### Rooms"
   ]
  },
  {
   "cell_type": "code",
   "execution_count": 215,
   "metadata": {},
   "outputs": [
    {
     "name": "stderr",
     "output_type": "stream",
     "text": [
      "/Users/bolinyang/anaconda3/lib/python3.7/site-packages/ipykernel_launcher.py:2: SettingWithCopyWarning: \n",
      "A value is trying to be set on a copy of a slice from a DataFrame.\n",
      "Try using .loc[row_indexer,col_indexer] = value instead\n",
      "\n",
      "See the caveats in the documentation: http://pandas.pydata.org/pandas-docs/stable/indexing.html#indexing-view-versus-copy\n",
      "  \n"
     ]
    },
    {
     "data": {
      "text/html": [
       "<div>\n",
       "<style scoped>\n",
       "    .dataframe tbody tr th:only-of-type {\n",
       "        vertical-align: middle;\n",
       "    }\n",
       "\n",
       "    .dataframe tbody tr th {\n",
       "        vertical-align: top;\n",
       "    }\n",
       "\n",
       "    .dataframe thead th {\n",
       "        text-align: right;\n",
       "    }\n",
       "</style>\n",
       "<table border=\"1\" class=\"dataframe\">\n",
       "  <thead>\n",
       "    <tr style=\"text-align: right;\">\n",
       "      <th></th>\n",
       "      <th>Rooms</th>\n",
       "      <th>crime_C_average</th>\n",
       "      <th>travel_min_to_CBD</th>\n",
       "      <th>Age</th>\n",
       "      <th>Price</th>\n",
       "      <th>lroom</th>\n",
       "    </tr>\n",
       "  </thead>\n",
       "  <tbody>\n",
       "    <tr>\n",
       "      <th>0</th>\n",
       "      <td>2</td>\n",
       "      <td>491</td>\n",
       "      <td>21.5</td>\n",
       "      <td>49.0</td>\n",
       "      <td>582500.0</td>\n",
       "      <td>0.693147181</td>\n",
       "    </tr>\n",
       "    <tr>\n",
       "      <th>1</th>\n",
       "      <td>2</td>\n",
       "      <td>457.333333</td>\n",
       "      <td>12.5714</td>\n",
       "      <td>59.0</td>\n",
       "      <td>832000.0</td>\n",
       "      <td>0.693147181</td>\n",
       "    </tr>\n",
       "    <tr>\n",
       "      <th>2</th>\n",
       "      <td>3</td>\n",
       "      <td>118.666667</td>\n",
       "      <td>40.2222</td>\n",
       "      <td>29.0</td>\n",
       "      <td>508000.0</td>\n",
       "      <td>1.09861229</td>\n",
       "    </tr>\n",
       "    <tr>\n",
       "      <th>3</th>\n",
       "      <td>4</td>\n",
       "      <td>20</td>\n",
       "      <td>24</td>\n",
       "      <td>69.0</td>\n",
       "      <td>875000.0</td>\n",
       "      <td>1.38629436</td>\n",
       "    </tr>\n",
       "    <tr>\n",
       "      <th>4</th>\n",
       "      <td>3</td>\n",
       "      <td>375.666667</td>\n",
       "      <td>37</td>\n",
       "      <td>49.0</td>\n",
       "      <td>400000.0</td>\n",
       "      <td>1.09861229</td>\n",
       "    </tr>\n",
       "  </tbody>\n",
       "</table>\n",
       "</div>"
      ],
      "text/plain": [
       "   Rooms crime_C_average travel_min_to_CBD   Age     Price        lroom\n",
       "0      2             491              21.5  49.0  582500.0  0.693147181\n",
       "1      2      457.333333           12.5714  59.0  832000.0  0.693147181\n",
       "2      3      118.666667           40.2222  29.0  508000.0   1.09861229\n",
       "3      4              20                24  69.0  875000.0   1.38629436\n",
       "4      3      375.666667                37  49.0  400000.0   1.09861229"
      ]
     },
     "execution_count": 215,
     "metadata": {},
     "output_type": "execute_result"
    }
   ],
   "source": [
    "#log room\n",
    "data_df4['lroom'] = None\n",
    "i = 0\n",
    "for row in data_df4.iterrows():\n",
    "    data_df4['lroom'].at[i] = math.log(data_df4[\"Rooms\"][i])\n",
    "    i += 1\n",
    "\n",
    "data_df4.head()"
   ]
  },
  {
   "cell_type": "code",
   "execution_count": 232,
   "metadata": {},
   "outputs": [
    {
     "data": {
      "text/plain": [
       "<matplotlib.collections.PathCollection at 0x125358320>"
      ]
     },
     "execution_count": 232,
     "metadata": {},
     "output_type": "execute_result"
    },
    {
     "data": {
      "image/png": "[encoded data removed]",
      "text/plain": [
       "<Figure size 432x288 with 1 Axes>"
      ]
     },
     "metadata": {
      "needs_background": "light"
     },
     "output_type": "display_data"
    }
   ],
   "source": [
    "#see the relationship in plot\n",
    "plt.scatter(data_df4[\"lroom\"], data_df4[\"Price\"])"
   ]
  },
  {
   "cell_type": "markdown",
   "metadata": {},
   "source": [
    "It seems that the result looks better, but after 15 ,the relation change from positive to negative the increasing trend turn to descrising ."
   ]
  },
  {
   "cell_type": "markdown",
   "metadata": {},
   "source": [
    "#### Property's Age"
   ]
  },
  {
   "cell_type": "code",
   "execution_count": 216,
   "metadata": {},
   "outputs": [
    {
     "name": "stderr",
     "output_type": "stream",
     "text": [
      "/Users/bolinyang/anaconda3/lib/python3.7/site-packages/ipykernel_launcher.py:2: SettingWithCopyWarning: \n",
      "A value is trying to be set on a copy of a slice from a DataFrame.\n",
      "Try using .loc[row_indexer,col_indexer] = value instead\n",
      "\n",
      "See the caveats in the documentation: http://pandas.pydata.org/pandas-docs/stable/indexing.html#indexing-view-versus-copy\n",
      "  \n"
     ]
    },
    {
     "data": {
      "text/html": [
       "<div>\n",
       "<style scoped>\n",
       "    .dataframe tbody tr th:only-of-type {\n",
       "        vertical-align: middle;\n",
       "    }\n",
       "\n",
       "    .dataframe tbody tr th {\n",
       "        vertical-align: top;\n",
       "    }\n",
       "\n",
       "    .dataframe thead th {\n",
       "        text-align: right;\n",
       "    }\n",
       "</style>\n",
       "<table border=\"1\" class=\"dataframe\">\n",
       "  <thead>\n",
       "    <tr style=\"text-align: right;\">\n",
       "      <th></th>\n",
       "      <th>Rooms</th>\n",
       "      <th>crime_C_average</th>\n",
       "      <th>travel_min_to_CBD</th>\n",
       "      <th>Age</th>\n",
       "      <th>Price</th>\n",
       "      <th>lroom</th>\n",
       "      <th>LAge</th>\n",
       "    </tr>\n",
       "  </thead>\n",
       "  <tbody>\n",
       "    <tr>\n",
       "      <th>0</th>\n",
       "      <td>2</td>\n",
       "      <td>491</td>\n",
       "      <td>21.5</td>\n",
       "      <td>49.0</td>\n",
       "      <td>582500.0</td>\n",
       "      <td>0.693147181</td>\n",
       "      <td>3.8918203</td>\n",
       "    </tr>\n",
       "    <tr>\n",
       "      <th>1</th>\n",
       "      <td>2</td>\n",
       "      <td>457.333333</td>\n",
       "      <td>12.5714</td>\n",
       "      <td>59.0</td>\n",
       "      <td>832000.0</td>\n",
       "      <td>0.693147181</td>\n",
       "      <td>4.07753744</td>\n",
       "    </tr>\n",
       "    <tr>\n",
       "      <th>2</th>\n",
       "      <td>3</td>\n",
       "      <td>118.666667</td>\n",
       "      <td>40.2222</td>\n",
       "      <td>29.0</td>\n",
       "      <td>508000.0</td>\n",
       "      <td>1.09861229</td>\n",
       "      <td>3.36729583</td>\n",
       "    </tr>\n",
       "    <tr>\n",
       "      <th>3</th>\n",
       "      <td>4</td>\n",
       "      <td>20</td>\n",
       "      <td>24</td>\n",
       "      <td>69.0</td>\n",
       "      <td>875000.0</td>\n",
       "      <td>1.38629436</td>\n",
       "      <td>4.2341065</td>\n",
       "    </tr>\n",
       "    <tr>\n",
       "      <th>4</th>\n",
       "      <td>3</td>\n",
       "      <td>375.666667</td>\n",
       "      <td>37</td>\n",
       "      <td>49.0</td>\n",
       "      <td>400000.0</td>\n",
       "      <td>1.09861229</td>\n",
       "      <td>3.8918203</td>\n",
       "    </tr>\n",
       "  </tbody>\n",
       "</table>\n",
       "</div>"
      ],
      "text/plain": [
       "   Rooms crime_C_average travel_min_to_CBD   Age     Price        lroom  \\\n",
       "0      2             491              21.5  49.0  582500.0  0.693147181   \n",
       "1      2      457.333333           12.5714  59.0  832000.0  0.693147181   \n",
       "2      3      118.666667           40.2222  29.0  508000.0   1.09861229   \n",
       "3      4              20                24  69.0  875000.0   1.38629436   \n",
       "4      3      375.666667                37  49.0  400000.0   1.09861229   \n",
       "\n",
       "         LAge  \n",
       "0   3.8918203  \n",
       "1  4.07753744  \n",
       "2  3.36729583  \n",
       "3   4.2341065  \n",
       "4   3.8918203  "
      ]
     },
     "execution_count": 216,
     "metadata": {},
     "output_type": "execute_result"
    }
   ],
   "source": [
    "#log age\n",
    "data_df4['LAge'] = None\n",
    "i = 0\n",
    "for row in data_df4.iterrows():\n",
    "    data_df4['LAge'].at[i] = math.log(data_df4[\"Age\"][i])\n",
    "    i += 1\n",
    "\n",
    "data_df4.head()"
   ]
  },
  {
   "cell_type": "code",
   "execution_count": 231,
   "metadata": {},
   "outputs": [
    {
     "data": {
      "text/plain": [
       "<matplotlib.collections.PathCollection at 0x12604bef0>"
      ]
     },
     "execution_count": 231,
     "metadata": {},
     "output_type": "execute_result"
    },
    {
     "data": {
      "image/png": "[encoded data removed]",
      "text/plain": [
       "<Figure size 432x288 with 1 Axes>"
      ]
     },
     "metadata": {
      "needs_background": "light"
     },
     "output_type": "display_data"
    }
   ],
   "source": [
    "#see the relationship in plot\n",
    "plt.scatter(data_df4[\"LAge\"], data_df4[\"Price\"])"
   ]
  },
  {
   "cell_type": "markdown",
   "metadata": {},
   "source": [
    "In the property's age, they still don't have clearly linear relation except only the last samall part"
   ]
  },
  {
   "cell_type": "markdown",
   "metadata": {},
   "source": [
    "#### Crime C"
   ]
  },
  {
   "cell_type": "code",
   "execution_count": 217,
   "metadata": {},
   "outputs": [
    {
     "name": "stderr",
     "output_type": "stream",
     "text": [
      "/Users/bolinyang/anaconda3/lib/python3.7/site-packages/ipykernel_launcher.py:2: SettingWithCopyWarning: \n",
      "A value is trying to be set on a copy of a slice from a DataFrame.\n",
      "Try using .loc[row_indexer,col_indexer] = value instead\n",
      "\n",
      "See the caveats in the documentation: http://pandas.pydata.org/pandas-docs/stable/indexing.html#indexing-view-versus-copy\n",
      "  \n"
     ]
    },
    {
     "data": {
      "text/html": [
       "<div>\n",
       "<style scoped>\n",
       "    .dataframe tbody tr th:only-of-type {\n",
       "        vertical-align: middle;\n",
       "    }\n",
       "\n",
       "    .dataframe tbody tr th {\n",
       "        vertical-align: top;\n",
       "    }\n",
       "\n",
       "    .dataframe thead th {\n",
       "        text-align: right;\n",
       "    }\n",
       "</style>\n",
       "<table border=\"1\" class=\"dataframe\">\n",
       "  <thead>\n",
       "    <tr style=\"text-align: right;\">\n",
       "      <th></th>\n",
       "      <th>Rooms</th>\n",
       "      <th>crime_C_average</th>\n",
       "      <th>travel_min_to_CBD</th>\n",
       "      <th>Age</th>\n",
       "      <th>Price</th>\n",
       "      <th>lroom</th>\n",
       "      <th>LAge</th>\n",
       "      <th>lcrime_C_average</th>\n",
       "    </tr>\n",
       "  </thead>\n",
       "  <tbody>\n",
       "    <tr>\n",
       "      <th>0</th>\n",
       "      <td>2</td>\n",
       "      <td>491</td>\n",
       "      <td>21.5</td>\n",
       "      <td>49.0</td>\n",
       "      <td>582500.0</td>\n",
       "      <td>0.693147181</td>\n",
       "      <td>3.8918203</td>\n",
       "      <td>6.19644413</td>\n",
       "    </tr>\n",
       "    <tr>\n",
       "      <th>1</th>\n",
       "      <td>2</td>\n",
       "      <td>457.333333</td>\n",
       "      <td>12.5714</td>\n",
       "      <td>59.0</td>\n",
       "      <td>832000.0</td>\n",
       "      <td>0.693147181</td>\n",
       "      <td>4.07753744</td>\n",
       "      <td>6.12541252</td>\n",
       "    </tr>\n",
       "    <tr>\n",
       "      <th>2</th>\n",
       "      <td>3</td>\n",
       "      <td>118.666667</td>\n",
       "      <td>40.2222</td>\n",
       "      <td>29.0</td>\n",
       "      <td>508000.0</td>\n",
       "      <td>1.09861229</td>\n",
       "      <td>3.36729583</td>\n",
       "      <td>4.77631844</td>\n",
       "    </tr>\n",
       "    <tr>\n",
       "      <th>3</th>\n",
       "      <td>4</td>\n",
       "      <td>20</td>\n",
       "      <td>24</td>\n",
       "      <td>69.0</td>\n",
       "      <td>875000.0</td>\n",
       "      <td>1.38629436</td>\n",
       "      <td>4.2341065</td>\n",
       "      <td>2.99573227</td>\n",
       "    </tr>\n",
       "    <tr>\n",
       "      <th>4</th>\n",
       "      <td>3</td>\n",
       "      <td>375.666667</td>\n",
       "      <td>37</td>\n",
       "      <td>49.0</td>\n",
       "      <td>400000.0</td>\n",
       "      <td>1.09861229</td>\n",
       "      <td>3.8918203</td>\n",
       "      <td>5.92870223</td>\n",
       "    </tr>\n",
       "  </tbody>\n",
       "</table>\n",
       "</div>"
      ],
      "text/plain": [
       "   Rooms crime_C_average travel_min_to_CBD   Age     Price        lroom  \\\n",
       "0      2             491              21.5  49.0  582500.0  0.693147181   \n",
       "1      2      457.333333           12.5714  59.0  832000.0  0.693147181   \n",
       "2      3      118.666667           40.2222  29.0  508000.0   1.09861229   \n",
       "3      4              20                24  69.0  875000.0   1.38629436   \n",
       "4      3      375.666667                37  49.0  400000.0   1.09861229   \n",
       "\n",
       "         LAge lcrime_C_average  \n",
       "0   3.8918203       6.19644413  \n",
       "1  4.07753744       6.12541252  \n",
       "2  3.36729583       4.77631844  \n",
       "3   4.2341065       2.99573227  \n",
       "4   3.8918203       5.92870223  "
      ]
     },
     "execution_count": 217,
     "metadata": {},
     "output_type": "execute_result"
    }
   ],
   "source": [
    "#log crimeC\n",
    "data_df4['lcrime_C_average'] = None\n",
    "i = 0\n",
    "for row in data_df4.iterrows():\n",
    "    data_df4['lcrime_C_average'].at[i] = math.log(data_df4[\"crime_C_average\"][i])\n",
    "    i += 1\n",
    "\n",
    "data_df4.head()"
   ]
  },
  {
   "cell_type": "code",
   "execution_count": 230,
   "metadata": {},
   "outputs": [
    {
     "data": {
      "text/plain": [
       "<matplotlib.collections.PathCollection at 0x129670470>"
      ]
     },
     "execution_count": 230,
     "metadata": {},
     "output_type": "execute_result"
    },
    {
     "data": {
      "image/png": "[encoded data removed]",
      "text/plain": [
       "<Figure size 432x288 with 1 Axes>"
      ]
     },
     "metadata": {
      "needs_background": "light"
     },
     "output_type": "display_data"
    }
   ],
   "source": [
    "#see the relationship in plot\n",
    "plt.scatter(data_df4[\"lcrime_C_average\"], data_df4[\"Price\"])"
   ]
  },
  {
   "cell_type": "markdown",
   "metadata": {},
   "source": [
    "It seems that the average CrimeC count have positive relation with price when we do transformation for crimeC, they have positive trend in the plot but in last one part of points the value decrease "
   ]
  },
  {
   "cell_type": "markdown",
   "metadata": {},
   "source": [
    "#### Travel time"
   ]
  },
  {
   "cell_type": "code",
   "execution_count": 228,
   "metadata": {},
   "outputs": [],
   "source": [
    "#travel_min_to_CBD\n",
    "data_df4['log_travel_min_to_CBD'] = np.log10(data_df4['travel_min_to_CBD'].astype(int))"
   ]
  },
  {
   "cell_type": "code",
   "execution_count": 284,
   "metadata": {},
   "outputs": [
    {
     "data": {
      "text/plain": [
       "<matplotlib.collections.PathCollection at 0x12715d8d0>"
      ]
     },
     "execution_count": 284,
     "metadata": {},
     "output_type": "execute_result"
    },
    {
     "data": {
      "image/png": "[encoded data removed]",
      "text/plain": [
       "<Figure size 432x288 with 1 Axes>"
      ]
     },
     "metadata": {
      "needs_background": "light"
     },
     "output_type": "display_data"
    }
   ],
   "source": [
    "plt.scatter(data_df4[\"log_travel_min_to_CBD\"], data_df4[\"Price\"])"
   ]
  },
  {
   "cell_type": "markdown",
   "metadata": {},
   "source": [
    "After log the travel time value, we still cannot see that they have linear relation from the plot"
   ]
  },
  {
   "cell_type": "markdown",
   "metadata": {},
   "source": [
    "#### Build model"
   ]
  },
  {
   "cell_type": "code",
   "execution_count": 262,
   "metadata": {},
   "outputs": [
    {
     "data": {
      "text/html": [
       "<div>\n",
       "<style scoped>\n",
       "    .dataframe tbody tr th:only-of-type {\n",
       "        vertical-align: middle;\n",
       "    }\n",
       "\n",
       "    .dataframe tbody tr th {\n",
       "        vertical-align: top;\n",
       "    }\n",
       "\n",
       "    .dataframe thead th {\n",
       "        text-align: right;\n",
       "    }\n",
       "</style>\n",
       "<table border=\"1\" class=\"dataframe\">\n",
       "  <thead>\n",
       "    <tr style=\"text-align: right;\">\n",
       "      <th></th>\n",
       "      <th>Rooms</th>\n",
       "      <th>crime_C_average</th>\n",
       "      <th>travel_min_to_CBD</th>\n",
       "      <th>Age</th>\n",
       "      <th>Price</th>\n",
       "      <th>lroom</th>\n",
       "      <th>LAge</th>\n",
       "      <th>lcrime_C_average</th>\n",
       "      <th>ltravel_min_to_CBD</th>\n",
       "      <th>log_travel_min_to_CBD</th>\n",
       "    </tr>\n",
       "  </thead>\n",
       "  <tbody>\n",
       "    <tr>\n",
       "      <th>0</th>\n",
       "      <td>2</td>\n",
       "      <td>491</td>\n",
       "      <td>21.5</td>\n",
       "      <td>49.0</td>\n",
       "      <td>582500.0</td>\n",
       "      <td>0.693147181</td>\n",
       "      <td>3.8918203</td>\n",
       "      <td>6.19644413</td>\n",
       "      <td>3.06805294</td>\n",
       "      <td>1.322219295</td>\n",
       "    </tr>\n",
       "    <tr>\n",
       "      <th>1</th>\n",
       "      <td>2</td>\n",
       "      <td>457.333333</td>\n",
       "      <td>12.5714</td>\n",
       "      <td>59.0</td>\n",
       "      <td>832000.0</td>\n",
       "      <td>0.693147181</td>\n",
       "      <td>4.07753744</td>\n",
       "      <td>6.12541252</td>\n",
       "      <td>2.53142439</td>\n",
       "      <td>1.079181246</td>\n",
       "    </tr>\n",
       "    <tr>\n",
       "      <th>2</th>\n",
       "      <td>3</td>\n",
       "      <td>118.666667</td>\n",
       "      <td>40.2222</td>\n",
       "      <td>29.0</td>\n",
       "      <td>508000.0</td>\n",
       "      <td>1.09861229</td>\n",
       "      <td>3.36729583</td>\n",
       "      <td>4.77631844</td>\n",
       "      <td>3.69441908</td>\n",
       "      <td>1.602059991</td>\n",
       "    </tr>\n",
       "    <tr>\n",
       "      <th>3</th>\n",
       "      <td>4</td>\n",
       "      <td>20</td>\n",
       "      <td>24</td>\n",
       "      <td>69.0</td>\n",
       "      <td>875000.0</td>\n",
       "      <td>1.38629436</td>\n",
       "      <td>4.2341065</td>\n",
       "      <td>2.99573227</td>\n",
       "      <td>3.17805383</td>\n",
       "      <td>1.380211242</td>\n",
       "    </tr>\n",
       "    <tr>\n",
       "      <th>4</th>\n",
       "      <td>3</td>\n",
       "      <td>375.666667</td>\n",
       "      <td>37</td>\n",
       "      <td>49.0</td>\n",
       "      <td>400000.0</td>\n",
       "      <td>1.09861229</td>\n",
       "      <td>3.8918203</td>\n",
       "      <td>5.92870223</td>\n",
       "      <td>3.61091791</td>\n",
       "      <td>1.568201724</td>\n",
       "    </tr>\n",
       "  </tbody>\n",
       "</table>\n",
       "</div>"
      ],
      "text/plain": [
       "   Rooms crime_C_average travel_min_to_CBD   Age     Price        lroom  \\\n",
       "0      2             491              21.5  49.0  582500.0  0.693147181   \n",
       "1      2      457.333333           12.5714  59.0  832000.0  0.693147181   \n",
       "2      3      118.666667           40.2222  29.0  508000.0   1.09861229   \n",
       "3      4              20                24  69.0  875000.0   1.38629436   \n",
       "4      3      375.666667                37  49.0  400000.0   1.09861229   \n",
       "\n",
       "         LAge lcrime_C_average ltravel_min_to_CBD  log_travel_min_to_CBD  \n",
       "0   3.8918203       6.19644413         3.06805294            1.322219295  \n",
       "1  4.07753744       6.12541252         2.53142439            1.079181246  \n",
       "2  3.36729583       4.77631844         3.69441908            1.602059991  \n",
       "3   4.2341065       2.99573227         3.17805383            1.380211242  \n",
       "4   3.8918203       5.92870223         3.61091791            1.568201724  "
      ]
     },
     "execution_count": 262,
     "metadata": {},
     "output_type": "execute_result"
    }
   ],
   "source": [
    "df_log.head()"
   ]
  },
  {
   "cell_type": "code",
   "execution_count": 276,
   "metadata": {},
   "outputs": [],
   "source": [
    "df_log=data_df4"
   ]
  },
  {
   "cell_type": "code",
   "execution_count": 301,
   "metadata": {},
   "outputs": [],
   "source": [
    "#cross validation, split dataset to train and test model\n",
    "X_train_log, X_test_log, y_train_log, y_test_log = train_test_split(df_log[[\"lroom\",\"lcrime_C_average\",'travel_min_to_CBD',\"LAge\"]],df_log['Price'],random_state=11)\n"
   ]
  },
  {
   "cell_type": "code",
   "execution_count": 302,
   "metadata": {},
   "outputs": [],
   "source": [
    "#build linear model\n",
    "lm_log =  LinearRegression()"
   ]
  },
  {
   "cell_type": "code",
   "execution_count": 330,
   "metadata": {},
   "outputs": [
    {
     "name": "stdout",
     "output_type": "stream",
     "text": [
      "r-squared for this model =  0.2729572498292443\n",
      "mse for this model =  453147334409.50903\n"
     ]
    }
   ],
   "source": [
    "#train model and test model\n",
    "lm_log.fit(X_train_log,y_train_log)\n",
    "print ('r-squared for this model = ',lm_log.score(X_test_log,y_test_log))"
   ]
  },
  {
   "cell_type": "markdown",
   "metadata": {},
   "source": [
    "We can see that the performance of this model is not good even worse than original data model, actually we can see that there is not much difference of each attribute between orginal and log plot after log the attribute"
   ]
  },
  {
   "cell_type": "code",
   "execution_count": 329,
   "metadata": {},
   "outputs": [],
   "source": []
  },
  {
   "cell_type": "markdown",
   "metadata": {},
   "source": [
    "### 3.2 Power transformation calculate r-square value\n",
    "The most common approach to evaluating skewed distribution could be to take the power or sqrt of attributes, we try them and compare the result\n",
    "* taking power for each attribute, see distribution in plot\n",
    "* build model and price as label"
   ]
  },
  {
   "cell_type": "code",
   "execution_count": 311,
   "metadata": {},
   "outputs": [],
   "source": [
    "data_pow = data_df4.copy()"
   ]
  },
  {
   "cell_type": "code",
   "execution_count": 312,
   "metadata": {},
   "outputs": [],
   "source": [
    "data_pow['proom'] = data_pow['Rooms'].apply(lambda x: x*x)\n",
    "data_pow['ptravel'] = data_pow['travel_min_to_CBD'].apply(lambda x: x*x)\n",
    "data_pow['pcime'] = data_pow['crime_C_average'].apply(lambda x: x*x)\n",
    "data_pow['page'] = data_pow['Age'].apply(lambda x: x*x)"
   ]
  },
  {
   "cell_type": "code",
   "execution_count": 332,
   "metadata": {},
   "outputs": [],
   "source": [
    "#cross validation, split dataset to train and test model\n",
    "X_train_p, X_test_p, y_train_p, y_test_p = train_test_split(data_pow[[\"proom\",\"pcime\",'ptravel',\"page\"]],data_pow['Price'],random_state=11)\n"
   ]
  },
  {
   "cell_type": "code",
   "execution_count": 333,
   "metadata": {},
   "outputs": [],
   "source": [
    "#build linear model\n",
    "lm_pow =  LinearRegression()"
   ]
  },
  {
   "cell_type": "code",
   "execution_count": 337,
   "metadata": {},
   "outputs": [
    {
     "name": "stdout",
     "output_type": "stream",
     "text": [
      "r-squared for this model =  0.32326221790583587\n"
     ]
    }
   ],
   "source": [
    "#train model and test model\n",
    "lm_pow.fit(X_train_p,y_train_p)\n",
    "print ('r-squared for this model = ',lm_pow.score(X_test_p,y_test_p))"
   ]
  },
  {
   "cell_type": "markdown",
   "metadata": {},
   "source": [
    "We can see that the performance of powering for linear model is better than log and original"
   ]
  },
  {
   "cell_type": "markdown",
   "metadata": {},
   "source": [
    "### 3.3 Root transformation calculate r-square value\n",
    "The another most common approach to evaluating skewed distribution could be to take the sqrt of attributes, we try and compare the result\n",
    "* sqrt transformation for each attribute, see distribution in plot\n",
    "* build model and price as label"
   ]
  },
  {
   "cell_type": "code",
   "execution_count": 326,
   "metadata": {},
   "outputs": [],
   "source": [
    "data_sqrt = data_df4.copy()"
   ]
  },
  {
   "cell_type": "code",
   "execution_count": 316,
   "metadata": {},
   "outputs": [],
   "source": [
    "#take sqrt of attribute\n",
    "data_sqrt['rroom'] = data_sqrt['Rooms'].apply(math.sqrt)\n",
    "data_sqrt['rtravel'] = data_sqrt['travel_min_to_CBD'].apply(math.sqrt)\n",
    "data_sqrt['rcime'] = data_sqrt['crime_C_average'].apply(math.sqrt)\n",
    "data_sqrt['rage'] = data_sqrt['Age'].apply(math.sqrt)"
   ]
  },
  {
   "cell_type": "code",
   "execution_count": 317,
   "metadata": {},
   "outputs": [],
   "source": [
    "#cross validation, split dataset to train and test model\n",
    "X_trainr, X_testr, y_trainr, y_testr = train_test_split(data_sqrt[[\"rroom\",\"rcime\",'rtravel',\"rage\"]],data_sqrt['Price'],random_state=111)\n"
   ]
  },
  {
   "cell_type": "code",
   "execution_count": 318,
   "metadata": {},
   "outputs": [],
   "source": [
    "#build linear model\n",
    "lm_root =  LinearRegression()"
   ]
  },
  {
   "cell_type": "code",
   "execution_count": 342,
   "metadata": {},
   "outputs": [
    {
     "name": "stdout",
     "output_type": "stream",
     "text": [
      "r-squared for this model =  0.458263485414528\n"
     ]
    }
   ],
   "source": [
    "#train model and test model\n",
    "lm_root.fit(X_trainr,y_trainr)\n",
    "print('r-squared for this model = ',lm_root.score(X_testr,y_testr))"
   ]
  },
  {
   "cell_type": "markdown",
   "metadata": {},
   "source": [
    "We can see that the performance of this model is better than original model and power model"
   ]
  },
  {
   "cell_type": "code",
   "execution_count": null,
   "metadata": {},
   "outputs": [],
   "source": []
  },
  {
   "cell_type": "markdown",
   "metadata": {},
   "source": [
    "## Compare and Conclude"
   ]
  },
  {
   "cell_type": "code",
   "execution_count": 349,
   "metadata": {},
   "outputs": [
    {
     "name": "stdout",
     "output_type": "stream",
     "text": [
      "r-squared for original model =  0.3067985355193844\n",
      "r-squared for log_linear_model =  0.2729572498292443\n",
      "r-squared for power_linear model =  0.32326221790583587\n",
      "r-squared for this model =  0.458263485414528\n"
     ]
    }
   ],
   "source": [
    "print('r-squared for original model = ',lm_original.score(X_test,y_test))\n",
    "print('r-squared for log_linear_model = ',lm_log.score(X_test_log,y_test_log))\n",
    "print('r-squared for power_linear model = ',lm_pow.score(X_test_p,y_test_p))\n",
    "print('r-squared for this model = ',lm_root.score(X_testr,y_testr))"
   ]
  },
  {
   "cell_type": "markdown",
   "metadata": {},
   "source": [
    "## Conclusion"
   ]
  },
  {
   "cell_type": "markdown",
   "metadata": {},
   "source": [
    "The reason of choosing the log and sqrt method to deal with attribute is that this two method are most commonly using approach for most data cases and more importantly, the distributions of this four attritubes are not normal and some are skewed. In practice, in order to reduce right skewness, take roots or logarithms or reciprocals, in order to reduce left skewness, take squares or cubes or higher powers, since  there are left and right skewed distribution of attributes, we try power and sqrt, and we can see the result sqrt have the best performance."
   ]
  }
 ],
 "metadata": {
  "kernelspec": {
   "display_name": "Python 3",
   "language": "python",
   "name": "python3"
  },
  "language_info": {
   "codemirror_mode": {
    "name": "ipython",
    "version": 3
   },
   "file_extension": ".py",
   "mimetype": "text/x-python",
   "name": "python",
   "nbconvert_exporter": "python",
   "pygments_lexer": "ipython3",
   "version": "3.7.1"
  }
 },
 "nbformat": 4,
 "nbformat_minor": 2
}
